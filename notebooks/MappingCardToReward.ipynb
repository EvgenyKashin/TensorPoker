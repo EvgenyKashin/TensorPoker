{
 "cells": [
  {
   "cell_type": "code",
   "execution_count": 11,
   "metadata": {},
   "outputs": [],
   "source": [
    "from pypokerengine.utils.card_utils import gen_cards, estimate_hole_card_win_rate, Card, Deck, _montecarlo_simulation,\\\n",
    "     _pick_unused_card\n",
    "\n",
    "import numpy as np\n",
    "import pickle\n",
    "import random\n",
    "\n",
    "import matplotlib.pyplot as plt\n",
    "%matplotlib inline"
   ]
  },
  {
   "cell_type": "code",
   "execution_count": 9,
   "metadata": {
    "collapsed": true
   },
   "outputs": [],
   "source": [
    "suits = list(Card.SUIT_MAP.values())\n",
    "ranks = list(Card.RANK_MAP.values())"
   ]
  },
  {
   "cell_type": "markdown",
   "metadata": {},
   "source": [
    "## Generating cards-winrate pairs"
   ]
  },
  {
   "cell_type": "code",
   "execution_count": 28,
   "metadata": {},
   "outputs": [],
   "source": [
    "def card_to_str(c):\n",
    "    return Card.SUIT_MAP[c.suit] + Card.RANK_MAP[c.rank]"
   ]
  },
  {
   "cell_type": "code",
   "execution_count": 14,
   "metadata": {
    "collapsed": true
   },
   "outputs": [],
   "source": [
    "def choice_k_random(k=2):\n",
    "    all_cards = [card_id for card_id in range(1, 53)]\n",
    "    choiced = random.sample(all_cards, k)\n",
    "    return [Card.from_id(card_id) for card_id in choiced]"
   ]
  },
  {
   "cell_type": "code",
   "execution_count": 85,
   "metadata": {
    "collapsed": true
   },
   "outputs": [],
   "source": [
    "def gen_n_card(n):\n",
    "    cards = choice_k_random(2)\n",
    "#     if n == 2:\n",
    "#         return [card_to_str(c) for c in cards]\n",
    "    if n in [5, 6, 7]:\n",
    "        com_cards = _pick_unused_card(n - 2, cards)\n",
    "        cards += com_cards\n",
    "    elif n != 2:\n",
    "        raise Exception('Wrong n!')\n",
    "    return [card_to_str(c) for c in cards]"
   ]
  },
  {
   "cell_type": "markdown",
   "metadata": {},
   "source": [
    "## Example"
   ]
  },
  {
   "cell_type": "code",
   "execution_count": 122,
   "metadata": {},
   "outputs": [],
   "source": [
    "d = gen_n_card(7)"
   ]
  },
  {
   "cell_type": "code",
   "execution_count": 123,
   "metadata": {},
   "outputs": [
    {
     "data": {
      "text/plain": [
       "['HK', 'H4', 'HA', 'H9', 'H3', 'DJ', 'C3']"
      ]
     },
     "execution_count": 123,
     "metadata": {},
     "output_type": "execute_result"
    }
   ],
   "source": [
    "d"
   ]
  },
  {
   "cell_type": "markdown",
   "metadata": {},
   "source": [
    "## Generating"
   ]
  },
  {
   "cell_type": "code",
   "execution_count": 114,
   "metadata": {
    "collapsed": true
   },
   "outputs": [],
   "source": [
    "data = []"
   ]
  },
  {
   "cell_type": "code",
   "execution_count": null,
   "metadata": {},
   "outputs": [
    {
     "name": "stdout",
     "output_type": "stream",
     "text": [
      "0\n"
     ]
    }
   ],
   "source": [
    "%%time\n",
    "for i in range(100_000):\n",
    "    c = gen_n_card(random.choice([2, 5, 6, 7]))\n",
    "    hc = gen_cards(c[:2])\n",
    "    cc = None\n",
    "    if len(c) > 2:\n",
    "        cc = gen_cards(c[2:])\n",
    "    wr = estimate_hole_card_win_rate(nb_simulation=200, nb_player=9, hole_card=hc, community_card=cc)\n",
    "    data.append([c, wr])\n",
    "    if i % 1000 == 0:\n",
    "        print(i)\n",
    "        with open('../cache/maping.pkl', 'wb') as f:\n",
    "            pickle.dump(data, f)"
   ]
  },
  {
   "cell_type": "code",
   "execution_count": 116,
   "metadata": {},
   "outputs": [],
   "source": [
    "with open('../cache/maping.pkl', 'wb') as f:\n",
    "    pickle.dump(data, f)"
   ]
  },
  {
   "cell_type": "code",
   "execution_count": null,
   "metadata": {
    "collapsed": true
   },
   "outputs": [],
   "source": []
  }
 ],
 "metadata": {
  "kernelspec": {
   "display_name": "Python 3",
   "language": "python",
   "name": "python3"
  },
  "language_info": {
   "codemirror_mode": {
    "name": "ipython",
    "version": 3
   },
   "file_extension": ".py",
   "mimetype": "text/x-python",
   "name": "python",
   "nbconvert_exporter": "python",
   "pygments_lexer": "ipython3",
   "version": "3.6.0"
  }
 },
 "nbformat": 4,
 "nbformat_minor": 2
}
