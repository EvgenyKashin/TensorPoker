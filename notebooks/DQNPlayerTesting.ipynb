{
 "cells": [
  {
   "cell_type": "code",
   "execution_count": 1,
   "metadata": {
    "collapsed": true
   },
   "outputs": [],
   "source": [
    "import numpy as np\n",
    "import matplotlib.pyplot as plt\n",
    "import pandas as pd\n",
    "%matplotlib inline\n",
    "\n",
    "from pypokerengine.players import BasePokerPlayer\n",
    "from pypokerengine.utils.card_utils import Card, Deck\n",
    "from pypokerengine.api.game import setup_config, start_poker\n",
    "\n",
    "import pickle\n",
    "import tensorflow as tf\n",
    "import random\n",
    "\n",
    "import sys\n",
    "sys.path.insert(0, '../scripts/')\n",
    "\n",
    "import PlayerModels as pm\n",
    "from MyEmulator import MyEmulator\n",
    "from DQNPlayer import DQNPlayer\n",
    "from util import *"
   ]
  },
  {
   "cell_type": "markdown",
   "metadata": {},
   "source": [
    "## Initialization"
   ]
  },
  {
   "cell_type": "code",
   "execution_count": 2,
   "metadata": {
    "collapsed": true
   },
   "outputs": [],
   "source": [
    "h_size = 128"
   ]
  },
  {
   "cell_type": "code",
   "execution_count": 3,
   "metadata": {},
   "outputs": [
    {
     "name": "stdout",
     "output_type": "stream",
     "text": [
      "INFO:tensorflow:Restoring parameters from ../cache/models/DQN/-8000\n",
      "CPU times: user 1.4 s, sys: 112 ms, total: 1.51 s\n",
      "Wall time: 1.44 s\n"
     ]
    }
   ],
   "source": [
    "%time main_wp = DQNPlayer(h_size=h_size, is_restore=True, is_train=False, debug=True, is_double=True)"
   ]
  },
  {
   "cell_type": "markdown",
   "metadata": {},
   "source": [
    "## Testing"
   ]
  },
  {
   "cell_type": "code",
   "execution_count": 4,
   "metadata": {},
   "outputs": [
    {
     "name": "stdout",
     "output_type": "stream",
     "text": [
      "(['Hole:', ['SQ', 'H2']],)\n",
      "(['Start stack:', 1500],)\n",
      "(['Estimation:', 0.0715],)\n",
      "Started the round 1\n",
      "Street \"preflop\" started. (community card = [])\n",
      "\"f4\" declared \"call:30\"\n",
      "\"f5\" declared \"call:30\"\n",
      "\"f6\" declared \"call:30\"\n",
      "\"f7\" declared \"call:30\"\n",
      "\"f8\" declared \"call:30\"\n",
      "\"f9\" declared \"call:30\"\n",
      "(array([ 2.54183745, -2.77816606, -1.80557466,  2.11717772, -3.04547715], dtype=float32),)\n",
      "\"wp\" declared \"fold:0\"\n",
      "\"f2\" declared \"call:30\"\n",
      "\"f3\" declared \"call:30\"\n",
      "Street \"flop\" started. (community card = ['H7', 'CA', 'H4'])\n",
      "\"f2\" declared \"call:0\"\n",
      "\"f3\" declared \"call:0\"\n",
      "\"f4\" declared \"call:0\"\n",
      "\"f5\" declared \"call:0\"\n",
      "\"f6\" declared \"call:0\"\n",
      "\"f7\" declared \"call:0\"\n",
      "\"f8\" declared \"call:0\"\n",
      "\"f9\" declared \"call:0\"\n",
      "Street \"turn\" started. (community card = ['H7', 'CA', 'H4', 'D7'])\n",
      "\"f2\" declared \"call:0\"\n",
      "\"f3\" declared \"call:0\"\n",
      "\"f4\" declared \"call:0\"\n",
      "\"f5\" declared \"call:0\"\n",
      "\"f6\" declared \"call:0\"\n",
      "\"f7\" declared \"call:0\"\n",
      "\"f8\" declared \"call:0\"\n",
      "\"f9\" declared \"call:0\"\n",
      "Street \"river\" started. (community card = ['H7', 'CA', 'H4', 'D7', 'S6'])\n",
      "\"f2\" declared \"call:0\"\n",
      "\"f3\" declared \"call:0\"\n",
      "\"f4\" declared \"call:0\"\n",
      "\"f5\" declared \"call:0\"\n",
      "\"f6\" declared \"call:0\"\n",
      "\"f7\" declared \"call:0\"\n",
      "\"f8\" declared \"call:0\"\n",
      "\"f9\" declared \"call:0\"\n",
      "\"['f2']\" won the round 1 (stack = {'wp': 1500, 'f2': 1710, 'f3': 1470, 'f4': 1470, 'f5': 1470, 'f6': 1470, 'f7': 1470, 'f8': 1470, 'f9': 1470})\n",
      "(['End stack:', 1500],)\n",
      "(['Hole:', ['C4', 'CT']],)\n",
      "(['Start stack:', 1500],)\n",
      "(['Estimation:', 0.1097],)\n",
      "Started the round 2\n",
      "Street \"preflop\" started. (community card = [])\n",
      "\"f5\" declared \"call:30\"\n",
      "\"f6\" declared \"call:30\"\n",
      "\"f7\" declared \"call:30\"\n",
      "\"f8\" declared \"call:30\"\n",
      "\"f9\" declared \"call:30\"\n",
      "(array([ 2.37689567, -5.90164185, -4.23557663, -3.25626397, -5.86516571], dtype=float32),)\n",
      "\"wp\" declared \"fold:0\"\n",
      "\"f2\" declared \"call:30\"\n",
      "\"f3\" declared \"call:30\"\n",
      "\"f4\" declared \"call:30\"\n",
      "Street \"flop\" started. (community card = ['D9', 'CQ', 'D4'])\n",
      "\"f3\" declared \"call:0\"\n",
      "\"f4\" declared \"call:0\"\n",
      "\"f5\" declared \"call:0\"\n",
      "\"f6\" declared \"call:0\"\n",
      "\"f7\" declared \"call:0\"\n",
      "\"f8\" declared \"call:0\"\n",
      "\"f9\" declared \"call:0\"\n",
      "\"f2\" declared \"call:0\"\n",
      "Street \"turn\" started. (community card = ['D9', 'CQ', 'D4', 'S9'])\n",
      "\"f3\" declared \"call:0\"\n",
      "\"f4\" declared \"call:0\"\n",
      "\"f5\" declared \"call:0\"\n",
      "\"f6\" declared \"call:0\"\n",
      "\"f7\" declared \"call:0\"\n",
      "\"f8\" declared \"call:0\"\n",
      "\"f9\" declared \"call:0\"\n",
      "\"f2\" declared \"call:0\"\n",
      "Street \"river\" started. (community card = ['D9', 'CQ', 'D4', 'S9', 'ST'])\n",
      "\"f3\" declared \"call:0\"\n",
      "\"f4\" declared \"call:0\"\n",
      "\"f5\" declared \"call:0\"\n",
      "\"f6\" declared \"call:0\"\n",
      "\"f7\" declared \"call:0\"\n",
      "\"f8\" declared \"call:0\"\n",
      "\"f9\" declared \"call:0\"\n",
      "\"f2\" declared \"call:0\"\n",
      "\"['f9']\" won the round 2 (stack = {'wp': 1500, 'f2': 1680, 'f3': 1440, 'f4': 1440, 'f5': 1440, 'f6': 1440, 'f7': 1440, 'f8': 1440, 'f9': 1680})\n",
      "(['End stack:', 1500],)\n"
     ]
    }
   ],
   "source": [
    "config = setup_config(max_round=2, initial_stack=1500, small_blind_amount=15, summary_file='/dev/null')\n",
    "\n",
    "config.register_player(name=\"wp\", algorithm=main_wp)\n",
    "# config.register_player(name=\"r2\", algorithm=RandomPlayer())\n",
    "config.register_player(name=\"f2\", algorithm=pm.CallPlayer())\n",
    "config.register_player(name=\"f3\", algorithm=pm.CallPlayer())\n",
    "config.register_player(name=\"f4\", algorithm=pm.CallPlayer())\n",
    "config.register_player(name=\"f5\", algorithm=pm.CallPlayer())\n",
    "config.register_player(name=\"f6\", algorithm=pm.CallPlayer())\n",
    "config.register_player(name=\"f7\", algorithm=pm.CallPlayer())\n",
    "config.register_player(name=\"f8\", algorithm=pm.CallPlayer())\n",
    "config.register_player(name=\"f9\", algorithm=pm.CallPlayer())\n",
    "\n",
    "game_result = start_poker(config, verbose=1)"
   ]
  },
  {
   "cell_type": "markdown",
   "metadata": {},
   "source": [
    "## Metric"
   ]
  },
  {
   "cell_type": "code",
   "execution_count": 14,
   "metadata": {},
   "outputs": [
    {
     "name": "stdout",
     "output_type": "stream",
     "text": [
      "INFO:tensorflow:Restoring parameters from ../cache/models/DQN/-8000\n",
      "CPU times: user 828 ms, sys: 112 ms, total: 940 ms\n",
      "Wall time: 867 ms\n"
     ]
    }
   ],
   "source": [
    "%time main_wp = DQNPlayer(h_size=h_size, is_restore=True, is_train=False, debug=False, is_double=True)"
   ]
  },
  {
   "cell_type": "code",
   "execution_count": 15,
   "metadata": {
    "collapsed": true
   },
   "outputs": [],
   "source": [
    "config = setup_config(max_round=50, initial_stack=1500, small_blind_amount=15, summary_file='/dev/null')\n",
    "\n",
    "config.register_player(name=\"wp\", algorithm=main_wp)\n",
    "# config.register_player(name=\"r2\", algorithm=RandomPlayer())\n",
    "config.register_player(name=\"CallPlayer1\", algorithm=pm.CallPlayer())\n",
    "config.register_player(name=\"CallPlayer2\", algorithm=pm.CallPlayer())\n",
    "config.register_player(name=\"FoldPlayer1\", algorithm=pm.FoldPlayer())\n",
    "config.register_player(name=\"FoldPlayer2\", algorithm=pm.FoldPlayer())\n",
    "config.register_player(name=\"HeuristicPlayer1\", algorithm=pm.HeuristicPlayer())\n",
    "config.register_player(name=\"HeuristicPlayer2\", algorithm=pm.HeuristicPlayer())\n",
    "config.register_player(name=\"RandomPlayer1\", algorithm=pm.RandomPlayer())\n",
    "config.register_player(name=\"RandomPlayer2\", algorithm=pm.RandomPlayer())"
   ]
  },
  {
   "cell_type": "code",
   "execution_count": 16,
   "metadata": {},
   "outputs": [
    {
     "name": "stdout",
     "output_type": "stream",
     "text": [
      "CPU times: user 22min 27s, sys: 492 ms, total: 22min 27s\n",
      "Wall time: 22min 25s\n"
     ]
    }
   ],
   "source": [
    "%%time\n",
    "d = None\n",
    "for i in range(100):\n",
    "    game_result = start_poker(config, verbose=0)\n",
    "    t = pd.DataFrame(game_result['players'])\n",
    "    t['round'] = i\n",
    "    if d is None:\n",
    "        d = t\n",
    "    else:\n",
    "        d = pd.concat((d, t))"
   ]
  },
  {
   "cell_type": "markdown",
   "metadata": {},
   "source": [
    "### With training only with CallPlayer for 3 hours"
   ]
  },
  {
   "cell_type": "code",
   "execution_count": 23,
   "metadata": {},
   "outputs": [
    {
     "data": {
      "text/plain": [
       "name\n",
       "RandomPlayer1        847.63\n",
       "RandomPlayer2        870.24\n",
       "wp                  1011.58\n",
       "FoldPlayer1         1106.70\n",
       "FoldPlayer2         1107.45\n",
       "HeuristicPlayer2    1257.65\n",
       "HeuristicPlayer1    1348.60\n",
       "CallPlayer1         2951.04\n",
       "CallPlayer2         2987.55\n",
       "Name: stack, dtype: float64"
      ]
     },
     "execution_count": 23,
     "metadata": {},
     "output_type": "execute_result"
    }
   ],
   "source": [
    "d.groupby('name').mean()['stack'].sort_values()"
   ]
  },
  {
   "cell_type": "markdown",
   "metadata": {},
   "source": [
    "### With training  with different players for 4 hours"
   ]
  },
  {
   "cell_type": "code",
   "execution_count": 8,
   "metadata": {},
   "outputs": [
    {
     "data": {
      "text/plain": [
       "name\n",
       "RandomPlayer2        301.11\n",
       "RandomPlayer1        908.14\n",
       "FoldPlayer2         1076.40\n",
       "FoldPlayer1         1077.45\n",
       "HeuristicPlayer2    1249.55\n",
       "HeuristicPlayer1    1675.50\n",
       "wp                  1689.70\n",
       "CallPlayer1         2550.21\n",
       "CallPlayer2         2965.17\n",
       "Name: stack, dtype: float64"
      ]
     },
     "execution_count": 8,
     "metadata": {},
     "output_type": "execute_result"
    }
   ],
   "source": [
    "d.groupby('name').mean()['stack'].sort_values()"
   ]
  },
  {
   "cell_type": "markdown",
   "metadata": {},
   "source": [
    "### With training  with different players for 8 hours"
   ]
  },
  {
   "cell_type": "code",
   "execution_count": 6,
   "metadata": {},
   "outputs": [
    {
     "data": {
      "text/plain": [
       "name\n",
       "RandomPlayer1        595.12\n",
       "RandomPlayer2        719.08\n",
       "FoldPlayer1         1080.90\n",
       "FoldPlayer2         1087.95\n",
       "HeuristicPlayer2    1155.82\n",
       "HeuristicPlayer1    1365.85\n",
       "wp                  1451.95\n",
       "CallPlayer2         2663.48\n",
       "CallPlayer1         3372.21\n",
       "Name: stack, dtype: float64"
      ]
     },
     "execution_count": 6,
     "metadata": {},
     "output_type": "execute_result"
    }
   ],
   "source": [
    "d.groupby('name').mean()['stack'].sort_values()"
   ]
  },
  {
   "cell_type": "markdown",
   "metadata": {},
   "source": [
    "### With training  with different players for 15 hours"
   ]
  },
  {
   "cell_type": "code",
   "execution_count": 10,
   "metadata": {},
   "outputs": [
    {
     "data": {
      "text/plain": [
       "name\n",
       "RandomPlayer1        706.92\n",
       "RandomPlayer2        944.37\n",
       "FoldPlayer1         1076.85\n",
       "FoldPlayer2         1077.45\n",
       "HeuristicPlayer2    1270.39\n",
       "HeuristicPlayer1    1343.57\n",
       "wp                  2168.95\n",
       "CallPlayer1         2341.03\n",
       "CallPlayer2         2560.93\n",
       "Name: stack, dtype: float64"
      ]
     },
     "execution_count": 10,
     "metadata": {},
     "output_type": "execute_result"
    }
   ],
   "source": [
    "d.groupby('name').mean()['stack'].sort_values()"
   ]
  },
  {
   "cell_type": "markdown",
   "metadata": {},
   "source": [
    "### With training  with different players for 26 hours"
   ]
  },
  {
   "cell_type": "code",
   "execution_count": null,
   "metadata": {
    "collapsed": true
   },
   "outputs": [],
   "source": [
    "d.groupby('name').mean()['stack'].sort_values()"
   ]
  },
  {
   "cell_type": "code",
   "execution_count": null,
   "metadata": {
    "collapsed": true
   },
   "outputs": [],
   "source": []
  }
 ],
 "metadata": {
  "kernelspec": {
   "display_name": "Python 3",
   "language": "python",
   "name": "python3"
  },
  "language_info": {
   "codemirror_mode": {
    "name": "ipython",
    "version": 3
   },
   "file_extension": ".py",
   "mimetype": "text/x-python",
   "name": "python",
   "nbconvert_exporter": "python",
   "pygments_lexer": "ipython3",
   "version": "3.6.0"
  }
 },
 "nbformat": 4,
 "nbformat_minor": 2
}
