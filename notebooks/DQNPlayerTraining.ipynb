{
 "cells": [
  {
   "cell_type": "code",
   "execution_count": 2,
   "metadata": {
    "collapsed": true
   },
   "outputs": [],
   "source": [
    "import numpy as np\n",
    "import matplotlib.pyplot as plt\n",
    "from pypokerengine.players import BasePokerPlayer\n",
    "from pypokerengine.utils.card_utils import Card, Deck\n",
    "from pypokerengine.utils.game_state_utils import restore_game_state\n",
    "from pypokerengine.api.game import setup_config, start_poker\n",
    "from pypokerengine.api.emulator import Emulator, ActionChecker, RoundManager,MessageBuilder, Const, Event,\\\n",
    "                                       DataEncoder\n",
    "import tensorflow as tf\n",
    "\n",
    "import pickle\n",
    "%matplotlib inline"
   ]
  },
  {
   "cell_type": "markdown",
   "metadata": {},
   "source": [
    "## FishPlayer"
   ]
  },
  {
   "cell_type": "code",
   "execution_count": 3,
   "metadata": {
    "collapsed": true
   },
   "outputs": [],
   "source": [
    "class FishPlayer(BasePokerPlayer):  # Do not forget to make parent class as \"BasePokerPlayer\"\n",
    "\n",
    "    #  we define the logic to make an action through this method. (so this method would be the core of your AI)\n",
    "    def declare_action(self, valid_actions, hole_card, round_state):\n",
    "        # valid_actions format => [raise_action_info, call_action_info, fold_action_info]\n",
    "        call_action_info = valid_actions[1]\n",
    "        action, amount = call_action_info[\"action\"], call_action_info[\"amount\"]\n",
    "        return action, amount   # action returned here is sent to the poker engine\n",
    "\n",
    "    def receive_game_start_message(self, game_info):\n",
    "        pass\n",
    "\n",
    "    def receive_round_start_message(self, round_count, hole_card, seats):\n",
    "        pass\n",
    "\n",
    "    def receive_street_start_message(self, street, round_state):\n",
    "#         global start_state\n",
    "#         start_state = restore_game_state(round_state)\n",
    "        game_state = restore_game_state(round_state)\n",
    "        print(game_state)\n",
    "        pass\n",
    "\n",
    "    def receive_game_update_message(self, action, round_state):\n",
    "        pass\n",
    "\n",
    "    def receive_round_result_message(self, winners, hand_info, round_state):\n",
    "        pass"
   ]
  },
  {
   "cell_type": "markdown",
   "metadata": {},
   "source": [
    "## Emulator"
   ]
  },
  {
   "cell_type": "code",
   "execution_count": 4,
   "metadata": {
    "collapsed": true
   },
   "outputs": [],
   "source": [
    "class MyEmulator(Emulator):\n",
    "    def run_until_my_next_action(self, game_state, my_uuid, my_messages):\n",
    "        try:\n",
    "            _ = self.mailbox\n",
    "        except:\n",
    "            self.mailbox = None\n",
    "    \n",
    "        if self.mailbox is not None and len(self.mailbox) > 0:\n",
    "            self.mailbox += my_messages\n",
    "        else:\n",
    "#             print('start round')\n",
    "            self.mailbox = []\n",
    "            round_state = DataEncoder.encode_round_state(game_state)\n",
    "            seats = round_state['seats']\n",
    "            self.start_stack = [s['stack'] for s in seats if s['uuid'] == my_uuid][0]\n",
    "            \n",
    "        while game_state[\"street\"] != Const.Street.FINISHED:\n",
    "            next_player_pos = game_state[\"next_player\"]\n",
    "            next_player_uuid = game_state[\"table\"].seats.players[next_player_pos].uuid     \n",
    "#             print(next_player_uuid)\n",
    "            next_player_algorithm = self.fetch_player(next_player_uuid)\n",
    "            msg = MessageBuilder.build_ask_message(next_player_pos, game_state)[\"message\"]\n",
    "            if next_player_uuid == my_uuid:\n",
    "#                 print(msg[\"valid_actions\"])\n",
    "                return game_state, msg[\"valid_actions\"], msg[\"hole_card\"], msg[\"round_state\"]\n",
    "            \n",
    "            action, amount = next_player_algorithm.declare_action(\\\n",
    "                    msg[\"valid_actions\"], msg[\"hole_card\"], msg[\"round_state\"])\n",
    "            \n",
    "            game_state, messages = RoundManager.apply_action(game_state, action, amount)\n",
    "            self.mailbox += messages\n",
    "        events = [self.create_event(message[1][\"message\"]) for message in self.mailbox]\n",
    "        events = [e for e in events if e]\n",
    "        self.mailbox = []\n",
    "        \n",
    "        round_state = DataEncoder.encode_round_state(game_state)\n",
    "        seats = round_state['seats']\n",
    "        end_stack = [s['stack'] for s in seats if s['uuid'] == my_uuid][0]\n",
    "#         print('finish, reward', end_stack - self.start_stack, end_stack)\n",
    "\n",
    "        if self._is_last_round(game_state, self.game_rule):\n",
    "#             print('last_round')\n",
    "            events += self._generate_game_result_event(game_state)\n",
    "            \n",
    "        return game_state, end_stack - self.start_stack\n",
    "    \n",
    "    def apply_my_action(self, game_state, action, bet_amount=0):\n",
    "        updated_state, messages = RoundManager.apply_action(game_state, action, bet_amount)\n",
    "        return updated_state, messages"
   ]
  },
  {
   "cell_type": "markdown",
   "metadata": {},
   "source": [
    "## Util"
   ]
  },
  {
   "cell_type": "code",
   "execution_count": 5,
   "metadata": {
    "collapsed": true
   },
   "outputs": [],
   "source": [
    "suits = list(Card.SUIT_MAP.keys())\n",
    "ranks = list(Card.RANK_MAP.keys())\n",
    "\n",
    "def gen_card_im(card):\n",
    "    a = np.zeros((4, 13))\n",
    "    s = suits.index(card.suit)\n",
    "    r = ranks.index(card.rank)\n",
    "    a[s, r] = 1\n",
    "    return np.pad(a, ((6, 7), (2, 2)), 'constant', constant_values=0)\n",
    "\n",
    "streep_map = {\n",
    "    'preflop': 0,\n",
    "    'flop': 1,\n",
    "    'turn': 2,\n",
    "    'river': 3\n",
    "}\n",
    "\n",
    "def get_street(s):\n",
    "    val = [0, 0, 0, 0]\n",
    "    val[streep_map[s]] = 1\n",
    "    return val\n",
    "\n",
    "def get_card_features(cards):\n",
    "    imgs = np.zeros((8, 17, 17))\n",
    "    for i, c in enumerate(cards):\n",
    "        imgs[i] = gen_card_im(Card.from_str(c))\n",
    "    imgs[7] = imgs[:7].sum(axis=0)\n",
    "    return imgs"
   ]
  },
  {
   "cell_type": "markdown",
   "metadata": {},
   "source": [
    "## My bot"
   ]
  },
  {
   "cell_type": "markdown",
   "metadata": {},
   "source": [
    "#### TODO:"
   ]
  },
  {
   "cell_type": "markdown",
   "metadata": {},
   "source": [
    "Добавить последнее действие фичей"
   ]
  },
  {
   "cell_type": "code",
   "execution_count": 6,
   "metadata": {
    "collapsed": true
   },
   "outputs": [],
   "source": [
    "total_num_actions = 5"
   ]
  },
  {
   "cell_type": "code",
   "execution_count": 7,
   "metadata": {
    "collapsed": true
   },
   "outputs": [],
   "source": [
    "# class WinnerPlayer(BasePokerPlayer):\n",
    "#     def __init__(self, h_size=128, debug=False, is_main=True, is_restore=True, is_train=True):      \n",
    "#         self.debug = debug\n",
    "#         self.h_size = h_size\n",
    "        \n",
    "#         with open('./hole_card_estimation.pkl', 'rb') as f:\n",
    "#             self.hole_card_est = pickle.load(f)\n",
    "        \n",
    "#         if not is_train:\n",
    "#             tf.reset_default_graph()\n",
    "        \n",
    "#         self.scalar_input = tf.placeholder(tf.float32, [None, 17 * 17 * 8])\n",
    "#         self.features_input = tf.placeholder(tf.float32, [None, 20])\n",
    "        \n",
    "#         xavier_init = tf.contrib.layers.xavier_initializer()\n",
    "        \n",
    "#         self.img_in = tf.reshape(self.scalar_input, [-1, 17, 17, 8])\n",
    "#         self.conv1 = tf.layers.conv2d(self.img_in, 32, 5, 2, activation=tf.nn.elu, kernel_initializer=xavier_init)\n",
    "#         self.conv2 = tf.layers.conv2d(self.conv1, 64, 3, activation=tf.nn.elu, kernel_initializer=xavier_init)\n",
    "#         self.conv3 = tf.layers.conv2d(self.conv2, self.h_size, 5, activation=tf.nn.elu, kernel_initializer=xavier_init)\n",
    "#         self.conv3_flat = tf.contrib.layers.flatten(self.conv3)\n",
    "#         self.conv3_flat = tf.layers.dropout(self.conv3_flat)\n",
    "        \n",
    "#         self.d1 = tf.layers.dense(self.features_input, 64, activation=tf.nn.elu, kernel_initializer=xavier_init)\n",
    "#         self.d1 = tf.layers.dropout(self.d1)\n",
    "#         self.d2 = tf.layers.dense(self.d1, 128, activation=tf.nn.elu, kernel_initializer=xavier_init)\n",
    "#         self.d2 = tf.layers.dropout(self.d2)\n",
    "        \n",
    "#         self.merge = tf.concat([self.conv3_flat, self.d2], axis=1)\n",
    "#         self.d3 = tf.layers.dense(self.merge, 256, activation=tf.nn.elu, kernel_initializer=xavier_init)\n",
    "#         self.d3 = tf.layers.dropout(self.d3)\n",
    "#         self.d4 = tf.layers.dense(self.d3, self.h_size, activation=tf.nn.elu, kernel_initializer=xavier_init)\n",
    "        \n",
    "# #         self.stream_A, self.stream_V = tf.split(self.d4, 2, 1)\n",
    "# #         self.AW = tf.Variable(xavier_init([self.h_size // 2, total_num_actions]))\n",
    "# #         self.VW = tf.Variable(xavier_init([self.h_size // 2, 1]))\n",
    "        \n",
    "# #         self.advantage = tf.matmul(self.stream_A, self.AW)\n",
    "# #         self.value = tf.matmul(self.stream_V, self.VW)\n",
    "        \n",
    "# #         self.Q_out = self.value + tf.subtract(self.advantage, tf.reduce_mean(self.advantage, 1, True))\n",
    "#         self.Q_out = tf.layers.dense(self.d4, 5, kernel_initializer=xavier_init)\n",
    "#         self.predict = tf.argmax(self.Q_out, 1)\n",
    "        \n",
    "#         self.target_Q = tf.placeholder(tf.float32, [None])\n",
    "#         self.actions = tf.placeholder(tf.int32, [None])\n",
    "#         self.actions_onehot = tf.one_hot(self.actions, total_num_actions, dtype=tf.float32)\n",
    "        \n",
    "#         self.Q = tf.reduce_sum(tf.multiply(self.Q_out, self.actions_onehot), axis=1)\n",
    "        \n",
    "#         self.td_error = tf.square(self.Q - self.target_Q)\n",
    "#         self.loss = tf.reduce_mean(self.td_error)\n",
    "        \n",
    "#         if is_main:\n",
    "#             variables = tf.trainable_variables() # [:len(tf.trainable_variables()) // 2]\n",
    "#             if is_train:\n",
    "#                 print(len(variables))\n",
    "#                 print(variables)\n",
    "#             self.gradients = tf.gradients(self.loss, variables)\n",
    "# #             self.grad_norms = tf.global_norm(self.gradients)\n",
    "#             self.var_norms = tf.global_norm(variables)\n",
    "#             grads, self.grad_norms = tf.clip_by_global_norm(self.gradients, 200)\n",
    "#             self.grad_norms = tf.global_norm(grads)\n",
    "#             self.trainer = tf.train.AdamOptimizer(0.0001)\n",
    "# #             self.trainer = tf.train.AdagradOptimizer(0.001)\n",
    "\n",
    "# #             self.update_model = self.trainer.minimize(self.loss)\n",
    "#             self.update_model = self.trainer.apply_gradients(zip(grads, variables))\n",
    "\n",
    "#             self.summary_writer = tf.summary.FileWriter('log')\n",
    "            \n",
    "#         if not is_train:\n",
    "#             self.init = tf.global_variables_initializer()\n",
    "#             self.sess = tf.Session()\n",
    "#             self.sess.run(self.init)\n",
    "        \n",
    "#         if is_restore:\n",
    "#             self.saver = tf.train.Saver()\n",
    "#             ckpt = tf.train.get_checkpoint_state('models')\n",
    "#             self.saver.restore(self.sess, ckpt.model_checkpoint_path)\n",
    "        \n",
    "#     def _print(self, *msg):\n",
    "#         if self.debug:\n",
    "#             print(msg)\n",
    "        \n",
    "#     def declare_action(self, valid_actions, hole_card, round_state):\n",
    "#         street = round_state['street']\n",
    "#         bank = round_state['pot']['main']['amount']\n",
    "#         stack = [s['stack'] for s in round_state['seats'] if s['uuid'] == self.uuid][0]\n",
    "#         other_stacks = [s['stack'] for s in round_state['seats'] if s['uuid'] != self.uuid]\n",
    "#         dealer_btn = round_state['dealer_btn']\n",
    "#         small_blind_pos = round_state['small_blind_pos']\n",
    "#         big_blind_pos = round_state['big_blind_pos']\n",
    "#         next_player = round_state['next_player']\n",
    "#         round_count = round_state['round_count']\n",
    "#         estimation = self.hole_card_est[(hole_card[0], hole_card[1])]\n",
    "\n",
    "        \n",
    "#         self.features = get_street(street)\n",
    "#         self.features.extend([bank, stack, dealer_btn, small_blind_pos, big_blind_pos, next_player, round_count])\n",
    "#         self.features.extend(other_stacks)\n",
    "#         self.features.append(estimation)\n",
    "        \n",
    "#         img_state = img_from_state(hole_card, round_state)\n",
    "#         img_state = process_img(img_state)\n",
    "#         action_num = self.sess.run(self.predict, feed_dict={self.scalar_input: [img_state],\n",
    "#                                                             self.features_input: [self.features]})[0]\n",
    "#         qs = self.sess.run(self.Q_out, feed_dict={self.scalar_input: [img_state]})[0]\n",
    "#         self._print(qs)\n",
    "#         action, amount = get_action_by_num(action_num, valid_actions)                    \n",
    "\n",
    "# #         if not self.debug and np.random.rand() < 0.2:\n",
    "# #             self.action_num = np.random.randint(0, 5)\n",
    "#         return action, amount\n",
    "        \n",
    "#     def receive_game_start_message(self, game_info):\n",
    "#         pass\n",
    "    \n",
    "#     def receive_round_start_message(self, round_count, hole_card, seats):\n",
    "#         self._print(['Hole:', hole_card])        \n",
    "#         self.start_stack = [s['stack'] for s in seats if s['uuid'] == self.uuid][0]\n",
    "#         self._print(['Start stack:', self.start_stack])\n",
    "#         estimation = self.hole_card_est[(hole_card[0], hole_card[1])]\n",
    "#         self._print(['Estimation:', estimation])\n",
    "    \n",
    "#     def receive_street_start_message(self, street, round_state):\n",
    "#         pass\n",
    "            \n",
    "#     def receive_game_update_message(self, action, round_state):\n",
    "#         pass\n",
    "    \n",
    "#     def receive_round_result_message(self, winners, hand_info, round_state):\n",
    "#         end_stack = [s['stack'] for s in round_state['seats'] if s['uuid'] == self.uuid][0]\n",
    "#         self._print(['End stack:', end_stack])"
   ]
  },
  {
   "cell_type": "code",
   "execution_count": 8,
   "metadata": {
    "collapsed": true
   },
   "outputs": [],
   "source": [
    "# class WinnerPlayer(BasePokerPlayer):\n",
    "#     def __init__(self, h_size=128, debug=False, is_main=True, is_restore=True, is_train=True):      \n",
    "#         self.debug = debug\n",
    "#         self.h_size = h_size\n",
    "        \n",
    "#         with open('./hole_card_estimation.pkl', 'rb') as f:\n",
    "#             self.hole_card_est = pickle.load(f)\n",
    "        \n",
    "#         if not is_train:\n",
    "#             tf.reset_default_graph()\n",
    "        \n",
    "#         self.scalar_input = tf.placeholder(tf.float32, [None, 17 * 17 * 1])\n",
    "#         self.features_input = tf.placeholder(tf.float32, [None, 20])\n",
    "        \n",
    "#         xavier_init = tf.contrib.layers.xavier_initializer()\n",
    "        \n",
    "#         self.img_in = tf.reshape(self.scalar_input, [-1, 17, 17, 1])\n",
    "#         self.conv1 = tf.layers.conv2d(self.img_in, 32, 5, 2, activation=tf.nn.elu, kernel_initializer=xavier_init)\n",
    "#         self.conv2 = tf.layers.conv2d(self.conv1, 64, 3, activation=tf.nn.elu, kernel_initializer=xavier_init)\n",
    "#         self.conv3 = tf.layers.conv2d(self.conv2, self.h_size, 5, activation=tf.nn.elu, kernel_initializer=xavier_init)\n",
    "#         self.conv3_flat = tf.contrib.layers.flatten(self.conv3)\n",
    "#         self.conv3_flat = tf.layers.dropout(self.conv3_flat)\n",
    "        \n",
    "#         self.d1 = tf.layers.dense(self.features_input, 64, activation=tf.nn.elu, kernel_initializer=xavier_init)\n",
    "#         self.d1 = tf.layers.dropout(self.d1)\n",
    "#         self.d2 = tf.layers.dense(self.d1, 128, activation=tf.nn.elu, kernel_initializer=xavier_init)\n",
    "#         self.d2 = tf.layers.dropout(self.d2)\n",
    "        \n",
    "#         self.merge = tf.concat([self.conv3_flat, self.d2], axis=1)\n",
    "#         self.d3 = tf.layers.dense(self.merge, 256, activation=tf.nn.elu, kernel_initializer=xavier_init)\n",
    "#         self.d3 = tf.layers.dropout(self.d3)\n",
    "#         self.d4 = tf.layers.dense(self.d3, self.h_size, activation=tf.nn.elu, kernel_initializer=xavier_init)\n",
    "        \n",
    "# #         self.stream_A, self.stream_V = tf.split(self.d4, 2, 1)\n",
    "# #         self.AW = tf.Variable(xavier_init([self.h_size // 2, total_num_actions]))\n",
    "# #         self.VW = tf.Variable(xavier_init([self.h_size // 2, 1]))\n",
    "        \n",
    "# #         self.advantage = tf.matmul(self.stream_A, self.AW)\n",
    "# #         self.value = tf.matmul(self.stream_V, self.VW)\n",
    "        \n",
    "# #         self.Q_out = self.value + tf.subtract(self.advantage, tf.reduce_mean(self.advantage, 1, True))\n",
    "#         self.Q_out = tf.layers.dense(self.d4, 5, kernel_initializer=xavier_init)\n",
    "#         self.predict = tf.argmax(self.Q_out, 1)\n",
    "        \n",
    "#         self.target_Q = tf.placeholder(tf.float32, [None])\n",
    "#         self.actions = tf.placeholder(tf.int32, [None])\n",
    "#         self.actions_onehot = tf.one_hot(self.actions, total_num_actions, dtype=tf.float32)\n",
    "        \n",
    "#         self.Q = tf.reduce_sum(tf.multiply(self.Q_out, self.actions_onehot), axis=1)\n",
    "        \n",
    "#         self.td_error = tf.square(self.Q - self.target_Q)\n",
    "#         self.loss = tf.reduce_mean(self.td_error)\n",
    "        \n",
    "#         if is_main:\n",
    "#             variables = tf.trainable_variables() # [:len(tf.trainable_variables()) // 2]\n",
    "#             if is_train:\n",
    "#                 print(len(variables))\n",
    "#                 print(variables)\n",
    "#             self.gradients = tf.gradients(self.loss, variables)\n",
    "# #             self.grad_norms = tf.global_norm(self.gradients)\n",
    "#             self.var_norms = tf.global_norm(variables)\n",
    "#             grads, self.grad_norms = tf.clip_by_global_norm(self.gradients, 200)\n",
    "#             self.grad_norms = tf.global_norm(grads)\n",
    "#             self.trainer = tf.train.AdamOptimizer(0.0001)\n",
    "# #             self.trainer = tf.train.AdagradOptimizer(0.001)\n",
    "\n",
    "# #             self.update_model = self.trainer.minimize(self.loss)\n",
    "#             self.update_model = self.trainer.apply_gradients(zip(grads, variables))\n",
    "\n",
    "#             self.summary_writer = tf.summary.FileWriter('log')\n",
    "            \n",
    "#         if not is_train:\n",
    "#             self.init = tf.global_variables_initializer()\n",
    "#             self.sess = tf.Session()\n",
    "#             self.sess.run(self.init)\n",
    "        \n",
    "#         if is_restore:\n",
    "#             self.saver = tf.train.Saver()\n",
    "#             ckpt = tf.train.get_checkpoint_state('models')\n",
    "#             self.saver.restore(self.sess, ckpt.model_checkpoint_path)\n",
    "        \n",
    "#     def _print(self, *msg):\n",
    "#         if self.debug:\n",
    "#             print(msg)\n",
    "        \n",
    "#     def declare_action(self, valid_actions, hole_card, round_state):\n",
    "#         street = round_state['street']\n",
    "#         bank = round_state['pot']['main']['amount']\n",
    "#         stack = [s['stack'] for s in round_state['seats'] if s['uuid'] == self.uuid][0]\n",
    "#         other_stacks = [s['stack'] for s in round_state['seats'] if s['uuid'] != self.uuid]\n",
    "#         dealer_btn = round_state['dealer_btn']\n",
    "#         small_blind_pos = round_state['small_blind_pos']\n",
    "#         big_blind_pos = round_state['big_blind_pos']\n",
    "#         next_player = round_state['next_player']\n",
    "#         round_count = round_state['round_count']\n",
    "#         estimation = self.hole_card_est[(hole_card[0], hole_card[1])]\n",
    "\n",
    "        \n",
    "#         self.features = get_street(street)\n",
    "#         self.features.extend([bank, stack, dealer_btn, small_blind_pos, big_blind_pos, next_player, round_count])\n",
    "#         self.features.extend(other_stacks)\n",
    "#         self.features.append(estimation)\n",
    "        \n",
    "#         img_state = img_from_state(hole_card, round_state)\n",
    "#         img_state = process_img(img_state)\n",
    "#         action_num = self.sess.run(self.predict, feed_dict={self.scalar_input: [img_state],\n",
    "#                                                             self.features_input: [self.features]})[0]\n",
    "#         qs = self.sess.run(self.Q_out, feed_dict={self.scalar_input: [img_state]})[0]\n",
    "#         self._print(qs)\n",
    "#         action, amount = get_action_by_num(action_num, valid_actions)                    \n",
    "\n",
    "# #         if not self.debug and np.random.rand() < 0.2:\n",
    "# #             self.action_num = np.random.randint(0, 5)\n",
    "#         return action, amount\n",
    "        \n",
    "#     def receive_game_start_message(self, game_info):\n",
    "#         pass\n",
    "    \n",
    "#     def receive_round_start_message(self, round_count, hole_card, seats):\n",
    "#         self._print(['Hole:', hole_card])        \n",
    "#         self.start_stack = [s['stack'] for s in seats if s['uuid'] == self.uuid][0]\n",
    "#         self._print(['Start stack:', self.start_stack])\n",
    "#         estimation = self.hole_card_est[(hole_card[0], hole_card[1])]\n",
    "#         self._print(['Estimation:', estimation])\n",
    "    \n",
    "#     def receive_street_start_message(self, street, round_state):\n",
    "#         pass\n",
    "            \n",
    "#     def receive_game_update_message(self, action, round_state):\n",
    "#         pass\n",
    "    \n",
    "#     def receive_round_result_message(self, winners, hand_info, round_state):\n",
    "#         end_stack = [s['stack'] for s in round_state['seats'] if s['uuid'] == self.uuid][0]\n",
    "#         self._print(['End stack:', end_stack])"
   ]
  },
  {
   "cell_type": "code",
   "execution_count": 11,
   "metadata": {},
   "outputs": [],
   "source": [
    "import sys\n",
    "sys.path.insert(0, '../scripts/')\n",
    "from DQNPlayer import DQNPlayer"
   ]
  },
  {
   "cell_type": "code",
   "execution_count": 12,
   "metadata": {
    "collapsed": true
   },
   "outputs": [],
   "source": [
    "a = DQNPlayer(is_double=True)"
   ]
  },
  {
   "cell_type": "code",
   "execution_count": 13,
   "metadata": {
    "collapsed": true
   },
   "outputs": [],
   "source": [
    "tf.reset_default_graph()"
   ]
  },
  {
   "cell_type": "markdown",
   "metadata": {},
   "source": [
    "### Experience replay"
   ]
  },
  {
   "cell_type": "markdown",
   "metadata": {},
   "source": [
    "#### TODO: prioritize"
   ]
  },
  {
   "cell_type": "code",
   "execution_count": 14,
   "metadata": {
    "collapsed": true
   },
   "outputs": [],
   "source": [
    "import random"
   ]
  },
  {
   "cell_type": "code",
   "execution_count": 15,
   "metadata": {
    "collapsed": true
   },
   "outputs": [],
   "source": [
    "class ExperienceBuffer():\n",
    "    def __init__(self, buffer_size=5_000):\n",
    "        self.buffer = []\n",
    "        self.buffer_size = buffer_size\n",
    "    \n",
    "    def add(self, experience):\n",
    "        if len(self.buffer) + len(experience) >= self.buffer_size:\n",
    "            self.buffer[0:len(self.buffer) + len(experience) - self.buffer_size] = []\n",
    "        self.buffer.extend(experience)\n",
    "    \n",
    "    def sample(self, size):\n",
    "        return np.reshape(np.array(random.sample(self.buffer, size)), [size, 7])"
   ]
  },
  {
   "cell_type": "code",
   "execution_count": 16,
   "metadata": {
    "collapsed": true
   },
   "outputs": [],
   "source": [
    "# def process_img(img):\n",
    "#     return np.reshape(img, [17 * 17 * 8])"
   ]
  },
  {
   "cell_type": "code",
   "execution_count": 17,
   "metadata": {
    "collapsed": true
   },
   "outputs": [],
   "source": [
    "def process_img(img):\n",
    "    return np.reshape(img, [17 * 17 * 1])"
   ]
  },
  {
   "cell_type": "markdown",
   "metadata": {},
   "source": [
    "### Graph"
   ]
  },
  {
   "cell_type": "code",
   "execution_count": 18,
   "metadata": {
    "collapsed": true
   },
   "outputs": [],
   "source": [
    "def update_target_graph(tf_vars, tau):\n",
    "    total_vars = len(tf_vars)\n",
    "    ops = []\n",
    "    for i, var in enumerate(tf_vars[0:total_vars // 2]):\n",
    "        ops.append(tf_vars[i + total_vars // 2].assign((var.value() * tau) +\n",
    "                                                       (tf_vars[i + total_vars // 2].value() * (1 - tau))))\n",
    "    return ops\n",
    "\n",
    "def update_target(ops, sess):\n",
    "    for op in ops:\n",
    "        sess.run(op)"
   ]
  },
  {
   "cell_type": "markdown",
   "metadata": {},
   "source": [
    "## Training"
   ]
  },
  {
   "cell_type": "code",
   "execution_count": 27,
   "metadata": {
    "collapsed": true
   },
   "outputs": [],
   "source": [
    "batch_size = 128\n",
    "update_freq = 50 # how often to update model\n",
    "y = 0.99 # discount\n",
    "start_E = 1 # starting chance of random action\n",
    "end_E = 0.2 # final chance of random action\n",
    "annealings_steps = 100_000 # how many steps to reduce start_E to end_E\n",
    "num_episodes = 500_000\n",
    "pre_train_steps = 5_000 # how many steps of random action before training begin\n",
    "load_model = False\n",
    "path = '../cache/models/'\n",
    "h_size = 128 # the size of final conv layer before spliting it into advantage and value streams\n",
    "tau = 0.01 # rate to update target network toward primary network"
   ]
  },
  {
   "cell_type": "code",
   "execution_count": 28,
   "metadata": {
    "collapsed": true
   },
   "outputs": [],
   "source": [
    "def get_action_by_num(action_num, valid_actions, is_train=True):\n",
    "    if action_num == 0:\n",
    "        action, amount = valid_actions[0]['action'], valid_actions[0]['amount']\n",
    "    elif action_num == 1:\n",
    "        action, amount = valid_actions[1]['action'], valid_actions[1]['amount']\n",
    "    elif action_num == 2:\n",
    "        action, amount = valid_actions[2]['action'], valid_actions[2]['amount']['min']\n",
    "    elif action_num == 3:\n",
    "        action, amount = valid_actions[2]['action'], valid_actions[2]['amount']['max']\n",
    "    elif action_num == 4:\n",
    "        action, amount = valid_actions[2]['action'], int(valid_actions[2]['amount']['max'] // 2)\n",
    "        \n",
    "    if not is_train and amount == -1:\n",
    "        print(action, amount)\n",
    "        action, amount = valid_actions[1]['action'], valid_actions[1]['amount']\n",
    "    return action, amount"
   ]
  },
  {
   "cell_type": "code",
   "execution_count": 29,
   "metadata": {
    "collapsed": true
   },
   "outputs": [],
   "source": [
    "# def img_from_state(hole_card, round_state):\n",
    "#     imgs = np.zeros((8, 17, 17))\n",
    "#     for i, c in enumerate(hole_card):\n",
    "#         imgs[i] = gen_card_im(Card.from_str(c))\n",
    "\n",
    "#     for i, c in enumerate(round_state['community_card']):\n",
    "#         imgs[i + 2] = gen_card_im(Card.from_str(c))\n",
    "\n",
    "#     imgs[7] = imgs[:7].sum(axis=0)\n",
    "# #     return imgs\n",
    "#     return np.swapaxes(imgs, 0, 2)"
   ]
  },
  {
   "cell_type": "code",
   "execution_count": 30,
   "metadata": {
    "collapsed": true
   },
   "outputs": [],
   "source": [
    "def img_from_state(hole_card, round_state):\n",
    "    imgs = np.zeros((8, 17, 17))\n",
    "    for i, c in enumerate(hole_card):\n",
    "        imgs[i] = gen_card_im(Card.from_str(c))\n",
    "\n",
    "    for i, c in enumerate(round_state['community_card']):\n",
    "        imgs[i + 2] = gen_card_im(Card.from_str(c))\n",
    "\n",
    "    imgs[7] = imgs[:7].sum(axis=0)\n",
    "#     return imgs\n",
    "    return np.swapaxes(imgs, 0, 2)[:, :, -1:]"
   ]
  },
  {
   "cell_type": "code",
   "execution_count": 31,
   "metadata": {
    "collapsed": true
   },
   "outputs": [],
   "source": [
    "emul = MyEmulator()\n",
    "emul.set_game_rule(9, 50, 15, 0)\n",
    "my_uuid = '1'\n",
    "players_info = {\n",
    "    \"1\": { \"name\": \"f1\", \"stack\": 1500 },\n",
    "    \"2\": { \"name\": \"f2\", \"stack\": 1500 },\n",
    "    \"3\": { \"name\": \"f3\", \"stack\": 1500 },\n",
    "    \"4\": { \"name\": \"f4\", \"stack\": 1500 },\n",
    "    \"5\": { \"name\": \"f5\", \"stack\": 1500 },\n",
    "    \"6\": { \"name\": \"f6\", \"stack\": 1500 },\n",
    "    \"7\": { \"name\": \"f7\", \"stack\": 1500 },\n",
    "    \"8\": { \"name\": \"f8\", \"stack\": 1500 },\n",
    "    \"9\": { \"name\": \"f9\", \"stack\": 1500 }\n",
    "}"
   ]
  },
  {
   "cell_type": "code",
   "execution_count": 32,
   "metadata": {
    "collapsed": true
   },
   "outputs": [],
   "source": [
    "def init_emul(my_uuid_):\n",
    "    global my_uuid\n",
    "    my_uuid = my_uuid_\n",
    "    \n",
    "    emul.register_player(\"1\", FishPlayer())\n",
    "    emul.register_player(\"2\", FishPlayer())\n",
    "    emul.register_player(\"3\", FishPlayer())\n",
    "    emul.register_player(\"4\", FishPlayer())\n",
    "    emul.register_player(\"5\", FishPlayer())\n",
    "    emul.register_player(\"6\", FishPlayer())\n",
    "    emul.register_player(\"7\", FishPlayer())\n",
    "    emul.register_player(\"8\", FishPlayer())\n",
    "    emul.register_player(\"9\", FishPlayer())\n",
    "\n",
    "\n",
    "    players_info = {\n",
    "        \"1\": { \"name\": \"f1\", \"stack\": 1500 },\n",
    "        \"2\": { \"name\": \"f2\", \"stack\": 1500 },\n",
    "        \"3\": { \"name\": \"f3\", \"stack\": 1500 },\n",
    "        \"4\": { \"name\": \"f4\", \"stack\": 1500 },\n",
    "        \"5\": { \"name\": \"f5\", \"stack\": 1500 },\n",
    "        \"6\": { \"name\": \"f6\", \"stack\": 1500 },\n",
    "        \"7\": { \"name\": \"f7\", \"stack\": 1500 },\n",
    "        \"8\": { \"name\": \"f8\", \"stack\": 1500 },\n",
    "        \"9\": { \"name\": \"f9\", \"stack\": 1500 }\n",
    "    }"
   ]
  },
  {
   "cell_type": "code",
   "execution_count": 33,
   "metadata": {},
   "outputs": [],
   "source": [
    "tf.reset_default_graph()\n",
    "main_wp = DQNPlayer(h_size)\n",
    "target_wp = DQNPlayer(h_size, is_main=False)"
   ]
  },
  {
   "cell_type": "markdown",
   "metadata": {},
   "source": [
    "### Overfit on small"
   ]
  },
  {
   "cell_type": "code",
   "execution_count": 41,
   "metadata": {
    "scrolled": true
   },
   "outputs": [
    {
     "name": "stdout",
     "output_type": "stream",
     "text": [
      "0 184 9.0 1 3.0\n",
      "100 184 9.0 1 3.0\n",
      "200 184 9.0 1 3.0\n",
      "300 184 9.0 1 3.0\n",
      "400 184 9.0 1 3.0\n",
      "500 184 9.0 1 3.0\n",
      "600 184 9.0 1 3.0\n",
      "700 184 9.0 1 3.0\n",
      "800 184 9.0 1 3.0\n",
      "900 184 9.0 1 3.0\n",
      "1000 184 9.0 1 3.0\n",
      "1100 184 9.0 1 3.0\n",
      "1200 184 9.0 1 3.0\n",
      "1300 184 9.0 1 3.0\n",
      "1400 184 9.0 1 3.0\n",
      "1500 184 9.0 1 3.0\n",
      "1600 184 9.0 1 3.0\n",
      "1700 184 9.0 1 3.0\n",
      "1800 184 9.0 1 3.0\n",
      "1900 184 9.0 1 3.0\n",
      "2000 184 9.0 1 3.0\n",
      "2100 184 9.0 1 3.0\n",
      "2200 184 9.0 1 3.0\n",
      "2300 184 9.0 1 3.0\n",
      "2400 184 9.0 1 3.0\n",
      "2500 184 9.0 1 3.0\n",
      "2600 184 9.0 1 3.0\n",
      "2700 184 9.0 1 3.0\n",
      "2800 184 9.0 1 3.0\n",
      "2900 184 9.0 1 3.0\n",
      "3000 184 9.0 1 3.0\n",
      "3100 184 9.0 1 3.0\n",
      "3200 184 9.0 1 3.0\n",
      "3300 184 9.0 1 3.0\n",
      "3400 184 9.0 1 3.0\n",
      "3500 184 9.0 1 3.0\n",
      "3600 184 9.0 1 3.0\n",
      "3700 184 9.0 1 3.0\n",
      "3800 184 9.0 1 3.0\n",
      "3900 184 9.0 1 3.0\n",
      "4000 184 9.0 1 3.0\n",
      "4100 184 9.0 1 3.0\n",
      "4200 184 9.0 1 3.0\n"
     ]
    },
    {
     "ename": "KeyboardInterrupt",
     "evalue": "",
     "output_type": "error",
     "traceback": [
      "\u001b[0;31m---------------------------------------------------------------------------\u001b[0m",
      "\u001b[0;31mKeyboardInterrupt\u001b[0m                         Traceback (most recent call last)",
      "\u001b[0;32m<timed exec>\u001b[0m in \u001b[0;36m<module>\u001b[0;34m()\u001b[0m\n",
      "\u001b[0;32m<ipython-input-16-9720868de2dd>\u001b[0m in \u001b[0;36mupdate_target\u001b[0;34m(ops, sess)\u001b[0m\n\u001b[1;32m      9\u001b[0m \u001b[0;32mdef\u001b[0m \u001b[0mupdate_target\u001b[0m\u001b[0;34m(\u001b[0m\u001b[0mops\u001b[0m\u001b[0;34m,\u001b[0m \u001b[0msess\u001b[0m\u001b[0;34m)\u001b[0m\u001b[0;34m:\u001b[0m\u001b[0;34m\u001b[0m\u001b[0m\n\u001b[1;32m     10\u001b[0m     \u001b[0;32mfor\u001b[0m \u001b[0mop\u001b[0m \u001b[0;32min\u001b[0m \u001b[0mops\u001b[0m\u001b[0;34m:\u001b[0m\u001b[0;34m\u001b[0m\u001b[0m\n\u001b[0;32m---> 11\u001b[0;31m         \u001b[0msess\u001b[0m\u001b[0;34m.\u001b[0m\u001b[0mrun\u001b[0m\u001b[0;34m(\u001b[0m\u001b[0mop\u001b[0m\u001b[0;34m)\u001b[0m\u001b[0;34m\u001b[0m\u001b[0m\n\u001b[0m",
      "\u001b[0;32m/home/digitman/miniconda3/lib/python3.6/site-packages/tensorflow/python/client/session.py\u001b[0m in \u001b[0;36mrun\u001b[0;34m(self, fetches, feed_dict, options, run_metadata)\u001b[0m\n\u001b[1;32m    776\u001b[0m     \u001b[0;32mtry\u001b[0m\u001b[0;34m:\u001b[0m\u001b[0;34m\u001b[0m\u001b[0m\n\u001b[1;32m    777\u001b[0m       result = self._run(None, fetches, feed_dict, options_ptr,\n\u001b[0;32m--> 778\u001b[0;31m                          run_metadata_ptr)\n\u001b[0m\u001b[1;32m    779\u001b[0m       \u001b[0;32mif\u001b[0m \u001b[0mrun_metadata\u001b[0m\u001b[0;34m:\u001b[0m\u001b[0;34m\u001b[0m\u001b[0m\n\u001b[1;32m    780\u001b[0m         \u001b[0mproto_data\u001b[0m \u001b[0;34m=\u001b[0m \u001b[0mtf_session\u001b[0m\u001b[0;34m.\u001b[0m\u001b[0mTF_GetBuffer\u001b[0m\u001b[0;34m(\u001b[0m\u001b[0mrun_metadata_ptr\u001b[0m\u001b[0;34m)\u001b[0m\u001b[0;34m\u001b[0m\u001b[0m\n",
      "\u001b[0;32m/home/digitman/miniconda3/lib/python3.6/site-packages/tensorflow/python/client/session.py\u001b[0m in \u001b[0;36m_run\u001b[0;34m(self, handle, fetches, feed_dict, options, run_metadata)\u001b[0m\n\u001b[1;32m    980\u001b[0m     \u001b[0;32mif\u001b[0m \u001b[0mfinal_fetches\u001b[0m \u001b[0;32mor\u001b[0m \u001b[0mfinal_targets\u001b[0m\u001b[0;34m:\u001b[0m\u001b[0;34m\u001b[0m\u001b[0m\n\u001b[1;32m    981\u001b[0m       results = self._do_run(handle, final_targets, final_fetches,\n\u001b[0;32m--> 982\u001b[0;31m                              feed_dict_string, options, run_metadata)\n\u001b[0m\u001b[1;32m    983\u001b[0m     \u001b[0;32melse\u001b[0m\u001b[0;34m:\u001b[0m\u001b[0;34m\u001b[0m\u001b[0m\n\u001b[1;32m    984\u001b[0m       \u001b[0mresults\u001b[0m \u001b[0;34m=\u001b[0m \u001b[0;34m[\u001b[0m\u001b[0;34m]\u001b[0m\u001b[0;34m\u001b[0m\u001b[0m\n",
      "\u001b[0;32m/home/digitman/miniconda3/lib/python3.6/site-packages/tensorflow/python/client/session.py\u001b[0m in \u001b[0;36m_do_run\u001b[0;34m(self, handle, target_list, fetch_list, feed_dict, options, run_metadata)\u001b[0m\n\u001b[1;32m   1030\u001b[0m     \u001b[0;32mif\u001b[0m \u001b[0mhandle\u001b[0m \u001b[0;32mis\u001b[0m \u001b[0;32mNone\u001b[0m\u001b[0;34m:\u001b[0m\u001b[0;34m\u001b[0m\u001b[0m\n\u001b[1;32m   1031\u001b[0m       return self._do_call(_run_fn, self._session, feed_dict, fetch_list,\n\u001b[0;32m-> 1032\u001b[0;31m                            target_list, options, run_metadata)\n\u001b[0m\u001b[1;32m   1033\u001b[0m     \u001b[0;32melse\u001b[0m\u001b[0;34m:\u001b[0m\u001b[0;34m\u001b[0m\u001b[0m\n\u001b[1;32m   1034\u001b[0m       return self._do_call(_prun_fn, self._session, handle, feed_dict,\n",
      "\u001b[0;32m/home/digitman/miniconda3/lib/python3.6/site-packages/tensorflow/python/client/session.py\u001b[0m in \u001b[0;36m_do_call\u001b[0;34m(self, fn, *args)\u001b[0m\n\u001b[1;32m   1037\u001b[0m   \u001b[0;32mdef\u001b[0m \u001b[0m_do_call\u001b[0m\u001b[0;34m(\u001b[0m\u001b[0mself\u001b[0m\u001b[0;34m,\u001b[0m \u001b[0mfn\u001b[0m\u001b[0;34m,\u001b[0m \u001b[0;34m*\u001b[0m\u001b[0margs\u001b[0m\u001b[0;34m)\u001b[0m\u001b[0;34m:\u001b[0m\u001b[0;34m\u001b[0m\u001b[0m\n\u001b[1;32m   1038\u001b[0m     \u001b[0;32mtry\u001b[0m\u001b[0;34m:\u001b[0m\u001b[0;34m\u001b[0m\u001b[0m\n\u001b[0;32m-> 1039\u001b[0;31m       \u001b[0;32mreturn\u001b[0m \u001b[0mfn\u001b[0m\u001b[0;34m(\u001b[0m\u001b[0;34m*\u001b[0m\u001b[0margs\u001b[0m\u001b[0;34m)\u001b[0m\u001b[0;34m\u001b[0m\u001b[0m\n\u001b[0m\u001b[1;32m   1040\u001b[0m     \u001b[0;32mexcept\u001b[0m \u001b[0merrors\u001b[0m\u001b[0;34m.\u001b[0m\u001b[0mOpError\u001b[0m \u001b[0;32mas\u001b[0m \u001b[0me\u001b[0m\u001b[0;34m:\u001b[0m\u001b[0;34m\u001b[0m\u001b[0m\n\u001b[1;32m   1041\u001b[0m       \u001b[0mmessage\u001b[0m \u001b[0;34m=\u001b[0m \u001b[0mcompat\u001b[0m\u001b[0;34m.\u001b[0m\u001b[0mas_text\u001b[0m\u001b[0;34m(\u001b[0m\u001b[0me\u001b[0m\u001b[0;34m.\u001b[0m\u001b[0mmessage\u001b[0m\u001b[0;34m)\u001b[0m\u001b[0;34m\u001b[0m\u001b[0m\n",
      "\u001b[0;32m/home/digitman/miniconda3/lib/python3.6/site-packages/tensorflow/python/client/session.py\u001b[0m in \u001b[0;36m_run_fn\u001b[0;34m(session, feed_dict, fetch_list, target_list, options, run_metadata)\u001b[0m\n\u001b[1;32m   1016\u001b[0m       \u001b[0;31m# Ensure any changes to the graph are reflected in the runtime.\u001b[0m\u001b[0;34m\u001b[0m\u001b[0;34m\u001b[0m\u001b[0m\n\u001b[1;32m   1017\u001b[0m       \u001b[0mself\u001b[0m\u001b[0;34m.\u001b[0m\u001b[0m_extend_graph\u001b[0m\u001b[0;34m(\u001b[0m\u001b[0;34m)\u001b[0m\u001b[0;34m\u001b[0m\u001b[0m\n\u001b[0;32m-> 1018\u001b[0;31m       \u001b[0;32mwith\u001b[0m \u001b[0merrors\u001b[0m\u001b[0;34m.\u001b[0m\u001b[0mraise_exception_on_not_ok_status\u001b[0m\u001b[0;34m(\u001b[0m\u001b[0;34m)\u001b[0m \u001b[0;32mas\u001b[0m \u001b[0mstatus\u001b[0m\u001b[0;34m:\u001b[0m\u001b[0;34m\u001b[0m\u001b[0m\n\u001b[0m\u001b[1;32m   1019\u001b[0m         return tf_session.TF_Run(session, options,\n\u001b[1;32m   1020\u001b[0m                                  \u001b[0mfeed_dict\u001b[0m\u001b[0;34m,\u001b[0m \u001b[0mfetch_list\u001b[0m\u001b[0;34m,\u001b[0m \u001b[0mtarget_list\u001b[0m\u001b[0;34m,\u001b[0m\u001b[0;34m\u001b[0m\u001b[0m\n",
      "\u001b[0;31mKeyboardInterrupt\u001b[0m: "
     ]
    }
   ],
   "source": [
    "%%time\n",
    "init = tf.global_variables_initializer()\n",
    "trainables = tf.trainable_variables()\n",
    "target_ops = update_target_graph(trainables, tau)\n",
    "\n",
    "with tf.Session() as sess:\n",
    "    sess.run(init)\n",
    "    if load_model:\n",
    "        print('Loading model')\n",
    "        ckpt = tf.train.get_checkpoint_state(path)\n",
    "        saver.restore(sess, ckpt.model_checkpoint_path)\n",
    "    train_batch = my_buffer.sample(batch_size)\n",
    "    for i in range(num_episodes):      \n",
    "        Q1 = sess.run(main_wp.predict,\n",
    "                      feed_dict={main_wp.scalar_input: np.vstack(train_batch[:, 4]),\n",
    "                                 main_wp.features_input: np.vstack(train_batch[:, 5])})\n",
    "        Q1_ = sess.run(main_wp.Q_out,\n",
    "                      feed_dict={main_wp.scalar_input: np.vstack(train_batch[:, 4]),\n",
    "                                 main_wp.features_input: np.vstack(train_batch[:, 5])})\n",
    "\n",
    "        Q2 = sess.run(target_wp.Q_out,\n",
    "                      feed_dict={target_wp.scalar_input: np.vstack(train_batch[:, 4]),\n",
    "                                 target_wp.features_input: np.vstack(train_batch[:, 5])})\n",
    "        end_multiplier = -(train_batch[:, 6] - 1)\n",
    "        double_Q = Q2[range(batch_size), Q1]\n",
    "        double_Q_ = Q1_[range(batch_size), Q1]\n",
    "\n",
    "        target_Q = train_batch[:, 3] + (y * double_Q * end_multiplier)\n",
    "\n",
    "        _, er, g, v = sess.run([main_wp.update_model,\n",
    "                          main_wp.loss, main_wp.grad_norms, main_wp.var_norms],\n",
    "                     feed_dict={\n",
    "                         main_wp.scalar_input: np.vstack(train_batch[:, 0]),\n",
    "                         main_wp.features_input: np.vstack(train_batch[:, 1]),\n",
    "                         main_wp.target_Q: target_Q,\n",
    "                         main_wp.actions: train_batch[:, 2]\n",
    "                     })\n",
    "        update_target(target_ops, sess)\n",
    "        \n",
    "        q1 = double_Q_[0]\n",
    "        q2 = double_Q[0]\n",
    "\n",
    "        summary = tf.Summary()\n",
    "        summary.value.add(tag='Q/Q1', simple_value=float(q1))\n",
    "        summary.value.add(tag='Q/Q2', simple_value=float(q2))\n",
    "        summary.value.add(tag='Q/Target', simple_value=target_Q[0])\n",
    "        summary.value.add(tag='Q/Action', simple_value=Q1[0])\n",
    "        summary.value.add(tag='Loss/Error', simple_value=er)\n",
    "        summary.value.add(tag='Loss/Grad_norm', simple_value=g)\n",
    "        summary.value.add(tag='Loss/Var_norm', simple_value=v)\n",
    "\n",
    "        main_wp.summary_writer.add_summary(summary, i)\n",
    "        if i % 2 == 0:\n",
    "            main_wp.summary_writer.flush()\n",
    "                            \n",
    "        if i % 100 == 0:\n",
    "            print(i, total_steps, np.mean(r_list[-10:]), e, np.median(action_list[-200:]))            \n",
    "print('Mean reward: {}'.format(sum(r_list) / num_episodes))"
   ]
  },
  {
   "cell_type": "markdown",
   "metadata": {},
   "source": [
    "## Norm"
   ]
  },
  {
   "cell_type": "code",
   "execution_count": null,
   "metadata": {
    "scrolled": true
   },
   "outputs": [
    {
     "name": "stdout",
     "output_type": "stream",
     "text": [
      "Saved model\n",
      "0 2 -1500.0 1 2.0\n",
      "100 461 517.5 1 2.0\n",
      "200 1035 284.5 1 2.0\n",
      "300 1584 1357.5 1 2.0\n"
     ]
    }
   ],
   "source": [
    "%%time\n",
    "init = tf.global_variables_initializer()\n",
    "saver = tf.train.Saver()\n",
    "trainables = tf.trainable_variables()\n",
    "target_ops = update_target_graph(trainables, tau)\n",
    "my_buffer = ExperienceBuffer()\n",
    "\n",
    "e = start_E\n",
    "step_drop = (start_E - end_E) / annealings_steps\n",
    "\n",
    "j_list = []\n",
    "r_list = []\n",
    "action_list = []\n",
    "total_steps = 0\n",
    "\n",
    "with tf.Session() as sess:\n",
    "    sess.run(init)\n",
    "    if load_model:\n",
    "        print('Loading model')\n",
    "        ckpt = tf.train.get_checkpoint_state(path)\n",
    "        saver.restore(sess, ckpt.model_checkpoint_path)\n",
    "    for i in range(num_episodes):\n",
    "        episode_buffer = ExperienceBuffer()\n",
    "        init_emul(str(np.random.randint(1, 10)))\n",
    "        \n",
    "        initial_state = emul.generate_initial_game_state(players_info)\n",
    "        msgs = []\n",
    "        game_state, events = emul.start_new_round(initial_state)\n",
    "        is_last_round = False\n",
    "        r_all = 0\n",
    "        j = 0\n",
    "        \n",
    "        last_img_state = None\n",
    "        last_features = None\n",
    "        last_action_num = None\n",
    "        \n",
    "        while not is_last_round:\n",
    "            j += 1\n",
    "            a = emul.run_until_my_next_action(game_state, my_uuid, msgs)\n",
    "            \n",
    "            # need to make move\n",
    "            if len(a) == 4:\n",
    "                game_state, valid_actions, hole_card, round_state = a\n",
    "                img_state = img_from_state(hole_card, round_state)\n",
    "                img_state = process_img(img_state)\n",
    "                \n",
    "                street = round_state['street']\n",
    "                bank = round_state['pot']['main']['amount']\n",
    "                stack = [s['stack'] for s in round_state['seats'] if s['uuid'] == my_uuid][0]\n",
    "                other_stacks = [s['stack'] for s in round_state['seats'] if s['uuid'] != my_uuid]\n",
    "                dealer_btn = round_state['dealer_btn']\n",
    "                small_blind_pos = round_state['small_blind_pos']\n",
    "                big_blind_pos = round_state['big_blind_pos']\n",
    "                next_player = round_state['next_player']\n",
    "                round_count = round_state['round_count']\n",
    "                estimation = main_wp.hole_card_est[(hole_card[0], hole_card[1])]\n",
    "\n",
    "\n",
    "                features = get_street(street)\n",
    "                features.extend([bank, stack, dealer_btn, small_blind_pos, big_blind_pos, next_player, round_count])\n",
    "                features.extend(other_stacks)\n",
    "                features.append(estimation)\n",
    "        \n",
    "                \n",
    "                # add to buffer last hand \n",
    "                if last_img_state is not None:\n",
    "                    episode_buffer.add(np.reshape(np.array([last_img_state, last_features, last_action_num,\n",
    "                                                            0, img_state, features, 0]), [1, 7]))\n",
    "                \n",
    "                if np.random.rand(1) < e or total_steps < pre_train_steps:\n",
    "                    action_num = np.random.randint(0, total_num_actions)\n",
    "                else:\n",
    "                    action_num = sess.run(main_wp.predict, feed_dict={main_wp.scalar_input: [img_state],\n",
    "                                                                      main_wp.features_input: [features]})[0]\n",
    "                    \n",
    "                action_list.append(action_num)\n",
    "                action, amount = get_action_by_num(action_num, valid_actions)                    \n",
    "\n",
    "                game_state, msgs = emul.apply_my_action(game_state, action, amount)\n",
    "                total_steps += 1\n",
    "        \n",
    "                last_img_state = img_state.copy()\n",
    "                last_features = features.copy()\n",
    "                last_action_num = action_num\n",
    "                \n",
    "                if total_steps > pre_train_steps:\n",
    "                    if e > end_E:\n",
    "                        e -= step_drop\n",
    "                    \n",
    "                    if total_steps % (update_freq) == 0:\n",
    "                        train_batch = my_buffer.sample(batch_size)\n",
    "\n",
    "                        Q1 = sess.run(main_wp.predict,\n",
    "                                      feed_dict={main_wp.scalar_input: np.vstack(train_batch[:, 4]),\n",
    "                                                 main_wp.features_input: np.vstack(train_batch[:, 5])})\n",
    "                        Q1_ = sess.run(main_wp.Q_out,\n",
    "                                      feed_dict={main_wp.scalar_input: np.vstack(train_batch[:, 4]),\n",
    "                                                 main_wp.features_input: np.vstack(train_batch[:, 5])})\n",
    "        \n",
    "                        Q2 = sess.run(target_wp.Q_out,\n",
    "                                      feed_dict={target_wp.scalar_input: np.vstack(train_batch[:, 4]),\n",
    "                                                 target_wp.features_input: np.vstack(train_batch[:, 5])})\n",
    "                        end_multiplier = -(train_batch[:, 6] - 1)\n",
    "                        double_Q = Q2[range(batch_size), Q1]\n",
    "                        double_Q_ = Q1_[range(batch_size), Q1]\n",
    "                            \n",
    "                        target_Q = train_batch[:, 3] + (y * double_Q * end_multiplier)\n",
    "#                         target_Q = train_batch[:, 3] + (y * double_Q_ * end_multiplier)\n",
    "\n",
    "                        _, er, g, v = sess.run([main_wp.update_model,\n",
    "                                          main_wp.loss, main_wp.grad_norms, main_wp.var_norms],\n",
    "                                     feed_dict={\n",
    "                                         main_wp.scalar_input: np.vstack(train_batch[:, 0]),\n",
    "                                         main_wp.features_input: np.vstack(train_batch[:, 1]),\n",
    "                                         main_wp.target_Q: target_Q,\n",
    "                                         main_wp.actions: train_batch[:, 2]\n",
    "                                     })\n",
    "                        update_target(target_ops, sess)\n",
    "                        \n",
    "                        r = np.mean(r_list[-2:])\n",
    "                        j = np.mean(j_list[-2:])\n",
    "                        q1 = double_Q_[0]\n",
    "                        q2 = double_Q[0]\n",
    "                        al = np.mean(action_list[-10:])\n",
    "                                                \n",
    "                        summary = tf.Summary()\n",
    "                        summary.value.add(tag='Perf/Reward', simple_value=float(r))\n",
    "                        summary.value.add(tag='Perf/Lenght', simple_value=float(j))\n",
    "                        summary.value.add(tag='Perf/Action_list', simple_value=al)\n",
    "                        summary.value.add(tag='Perf/E', simple_value=e)                        \n",
    "                        summary.value.add(tag='Q/Q1', simple_value=float(q1))\n",
    "                        summary.value.add(tag='Q/Q2', simple_value=float(q2))\n",
    "                        summary.value.add(tag='Q/Target', simple_value=target_Q[0])\n",
    "                        summary.value.add(tag='Q/Action', simple_value=Q1[0])\n",
    "                        summary.value.add(tag='Loss/Error', simple_value=er)\n",
    "                        summary.value.add(tag='Loss/Grad_norm', simple_value=g)\n",
    "                        summary.value.add(tag='Loss/Var_norm', simple_value=v)\n",
    "                        \n",
    "                        main_wp.summary_writer.add_summary(summary, total_steps)\n",
    "                        if total_steps % (update_freq * 2) == 0:\n",
    "                            main_wp.summary_writer.flush()\n",
    "                        \n",
    "#                         tf.summary.histogram('Q1', Q1_)\n",
    "#                         tf.summary.histogram('Q2', Q2)\n",
    "            else:\n",
    "                game_state, reward = a\n",
    "                r_all += reward\n",
    "                # add to buffer last hand \n",
    "                if last_img_state is not None:\n",
    "                    episode_buffer.add(np.reshape(np.array([last_img_state, last_features, last_action_num,\n",
    "                                                            reward, last_img_state, last_features, 1]), [1, 7]))\n",
    "                \n",
    "                is_last_round = emul._is_last_round(game_state, emul.game_rule)\n",
    "                game_state, events = emul.start_new_round(game_state)\n",
    "\n",
    "                last_img_state = None\n",
    "                last_action_num = None   \n",
    "            \n",
    "        my_buffer.add(episode_buffer.buffer)\n",
    "        r_list.append(r_all)\n",
    "        j_list.append(j)\n",
    "\n",
    "        if i % 1000 == 0:\n",
    "            saver.save(sess, path + '/model_' + str(i) + '.ckpt')\n",
    "            print('Saved model')\n",
    "        if i % 100 == 0:\n",
    "            print(i, total_steps, np.mean(r_list[-10:]), e, np.median(action_list[-200:]))            \n",
    "    saver.save(sess, path + '/model_' + str(i) + '.ckpt')\n",
    "print('Mean reward: {}'.format(sum(r_list) / num_episodes))"
   ]
  },
  {
   "cell_type": "markdown",
   "metadata": {},
   "source": [
    "200k, 1kk"
   ]
  },
  {
   "cell_type": "code",
   "execution_count": 71,
   "metadata": {
    "collapsed": true
   },
   "outputs": [],
   "source": [
    "# train_batch[0]"
   ]
  },
  {
   "cell_type": "code",
   "execution_count": 29,
   "metadata": {
    "collapsed": true
   },
   "outputs": [],
   "source": [
    "vars_ = tf.trainable_variables()[:len(tf.trainable_variables()) // 2]"
   ]
  },
  {
   "cell_type": "code",
   "execution_count": 30,
   "metadata": {},
   "outputs": [
    {
     "name": "stdout",
     "output_type": "stream",
     "text": [
      "(5, 5, 1, 32)\n",
      "4\n",
      "5\n",
      "5\n",
      "1\n",
      "32\n",
      "800\n",
      "(32,)\n",
      "1\n",
      "32\n",
      "32\n",
      "(3, 3, 32, 64)\n",
      "4\n",
      "3\n",
      "3\n",
      "32\n",
      "64\n",
      "18432\n",
      "(64,)\n",
      "1\n",
      "64\n",
      "64\n",
      "(5, 5, 64, 128)\n",
      "4\n",
      "5\n",
      "5\n",
      "64\n",
      "128\n",
      "204800\n",
      "(128,)\n",
      "1\n",
      "128\n",
      "128\n",
      "(20, 64)\n",
      "2\n",
      "20\n",
      "64\n",
      "1280\n",
      "(64,)\n",
      "1\n",
      "64\n",
      "64\n",
      "(64, 128)\n",
      "2\n",
      "64\n",
      "128\n",
      "8192\n",
      "(128,)\n",
      "1\n",
      "128\n",
      "128\n",
      "(256, 256)\n",
      "2\n",
      "256\n",
      "256\n",
      "65536\n",
      "(256,)\n",
      "1\n",
      "256\n",
      "256\n",
      "(256, 128)\n",
      "2\n",
      "256\n",
      "128\n",
      "32768\n",
      "(128,)\n",
      "1\n",
      "128\n",
      "128\n",
      "(128, 5)\n",
      "2\n",
      "128\n",
      "5\n",
      "640\n",
      "(5,)\n",
      "1\n",
      "5\n",
      "5\n",
      "333253\n"
     ]
    }
   ],
   "source": [
    "total_parameters = 0\n",
    "for variable in vars_:\n",
    "    # shape is an array of tf.Dimension\n",
    "    shape = variable.get_shape()\n",
    "    print(shape)\n",
    "    print(len(shape))\n",
    "    variable_parameters = 1\n",
    "    for dim in shape:\n",
    "        print(dim)\n",
    "        variable_parameters *= dim.value\n",
    "    print(variable_parameters)\n",
    "    total_parameters += variable_parameters\n",
    "print(total_parameters)"
   ]
  },
  {
   "cell_type": "code",
   "execution_count": null,
   "metadata": {
    "collapsed": true
   },
   "outputs": [],
   "source": [
    "# tf.summary.histogram()\n",
    "# tf.summary.scalar()"
   ]
  },
  {
   "cell_type": "code",
   "execution_count": null,
   "metadata": {
    "collapsed": true
   },
   "outputs": [],
   "source": [
    "import pandas as pd"
   ]
  },
  {
   "cell_type": "code",
   "execution_count": 89,
   "metadata": {},
   "outputs": [
    {
     "name": "stderr",
     "output_type": "stream",
     "text": [
      "/home/digitman/miniconda3/lib/python3.6/site-packages/ipykernel_launcher.py:1: FutureWarning: pd.rolling_mean is deprecated for Series and will be removed in a future version, replace with \n",
      "\tSeries.rolling(window=300,center=False).mean()\n",
      "  \"\"\"Entry point for launching an IPython kernel.\n"
     ]
    },
    {
     "data": {
      "text/plain": [
       "[<matplotlib.lines.Line2D at 0x7f5b8175d4e0>]"
      ]
     },
     "execution_count": 89,
     "metadata": {},
     "output_type": "execute_result"
    },
    {
     "data": {
      "image/png": "[encoded data removed]",
      "text/plain": [
       "<matplotlib.figure.Figure at 0x7f5b81ecde80>"
      ]
     },
     "metadata": {},
     "output_type": "display_data"
    }
   ],
   "source": [
    "plt.plot(pd.rolling_mean(pd.Series(r_list), 300))"
   ]
  },
  {
   "cell_type": "code",
   "execution_count": 90,
   "metadata": {},
   "outputs": [
    {
     "name": "stderr",
     "output_type": "stream",
     "text": [
      "/home/digitman/miniconda3/lib/python3.6/site-packages/ipykernel_launcher.py:1: FutureWarning: pd.rolling_mean is deprecated for Series and will be removed in a future version, replace with \n",
      "\tSeries.rolling(window=300,center=False).mean()\n",
      "  \"\"\"Entry point for launching an IPython kernel.\n"
     ]
    },
    {
     "data": {
      "text/plain": [
       "[<matplotlib.lines.Line2D at 0x7f5b82723278>]"
      ]
     },
     "execution_count": 90,
     "metadata": {},
     "output_type": "execute_result"
    },
    {
     "data": {
      "image/png": "[encoded data removed]",
      "text/plain": [
       "<matplotlib.figure.Figure at 0x7f5b828fb240>"
      ]
     },
     "metadata": {},
     "output_type": "display_data"
    }
   ],
   "source": [
    "plt.plot(pd.rolling_mean(pd.Series(j_list), 300))"
   ]
  },
  {
   "cell_type": "code",
   "execution_count": 42,
   "metadata": {},
   "outputs": [
    {
     "name": "stderr",
     "output_type": "stream",
     "text": [
      "/home/digitman/miniconda3/lib/python3.6/site-packages/ipykernel_launcher.py:1: FutureWarning: pd.rolling_mean is deprecated for Series and will be removed in a future version, replace with \n",
      "\tSeries.rolling(window=300,center=False).mean()\n",
      "  \"\"\"Entry point for launching an IPython kernel.\n"
     ]
    },
    {
     "data": {
      "text/plain": [
       "[<matplotlib.lines.Line2D at 0x7f5ba810a6d8>]"
      ]
     },
     "execution_count": 42,
     "metadata": {},
     "output_type": "execute_result"
    },
    {
     "data": {
      "image/png": "[encoded data removed]",
      "text/plain": [
       "<matplotlib.figure.Figure at 0x7f5bb23c3128>"
      ]
     },
     "metadata": {},
     "output_type": "display_data"
    }
   ],
   "source": [
    "plt.plot(pd.rolling_mean(pd.Series(action_list), 300))"
   ]
  },
  {
   "cell_type": "code",
   "execution_count": 75,
   "metadata": {},
   "outputs": [
    {
     "data": {
      "text/plain": [
       "7"
      ]
     },
     "execution_count": 75,
     "metadata": {},
     "output_type": "execute_result"
    }
   ],
   "source": [
    "len(train_batch[0])"
   ]
  },
  {
   "cell_type": "code",
   "execution_count": 132,
   "metadata": {},
   "outputs": [
    {
     "name": "stdout",
     "output_type": "stream",
     "text": [
      "CPU times: user 0 ns, sys: 0 ns, total: 0 ns\n",
      "Wall time: 9.3 µs\n",
      "models/model_197000.ckpt\n",
      "INFO:tensorflow:Restoring parameters from models/model_197000.ckpt\n"
     ]
    }
   ],
   "source": [
    "%time\n",
    "with tf.Session() as sess:\n",
    "    sess.run(init)\n",
    "    ckpt = tf.train.get_checkpoint_state(path)\n",
    "    print(ckpt.model_checkpoint_path)\n",
    "    saver.restore(sess, ckpt.model_checkpoint_path)\n",
    "    action_num = sess.run(main_wp.predict, feed_dict={main_wp.scalar_input: [train_batch[3][0]],\n",
    "                                                      main_wp.features_input: [train_batch[3][1]]})[0]"
   ]
  },
  {
   "cell_type": "code",
   "execution_count": 114,
   "metadata": {
    "collapsed": true
   },
   "outputs": [],
   "source": [
    "train_batch = my_buffer.sample(batch_size)"
   ]
  },
  {
   "cell_type": "code",
   "execution_count": 116,
   "metadata": {},
   "outputs": [
    {
     "name": "stdout",
     "output_type": "stream",
     "text": [
      "CPU times: user 0 ns, sys: 0 ns, total: 0 ns\n",
      "Wall time: 9.78 µs\n",
      "models/model_88000.ckpt\n",
      "INFO:tensorflow:Restoring parameters from models/model_88000.ckpt\n"
     ]
    }
   ],
   "source": [
    "%time\n",
    "with tf.Session() as sess:\n",
    "    batch = train_batch[3]\n",
    "    qs = []\n",
    "    img = batch[0]\n",
    "    features = batch[1]\n",
    "\n",
    "    sess.run(init)\n",
    "    ckpt = tf.train.get_checkpoint_state(path)\n",
    "    print(ckpt.model_checkpoint_path)\n",
    "    saver.restore(sess, ckpt.model_checkpoint_path) # 'models/model_197000.ckpt')\n",
    "    \n",
    "#     for x in np.linspace(-0.5, 1.5, 100):\n",
    "#     for x in np.linspace(0, 10000, 100):\n",
    "#     for x in np.linspace(0, 50, 51):\n",
    "    for x in np.linspace(0, 20000, 100):\n",
    "#         features[-1] = x\n",
    "#         features[5] = x\n",
    "#         features[-10] = x\n",
    "        features[4] = x\n",
    "        action_num = sess.run(main_wp.Q_out, feed_dict={main_wp.scalar_input: [img],\n",
    "                                                      main_wp.features_input: [features]})[0]\n",
    "        qs.append(action_num)"
   ]
  },
  {
   "cell_type": "code",
   "execution_count": 117,
   "metadata": {
    "collapsed": true
   },
   "outputs": [],
   "source": [
    "import pandas as pd\n",
    "%matplotlib inline"
   ]
  },
  {
   "cell_type": "code",
   "execution_count": 118,
   "metadata": {
    "collapsed": true
   },
   "outputs": [],
   "source": [
    "df = pd.DataFrame(np.vstack(qs), columns=['1', '2', '3', '4', '5'])"
   ]
  },
  {
   "cell_type": "code",
   "execution_count": 164,
   "metadata": {},
   "outputs": [
    {
     "data": {
      "text/plain": [
       "<matplotlib.axes._subplots.AxesSubplot at 0x7fdd52784748>"
      ]
     },
     "execution_count": 164,
     "metadata": {},
     "output_type": "execute_result"
    },
    {
     "data": {
      "image/png": "[encoded data removed]",
      "text/plain": [
       "<matplotlib.figure.Figure at 0x7fdd52783d30>"
      ]
     },
     "metadata": {},
     "output_type": "display_data"
    }
   ],
   "source": [
    "df.plot(df.index, ['1', '2', '3', '4', '5'])"
   ]
  },
  {
   "cell_type": "code",
   "execution_count": 170,
   "metadata": {},
   "outputs": [
    {
     "data": {
      "text/plain": [
       "<matplotlib.axes._subplots.AxesSubplot at 0x7fdd53b86198>"
      ]
     },
     "execution_count": 170,
     "metadata": {},
     "output_type": "execute_result"
    },
    {
     "data": {
      "image/png": "[encoded data removed]",
      "text/plain": [
       "<matplotlib.figure.Figure at 0x7fdd52bf7518>"
      ]
     },
     "metadata": {},
     "output_type": "display_data"
    }
   ],
   "source": [
    "df.plot(df.index, ['1', '2', '3', '4', '5'])"
   ]
  },
  {
   "cell_type": "code",
   "execution_count": 174,
   "metadata": {},
   "outputs": [
    {
     "data": {
      "text/plain": [
       "<matplotlib.axes._subplots.AxesSubplot at 0x7fdd52bfa518>"
      ]
     },
     "execution_count": 174,
     "metadata": {},
     "output_type": "execute_result"
    },
    {
     "data": {
      "image/png": "[encoded data removed]",
      "text/plain": [
       "<matplotlib.figure.Figure at 0x7fdd584ba710>"
      ]
     },
     "metadata": {},
     "output_type": "display_data"
    }
   ],
   "source": [
    "df.plot(df.index, ['1', '2', '3', '4', '5'])"
   ]
  },
  {
   "cell_type": "code",
   "execution_count": 179,
   "metadata": {},
   "outputs": [
    {
     "data": {
      "text/plain": [
       "<matplotlib.axes._subplots.AxesSubplot at 0x7fdd53081da0>"
      ]
     },
     "execution_count": 179,
     "metadata": {},
     "output_type": "execute_result"
    },
    {
     "data": {
      "image/png": "[encoded data removed]",
      "text/plain": [
       "<matplotlib.figure.Figure at 0x7fdd528acb38>"
      ]
     },
     "metadata": {},
     "output_type": "display_data"
    }
   ],
   "source": [
    "df.plot(df.index, ['1', '2', '3', '4', '5'])"
   ]
  },
  {
   "cell_type": "code",
   "execution_count": 119,
   "metadata": {},
   "outputs": [
    {
     "data": {
      "text/plain": [
       "<matplotlib.axes._subplots.AxesSubplot at 0x7fb7f31e9748>"
      ]
     },
     "execution_count": 119,
     "metadata": {},
     "output_type": "execute_result"
    },
    {
     "data": {
      "image/png": "[encoded data removed]",
      "text/plain": [
       "<matplotlib.figure.Figure at 0x7fb7f27ec400>"
      ]
     },
     "metadata": {},
     "output_type": "display_data"
    }
   ],
   "source": [
    "df.plot(df.index, ['1', '2', '3', '4', '5'])"
   ]
  },
  {
   "cell_type": "code",
   "execution_count": 166,
   "metadata": {},
   "outputs": [
    {
     "data": {
      "text/plain": [
       "[0,\n",
       " 1,\n",
       " 0,\n",
       " 0,\n",
       " 270,\n",
       " 285,\n",
       " 4,\n",
       " 5,\n",
       " 6,\n",
       " 6,\n",
       " 5,\n",
       " 225,\n",
       " 225,\n",
       " 225,\n",
       " 225,\n",
       " 225,\n",
       " 7785,\n",
       " 3810,\n",
       " 225,\n",
       " 1.5]"
      ]
     },
     "execution_count": 166,
     "metadata": {},
     "output_type": "execute_result"
    }
   ],
   "source": [
    "features"
   ]
  },
  {
   "cell_type": "code",
   "execution_count": 118,
   "metadata": {
    "collapsed": true
   },
   "outputs": [],
   "source": [
    "kernel = tf.get_collection(tf.GraphKeys.GLOBAL_VARIABLES, 'conv2d/kernel')\n",
    "d = tf.get_collection(tf.GraphKeys.GLOBAL_VARIABLES, 'dense/kernel')"
   ]
  },
  {
   "cell_type": "code",
   "execution_count": 119,
   "metadata": {
    "collapsed": true
   },
   "outputs": [],
   "source": [
    "kernel2 = tf.get_collection(tf.GraphKeys.GLOBAL_VARIABLES, 'conv2d_3/kernel')"
   ]
  },
  {
   "cell_type": "code",
   "execution_count": 120,
   "metadata": {
    "collapsed": true
   },
   "outputs": [],
   "source": [
    "k = kernel[0]\n",
    "# k2 = kernel2[0]\n",
    "d = d[0]"
   ]
  },
  {
   "cell_type": "code",
   "execution_count": 121,
   "metadata": {},
   "outputs": [
    {
     "name": "stdout",
     "output_type": "stream",
     "text": [
      "INFO:tensorflow:Restoring parameters from models/model_197000.ckpt\n"
     ]
    }
   ],
   "source": [
    "with tf.Session() as sess:\n",
    "    sess.run(init)\n",
    "    ckpt = tf.train.get_checkpoint_state(path)\n",
    "    saver.restore(sess, ckpt.model_checkpoint_path)\n",
    "    c1 = k.eval(session=sess)\n",
    "    d1 = d.eval(session=sess)\n",
    "#     c2 = k2.eval(session=sess)\n",
    "    "
   ]
  },
  {
   "cell_type": "code",
   "execution_count": 122,
   "metadata": {},
   "outputs": [
    {
     "ename": "NameError",
     "evalue": "name 'c2' is not defined",
     "output_type": "error",
     "traceback": [
      "\u001b[0;31m---------------------------------------------------------------------------\u001b[0m",
      "\u001b[0;31mNameError\u001b[0m                                 Traceback (most recent call last)",
      "\u001b[0;32m<ipython-input-122-1337d862526c>\u001b[0m in \u001b[0;36m<module>\u001b[0;34m()\u001b[0m\n\u001b[0;32m----> 1\u001b[0;31m \u001b[0mc1\u001b[0m\u001b[0;34m.\u001b[0m\u001b[0mshape\u001b[0m\u001b[0;34m,\u001b[0m \u001b[0mc2\u001b[0m\u001b[0;34m.\u001b[0m\u001b[0mshape\u001b[0m\u001b[0;34m\u001b[0m\u001b[0m\n\u001b[0m",
      "\u001b[0;31mNameError\u001b[0m: name 'c2' is not defined"
     ]
    }
   ],
   "source": [
    "c1.shape, c2.shape"
   ]
  },
  {
   "cell_type": "code",
   "execution_count": 123,
   "metadata": {},
   "outputs": [
    {
     "data": {
      "text/plain": [
       "<matplotlib.colorbar.Colorbar at 0x7fdd8e7c1ac8>"
      ]
     },
     "execution_count": 123,
     "metadata": {},
     "output_type": "execute_result"
    },
    {
     "data": {
      "image/png": "[encoded data removed]",
      "text/plain": [
       "<matplotlib.figure.Figure at 0x7fdd52fa7390>"
      ]
     },
     "metadata": {},
     "output_type": "display_data"
    }
   ],
   "source": [
    "plt.imshow(d1)\n",
    "plt.gray()\n",
    "plt.colorbar()"
   ]
  },
  {
   "cell_type": "code",
   "execution_count": null,
   "metadata": {
    "collapsed": true
   },
   "outputs": [],
   "source": []
  },
  {
   "cell_type": "code",
   "execution_count": 128,
   "metadata": {},
   "outputs": [
    {
     "data": {
      "text/plain": [
       "<matplotlib.colorbar.Colorbar at 0x7fdd51cb0f28>"
      ]
     },
     "execution_count": 128,
     "metadata": {},
     "output_type": "execute_result"
    },
    {
     "data": {
      "image/png": "[encoded data removed]",
      "text/plain": [
       "<matplotlib.figure.Figure at 0x7fdd52299f98>"
      ]
     },
     "metadata": {},
     "output_type": "display_data"
    }
   ],
   "source": [
    "plt.imshow(c1[:, :, 7, 1])\n",
    "plt.gray()\n",
    "plt.colorbar()"
   ]
  },
  {
   "cell_type": "code",
   "execution_count": 129,
   "metadata": {},
   "outputs": [
    {
     "ename": "NameError",
     "evalue": "name 'c2' is not defined",
     "output_type": "error",
     "traceback": [
      "\u001b[0;31m---------------------------------------------------------------------------\u001b[0m",
      "\u001b[0;31mNameError\u001b[0m                                 Traceback (most recent call last)",
      "\u001b[0;32m<ipython-input-129-e43b279f8459>\u001b[0m in \u001b[0;36m<module>\u001b[0;34m()\u001b[0m\n\u001b[0;32m----> 1\u001b[0;31m \u001b[0mplt\u001b[0m\u001b[0;34m.\u001b[0m\u001b[0mimshow\u001b[0m\u001b[0;34m(\u001b[0m\u001b[0mc2\u001b[0m\u001b[0;34m[\u001b[0m\u001b[0;34m:\u001b[0m\u001b[0;34m,\u001b[0m \u001b[0;34m:\u001b[0m\u001b[0;34m,\u001b[0m \u001b[0;36m7\u001b[0m\u001b[0;34m,\u001b[0m \u001b[0;36m10\u001b[0m\u001b[0;34m]\u001b[0m\u001b[0;34m)\u001b[0m\u001b[0;34m\u001b[0m\u001b[0m\n\u001b[0m\u001b[1;32m      2\u001b[0m \u001b[0mplt\u001b[0m\u001b[0;34m.\u001b[0m\u001b[0mgray\u001b[0m\u001b[0;34m(\u001b[0m\u001b[0;34m)\u001b[0m\u001b[0;34m\u001b[0m\u001b[0m\n\u001b[1;32m      3\u001b[0m \u001b[0mplt\u001b[0m\u001b[0;34m.\u001b[0m\u001b[0mcolorbar\u001b[0m\u001b[0;34m(\u001b[0m\u001b[0;34m)\u001b[0m\u001b[0;34m\u001b[0m\u001b[0m\n",
      "\u001b[0;31mNameError\u001b[0m: name 'c2' is not defined"
     ]
    }
   ],
   "source": [
    "plt.imshow(c2[:, :, 7, 10])\n",
    "plt.gray()\n",
    "plt.colorbar()"
   ]
  },
  {
   "cell_type": "code",
   "execution_count": null,
   "metadata": {
    "collapsed": true
   },
   "outputs": [],
   "source": []
  },
  {
   "cell_type": "markdown",
   "metadata": {},
   "source": [
    "## Fish bot"
   ]
  },
  {
   "cell_type": "markdown",
   "metadata": {},
   "source": [
    "## Random bot"
   ]
  },
  {
   "cell_type": "code",
   "execution_count": 84,
   "metadata": {
    "collapsed": true
   },
   "outputs": [],
   "source": [
    "import random as rand\n",
    "\n",
    "class RandomPlayer(BasePokerPlayer):\n",
    "\n",
    "  def __init__(self):\n",
    "    self.fold_ratio, self.call_ratio, raise_ratio = 1.0/5, 3.0/5, 1.0/5\n",
    "\n",
    "  def set_action_ratio(self, fold_ratio, call_ratio, raise_ratio):\n",
    "    ratio = [fold_ratio, call_ratio, raise_ratio]\n",
    "    scaled_ratio = [ 1.0 * num / sum(ratio) for num in ratio]\n",
    "    self.fold_ratio, self.call_ratio, self.raise_ratio = scaled_ratio\n",
    "\n",
    "  def declare_action(self, valid_actions, hole_card, round_state):\n",
    "    global imgs\n",
    "    imgs.append(img_from_state(hole_card, round_state))\n",
    "    choice = self.__choice_action(valid_actions)\n",
    "    action = choice[\"action\"]\n",
    "    amount = choice[\"amount\"]\n",
    "    if action == \"raise\":\n",
    "      amount = rand.randrange(amount[\"min\"], max(amount[\"min\"], amount[\"max\"]) + 1)\n",
    "    return action, amount\n",
    "\n",
    "  def __choice_action(self, valid_actions):\n",
    "    r = rand.random()\n",
    "    if r <= self.fold_ratio:\n",
    "      return valid_actions[0]\n",
    "    elif r <= self.call_ratio:\n",
    "      return valid_actions[1]\n",
    "    else:\n",
    "      return valid_actions[2]\n",
    "\n",
    "\n",
    "  def receive_game_start_message(self, game_info):\n",
    "    pass\n",
    "\n",
    "  def receive_round_start_message(self, round_count, hole_card, seats):\n",
    "    pass\n",
    "\n",
    "  def receive_street_start_message(self, street, round_state):\n",
    "    pass\n",
    "\n",
    "  def receive_game_update_message(self, new_action, round_state):\n",
    "    pass\n",
    "\n",
    "  def receive_round_result_message(self, winners, hand_info, round_state):\n",
    "    pass"
   ]
  },
  {
   "cell_type": "markdown",
   "metadata": {},
   "source": [
    "---"
   ]
  },
  {
   "cell_type": "markdown",
   "metadata": {},
   "source": [
    "## Training"
   ]
  },
  {
   "cell_type": "code",
   "execution_count": 114,
   "metadata": {
    "collapsed": true
   },
   "outputs": [],
   "source": [
    "import warnings"
   ]
  },
  {
   "cell_type": "code",
   "execution_count": 171,
   "metadata": {},
   "outputs": [
    {
     "name": "stdout",
     "output_type": "stream",
     "text": [
      "0\n",
      "500\n",
      "1000\n",
      "1500\n",
      "2000\n",
      "2500\n",
      "3000\n",
      "3500\n",
      "4000\n",
      "4500\n",
      "CPU times: user 34min 58s, sys: 1min 36s, total: 36min 34s\n",
      "Wall time: 27min 18s\n"
     ]
    }
   ],
   "source": [
    "%%time\n",
    "# warnings.filterwarnings('ignore')\n",
    "from contextlib import redirect_stderr\n",
    "with open('/dev/null', 'w') as stderr, redirect_stderr(stderr):\n",
    "    iterations = 5000\n",
    "\n",
    "    w1 = WinnerPlayer()\n",
    "    w2 = WinnerPlayer()\n",
    "    w3 = WinnerPlayer()\n",
    "\n",
    "    for i in range(iterations):\n",
    "        if i % 500 == 0:\n",
    "            print(i)\n",
    "        w1.clear_experience()\n",
    "        w2.clear_experience()\n",
    "        w3.clear_experience()\n",
    "\n",
    "        config = setup_config(max_round=50, initial_stack=1500, small_blind_amount=15) \n",
    "        config.register_player(name=\"w1\", algorithm=w1)\n",
    "        config.register_player(name=\"w2\", algorithm=w2)\n",
    "        config.register_player(name=\"w3\", algorithm=w3)\n",
    "\n",
    "        config.register_player(name=\"r4\", algorithm=RandomPlayer())\n",
    "        config.register_player(name=\"r5\", algorithm=RandomPlayer())\n",
    "        config.register_player(name=\"r6\", algorithm=RandomPlayer())\n",
    "\n",
    "        config.register_player(name=\"f7\", algorithm=FishPlayer())\n",
    "        config.register_player(name=\"f8\", algorithm=FishPlayer())\n",
    "        config.register_player(name=\"f9\", algorithm=FishPlayer())\n",
    "\n",
    "        game_result = start_poker(config, verbose=0)\n",
    "    #     print('epoch {}, fit on {} samples, reward {}, q {}'.format(i, len(targets), np.mean(rewards[-10:]),\n",
    "    #                                                                                          np.mean(qs[-10:])))\n",
    "        w1.fit()\n",
    "        w2.fit()\n",
    "        w3.fit()"
   ]
  },
  {
   "cell_type": "markdown",
   "metadata": {},
   "source": [
    "## Testing"
   ]
  },
  {
   "cell_type": "code",
   "execution_count": 87,
   "metadata": {
    "collapsed": true
   },
   "outputs": [],
   "source": [
    "imgs = []"
   ]
  },
  {
   "cell_type": "code",
   "execution_count": 88,
   "metadata": {
    "scrolled": true
   },
   "outputs": [
    {
     "name": "stdout",
     "output_type": "stream",
     "text": [
      "{'round_count': 1, 'small_blind_amount': 15, 'street': 0, 'next_player': 1, 'table': <pypokerengine.engine.table.Table object at 0x7faa59980358>}\n",
      "Started the round 1\n",
      "Street \"preflop\" started. (community card = [])\n",
      "\"r2\" declared \"raise:68\"\n",
      "{'round_count': 1, 'small_blind_amount': 15, 'street': 1, 'next_player': 1, 'table': <pypokerengine.engine.table.Table object at 0x7faa599808d0>}\n",
      "\"f1\" declared \"call:68\"\n",
      "Street \"flop\" started. (community card = ['S7', 'C6', 'CT'])\n",
      "\"r2\" declared \"fold:0\"\n",
      "\"['f1']\" won the round 1 (stack = {'f1': 1568, 'r2': 1432})\n",
      "{'round_count': 2, 'small_blind_amount': 15, 'street': 0, 'next_player': 0, 'table': <pypokerengine.engine.table.Table object at 0x7faa599f0898>}\n",
      "Started the round 2\n",
      "Street \"preflop\" started. (community card = [])\n",
      "\"f1\" declared \"call:30\"\n",
      "\"r2\" declared \"fold:0\"\n",
      "\"['f1']\" won the round 2 (stack = {'f1': 1598, 'r2': 1402})\n"
     ]
    },
    {
     "name": "stderr",
     "output_type": "stream",
     "text": [
      "Exception ignored in: <bound method GameSummarizer.__del__ of <pypokerengine.engine.dealer.GameSummarizer object at 0x7faa59970940>>\n",
      "Traceback (most recent call last):\n",
      "  File \"/home/digitman/python_projects/holdem-challenge/pypokerengine/engine/dealer.py\", line 297, in __del__\n",
      "    self.summary_file.close()\n",
      "AttributeError: 'NoneType' object has no attribute 'close'\n"
     ]
    }
   ],
   "source": [
    "config = setup_config(max_round=2, initial_stack=1500, small_blind_amount=15)\n",
    "# w = WinnerPlayer(True)\n",
    "# w2.debug = True\n",
    "# config.register_player(name=\"w1\", algorithm=w1)\n",
    "config.register_player(name=\"f1\", algorithm=FishPlayer())\n",
    "config.register_player(name=\"r2\", algorithm=RandomPlayer())\n",
    "# config.register_player(name=\"f3\", algorithm=FishPlayer())\n",
    "# config.register_player(name=\"f4\", algorithm=FishPlayer())\n",
    "# config.register_player(name=\"f5\", algorithm=FishPlayer())\n",
    "# config.register_player(name=\"f6\", algorithm=FishPlayer())\n",
    "# config.register_player(name=\"f7\", algorithm=FishPlayer())\n",
    "# config.register_player(name=\"f8\", algorithm=FishPlayer())\n",
    "# config.register_player(name=\"f9\", algorithm=FishPlayer())\n",
    "\n",
    "game_result = start_poker(config, verbose=1)"
   ]
  },
  {
   "cell_type": "code",
   "execution_count": 99,
   "metadata": {},
   "outputs": [
    {
     "data": {
      "text/plain": [
       "4.0"
      ]
     },
     "execution_count": 99,
     "metadata": {},
     "output_type": "execute_result"
    }
   ],
   "source": [
    "imgs[0].sum()"
   ]
  },
  {
   "cell_type": "code",
   "execution_count": 104,
   "metadata": {},
   "outputs": [
    {
     "data": {
      "text/plain": [
       "array([[ 0.,  0.,  0.,  0.,  0.,  1.,  0.,  0.,  0.,  0.,  0.,  0.,  0.,\n",
       "         0.,  0.,  0.,  0.],\n",
       "       [ 0.,  0.,  0.,  0.,  0.,  0.,  0.,  0.,  1.,  0.,  0.,  0.,  0.,\n",
       "         0.,  0.,  0.,  0.],\n",
       "       [ 0.,  0.,  0.,  0.,  0.,  0.,  0.,  0.,  0.,  0.,  0.,  0.,  0.,\n",
       "         0.,  0.,  0.,  0.],\n",
       "       [ 0.,  0.,  0.,  0.,  0.,  0.,  0.,  0.,  0.,  0.,  0.,  0.,  0.,\n",
       "         0.,  0.,  0.,  0.],\n",
       "       [ 0.,  0.,  0.,  0.,  0.,  0.,  0.,  0.,  0.,  0.,  0.,  0.,  0.,\n",
       "         0.,  0.,  0.,  0.],\n",
       "       [ 0.,  0.,  0.,  0.,  0.,  0.,  0.,  0.,  0.,  0.,  0.,  0.,  0.,\n",
       "         0.,  0.,  0.,  0.],\n",
       "       [ 0.,  0.,  0.,  0.,  0.,  0.,  0.,  0.,  0.,  0.,  0.,  0.,  0.,\n",
       "         0.,  0.,  0.,  0.],\n",
       "       [ 0.,  0.,  0.,  0.,  0.,  1.,  0.,  0.,  1.,  0.,  0.,  0.,  0.,\n",
       "         0.,  0.,  0.,  0.]])"
      ]
     },
     "execution_count": 104,
     "metadata": {},
     "output_type": "execute_result"
    }
   ],
   "source": [
    "imgs[0].sum(axis=1)"
   ]
  },
  {
   "cell_type": "code",
   "execution_count": 116,
   "metadata": {},
   "outputs": [
    {
     "ename": "IndexError",
     "evalue": "list index out of range",
     "output_type": "error",
     "traceback": [
      "\u001b[0;31m---------------------------------------------------------------------------\u001b[0m",
      "\u001b[0;31mIndexError\u001b[0m                                Traceback (most recent call last)",
      "\u001b[0;32m<ipython-input-116-3453ad20eb32>\u001b[0m in \u001b[0;36m<module>\u001b[0;34m()\u001b[0m\n\u001b[0;32m----> 1\u001b[0;31m \u001b[0mplt\u001b[0m\u001b[0;34m.\u001b[0m\u001b[0mimshow\u001b[0m\u001b[0;34m(\u001b[0m\u001b[0mimgs\u001b[0m\u001b[0;34m[\u001b[0m\u001b[0;36m3\u001b[0m\u001b[0;34m]\u001b[0m\u001b[0;34m[\u001b[0m\u001b[0;36m7\u001b[0m\u001b[0;34m,\u001b[0m\u001b[0;34m:\u001b[0m\u001b[0;34m,\u001b[0m\u001b[0;34m:\u001b[0m\u001b[0;34m]\u001b[0m\u001b[0;34m)\u001b[0m\u001b[0;34m\u001b[0m\u001b[0m\n\u001b[0m",
      "\u001b[0;31mIndexError\u001b[0m: list index out of range"
     ]
    }
   ],
   "source": [
    "plt.imshow(imgs[3][7,:,:])"
   ]
  },
  {
   "cell_type": "code",
   "execution_count": 95,
   "metadata": {},
   "outputs": [
    {
     "data": {
      "text/plain": [
       "<matplotlib.image.AxesImage at 0x7faa562942e8>"
      ]
     },
     "execution_count": 95,
     "metadata": {},
     "output_type": "execute_result"
    },
    {
     "data": {
      "image/png": "[encoded data removed]",
      "text/plain": [
       "<matplotlib.figure.Figure at 0x7faa5631d940>"
      ]
     },
     "metadata": {},
     "output_type": "display_data"
    }
   ],
   "source": [
    "plt.imshow(imgs[0][:,:,6])"
   ]
  },
  {
   "cell_type": "markdown",
   "metadata": {},
   "source": [
    "### State check"
   ]
  },
  {
   "cell_type": "code",
   "execution_count": null,
   "metadata": {
    "collapsed": true
   },
   "outputs": [],
   "source": [
    "# self.features.extend([bank, stack, dealer_btn, small_blind_pos, big_blind_pos, next_player], round_count)"
   ]
  },
  {
   "cell_type": "code",
   "execution_count": 138,
   "metadata": {},
   "outputs": [
    {
     "data": {
      "text/plain": [
       "14.0"
      ]
     },
     "execution_count": 138,
     "metadata": {},
     "output_type": "execute_result"
    }
   ],
   "source": [
    "w.experience[6][0][0].sum()"
   ]
  },
  {
   "cell_type": "code",
   "execution_count": 122,
   "metadata": {},
   "outputs": [
    {
     "data": {
      "text/plain": [
       "199"
      ]
     },
     "execution_count": 122,
     "metadata": {},
     "output_type": "execute_result"
    }
   ],
   "source": [
    "len(w.experience)"
   ]
  },
  {
   "cell_type": "code",
   "execution_count": 135,
   "metadata": {},
   "outputs": [
    {
     "data": {
      "text/plain": [
       "[0, 1, 0, 0, 5337, 877, 1, 2, 3, 0, 2, 1, 1, 1, 1, 1, 1, 1, 7279]"
      ]
     },
     "execution_count": 135,
     "metadata": {},
     "output_type": "execute_result"
    }
   ],
   "source": [
    "w.experience[4][0][1]"
   ]
  },
  {
   "cell_type": "markdown",
   "metadata": {},
   "source": [
    "### Model analysis"
   ]
  },
  {
   "cell_type": "code",
   "execution_count": 155,
   "metadata": {},
   "outputs": [
    {
     "name": "stdout",
     "output_type": "stream",
     "text": [
      "____________________________________________________________________________________________________\n",
      "Layer (type)                     Output Shape          Param #     Connected to                     \n",
      "====================================================================================================\n",
      "inp1 (InputLayer)                (None, 8, 17, 17)     0                                            \n",
      "____________________________________________________________________________________________________\n",
      "conv2d_97 (Conv2D)               (None, 32, 7, 7)      6432        inp1[0][0]                       \n",
      "____________________________________________________________________________________________________\n",
      "conv2d_98 (Conv2D)               (None, 32, 5, 5)      9248        conv2d_97[0][0]                  \n",
      "____________________________________________________________________________________________________\n",
      "inp2 (InputLayer)                (None, 19)            0                                            \n",
      "____________________________________________________________________________________________________\n",
      "conv2d_99 (Conv2D)               (None, 32, 1, 1)      25632       conv2d_98[0][0]                  \n",
      "____________________________________________________________________________________________________\n",
      "dense_129 (Dense)                (None, 32)            640         inp2[0][0]                       \n",
      "____________________________________________________________________________________________________\n",
      "flatten_33 (Flatten)             (None, 32)            0           conv2d_99[0][0]                  \n",
      "____________________________________________________________________________________________________\n",
      "dense_130 (Dense)                (None, 64)            2112        dense_129[0][0]                  \n",
      "____________________________________________________________________________________________________\n",
      "concatenate_33 (Concatenate)     (None, 96)            0           flatten_33[0][0]                 \n",
      "                                                                   dense_130[0][0]                  \n",
      "____________________________________________________________________________________________________\n",
      "dense_131 (Dense)                (None, 32)            3104        concatenate_33[0][0]             \n",
      "____________________________________________________________________________________________________\n",
      "dense_132 (Dense)                (None, 5)             165         dense_131[0][0]                  \n",
      "====================================================================================================\n",
      "Total params: 47,333\n",
      "Trainable params: 47,333\n",
      "Non-trainable params: 0\n",
      "____________________________________________________________________________________________________\n"
     ]
    }
   ],
   "source": [
    "w1.model.summary()"
   ]
  },
  {
   "cell_type": "code",
   "execution_count": 175,
   "metadata": {},
   "outputs": [
    {
     "data": {
      "text/plain": [
       "<matplotlib.colorbar.Colorbar at 0x7f1f18adfa58>"
      ]
     },
     "execution_count": 175,
     "metadata": {},
     "output_type": "execute_result"
    },
    {
     "data": {
      "image/png": "[encoded data removed]",
      "text/plain": [
       "<matplotlib.figure.Figure at 0x7f1f18e57668>"
      ]
     },
     "metadata": {},
     "output_type": "display_data"
    }
   ],
   "source": [
    "plt.imshow(w1.model.layers[1].get_weights()[0][:, :, 7, 2])\n",
    "plt.gray()\n",
    "plt.colorbar()"
   ]
  },
  {
   "cell_type": "code",
   "execution_count": 177,
   "metadata": {},
   "outputs": [
    {
     "data": {
      "text/plain": [
       "<matplotlib.colorbar.Colorbar at 0x7f1f188f35c0>"
      ]
     },
     "execution_count": 177,
     "metadata": {},
     "output_type": "execute_result"
    },
    {
     "data": {
      "image/png": "[encoded data removed]",
      "text/plain": [
       "<matplotlib.figure.Figure at 0x7f1f18c03da0>"
      ]
     },
     "metadata": {},
     "output_type": "display_data"
    }
   ],
   "source": [
    "plt.imshow(w1.model.layers[5].get_weights()[0])\n",
    "plt.gray()\n",
    "plt.colorbar()"
   ]
  },
  {
   "cell_type": "markdown",
   "metadata": {
    "collapsed": true
   },
   "source": [
    "## Training analysis"
   ]
  },
  {
   "cell_type": "code",
   "execution_count": 178,
   "metadata": {
    "collapsed": true
   },
   "outputs": [],
   "source": [
    "import pandas as pd"
   ]
  },
  {
   "cell_type": "code",
   "execution_count": 183,
   "metadata": {},
   "outputs": [
    {
     "data": {
      "text/plain": [
       "[<matplotlib.lines.Line2D at 0x7f1f1864cf28>]"
      ]
     },
     "execution_count": 183,
     "metadata": {},
     "output_type": "execute_result"
    },
    {
     "data": {
      "image/png": "[encoded data removed]",
      "text/plain": [
       "<matplotlib.figure.Figure at 0x7f1f1890db00>"
      ]
     },
     "metadata": {},
     "output_type": "display_data"
    }
   ],
   "source": [
    "# plt.plot(w1.rewards)\n",
    "plt.plot(pd.rolling_mean(pd.Series(w1.rewards), 1000))"
   ]
  },
  {
   "cell_type": "code",
   "execution_count": 184,
   "metadata": {},
   "outputs": [
    {
     "data": {
      "text/plain": [
       "[<matplotlib.lines.Line2D at 0x7f1f185eb048>]"
      ]
     },
     "execution_count": 184,
     "metadata": {},
     "output_type": "execute_result"
    },
    {
     "data": {
      "image/png": "[encoded data removed]",
      "text/plain": [
       "<matplotlib.figure.Figure at 0x7f1f18940e10>"
      ]
     },
     "metadata": {},
     "output_type": "display_data"
    }
   ],
   "source": [
    "# plt.plot(w1.qs)\n",
    "plt.plot(pd.rolling_mean(pd.Series(w1.qs), 500))"
   ]
  },
  {
   "cell_type": "code",
   "execution_count": 186,
   "metadata": {},
   "outputs": [
    {
     "data": {
      "text/plain": [
       "[<matplotlib.lines.Line2D at 0x7f1f1848d4e0>]"
      ]
     },
     "execution_count": 186,
     "metadata": {},
     "output_type": "execute_result"
    },
    {
     "data": {
      "image/png": "[encoded data removed]",
      "text/plain": [
       "<matplotlib.figure.Figure at 0x7f1f1850da58>"
      ]
     },
     "metadata": {},
     "output_type": "display_data"
    }
   ],
   "source": [
    "# plt.plot(w1.losses)\n",
    "plt.plot(pd.rolling_mean(pd.Series(w1.losses), 50))\n",
    "# plt.ylim(0, np.max(losses) // 2)"
   ]
  },
  {
   "cell_type": "markdown",
   "metadata": {},
   "source": [
    "### Скорость инференса"
   ]
  },
  {
   "cell_type": "code",
   "execution_count": 187,
   "metadata": {},
   "outputs": [
    {
     "name": "stdout",
     "output_type": "stream",
     "text": [
      "CPU times: user 4 ms, sys: 0 ns, total: 4 ms\n",
      "Wall time: 5.6 ms\n"
     ]
    }
   ],
   "source": [
    "%%time\n",
    "p = w1.model.predict_on_batch([np.expand_dims(w1.experience[0][0][0], 0), np.expand_dims(w1.experience[0][0][1], 0)])"
   ]
  },
  {
   "cell_type": "markdown",
   "metadata": {
    "collapsed": true
   },
   "source": [
    "## Против человека в консоле"
   ]
  },
  {
   "cell_type": "code",
   "execution_count": 156,
   "metadata": {
    "collapsed": true
   },
   "outputs": [],
   "source": [
    "import pypokerengine.utils.visualize_utils as U\n",
    "from pypokerengine.players import BasePokerPlayer\n",
    "\n",
    "class ConsolePlayer(BasePokerPlayer):\n",
    "\n",
    "  def __init__(self, input_receiver=None):\n",
    "    self.input_receiver = input_receiver if input_receiver else self.__gen_raw_input_wrapper()\n",
    "\n",
    "  def declare_action(self, valid_actions, hole_card, round_state):\n",
    "    print(U.visualize_declare_action(valid_actions, hole_card, round_state, self.uuid))\n",
    "    action, amount = self.__receive_action_from_console(valid_actions)\n",
    "    return action, amount\n",
    "\n",
    "  def receive_game_start_message(self, game_info):\n",
    "    print(U.visualize_game_start(game_info, self.uuid))\n",
    "    self.__wait_until_input()\n",
    "\n",
    "  def receive_round_start_message(self, round_count, hole_card, seats):\n",
    "    print(U.visualize_round_start(round_count, hole_card, seats, self.uuid))\n",
    "    self.__wait_until_input()\n",
    "\n",
    "  def receive_street_start_message(self, street, round_state):\n",
    "    print(U.visualize_street_start(street, round_state, self.uuid))\n",
    "    self.__wait_until_input()\n",
    "\n",
    "  def receive_game_update_message(self, new_action, round_state):\n",
    "    print(U.visualize_game_update(new_action, round_state, self.uuid))\n",
    "    self.__wait_until_input()\n",
    "\n",
    "  def receive_round_result_message(self, winners, hand_info, round_state):\n",
    "    print(U.visualize_round_result(winners, hand_info, round_state, self.uuid))\n",
    "    self.__wait_until_input()\n",
    "\n",
    "  def __wait_until_input(self):\n",
    "    input(\"Enter some key to continue ...\")\n",
    "\n",
    "  def __gen_raw_input_wrapper(self):\n",
    "    return lambda msg: input(msg)\n",
    "\n",
    "  def __receive_action_from_console(self, valid_actions):\n",
    "    flg = self.input_receiver('Enter f(fold), c(call), r(raise).\\n >> ')\n",
    "    if flg in self.__gen_valid_flg(valid_actions):\n",
    "      if flg == 'f':\n",
    "        return valid_actions[0]['action'], valid_actions[0]['amount']\n",
    "      elif flg == 'c':\n",
    "        return valid_actions[1]['action'], valid_actions[1]['amount']\n",
    "      elif flg == 'r':\n",
    "        valid_amounts = valid_actions[2]['amount']\n",
    "        raise_amount = self.__receive_raise_amount_from_console(valid_amounts['min'], valid_amounts['max'])\n",
    "        return valid_actions[2]['action'], raise_amount\n",
    "    else:\n",
    "      return self.__receive_action_from_console(valid_actions)\n",
    "\n",
    "  def __gen_valid_flg(self, valid_actions):\n",
    "    flgs = ['f', 'c']\n",
    "    is_raise_possible = valid_actions[2]['amount']['min'] != -1\n",
    "    if is_raise_possible:\n",
    "      flgs.append('r')\n",
    "    return flgs\n",
    "\n",
    "  def __receive_raise_amount_from_console(self, min_amount, max_amount):\n",
    "    raw_amount = self.input_receiver(\"valid raise range = [%d, %d]\" % (min_amount, max_amount))\n",
    "    try:\n",
    "      amount = int(raw_amount)\n",
    "      if min_amount <= amount and amount <= max_amount:\n",
    "        return amount\n",
    "      else:\n",
    "        print(\"Invalid raise amount %d. Try again.\")\n",
    "        return self.__receive_raise_amount_from_console(min_amount, max_amount)\n",
    "    except:\n",
    "      print(\"Invalid input received. Try again.\")\n",
    "      return self.__receive_raise_amount_from_console(min_amount, max_amount)"
   ]
  },
  {
   "cell_type": "code",
   "execution_count": 157,
   "metadata": {
    "scrolled": true
   },
   "outputs": [
    {
     "name": "stdout",
     "output_type": "stream",
     "text": [
      "-- Game start (UUID = qaeykkbzmnbbfhmlchbjcu) --\n",
      "======================================================================\n",
      "-- rule --\n",
      "  - 2 players game\n",
      "  - 10 round\n",
      "  - start stack = 100\n",
      "  -        ante = 0\n",
      "  - small blind = 5\n",
      "======================================================================\n",
      "Enter some key to continue ...\n",
      "(['Hole:', ['H2', 'CQ']],)\n",
      "(['Start stack:', 90],)\n",
      "-- Round 1 start (UUID = qaeykkbzmnbbfhmlchbjcu) --\n",
      "======================================================================\n",
      "-- hole card --\n",
      "  - ['S9', 'DK']\n",
      "-- players information --\n",
      "  - 0 : w (hzwnwxqpjkanfffllaqluq) => state : participating, stack : 90\n",
      "  - 1 : human_player (qaeykkbzmnbbfhmlchbjcu) => state : participating, stack : 95\n",
      "======================================================================\n",
      "Enter some key to continue ...\n",
      "-- New street start (UUID = qaeykkbzmnbbfhmlchbjcu) --\n",
      "======================================================================\n",
      "-- street --\n",
      "  - preflop\n",
      "======================================================================\n",
      "Enter some key to continue ...\n",
      "-- Declare your action (UUID = qaeykkbzmnbbfhmlchbjcu) --\n",
      "======================================================================\n",
      "-- valid actions --\n",
      "  - fold\n",
      "  - call: 10\n",
      "  - raise: [15, 100]\n",
      "-- hole card --\n",
      "  - ['S9', 'DK']\n",
      "-- round state --\n",
      "  - dealer btn : w\n",
      "  - street : preflop\n",
      "  - community card : []\n",
      "  - pot : main = 15, side = []\n",
      "  - players information\n",
      "    - 0 : w (hzwnwxqpjkanfffllaqluq) => state : participating, stack : 90 <= BB\n",
      "    - 1 : human_player (qaeykkbzmnbbfhmlchbjcu) => state : participating, stack : 95 <= SB, CURRENT\n",
      "  - action histories\n",
      "    - preflop\n",
      "      - {'action': 'SMALLBLIND', 'amount': 5, 'add_amount': 5, 'player': 'human_player (uuid=qaeykkbzmnbbfhmlchbjcu)'}\n",
      "      - {'action': 'BIGBLIND', 'amount': 10, 'add_amount': 5, 'player': 'w (uuid=hzwnwxqpjkanfffllaqluq)'}\n",
      "======================================================================\n",
      "Enter f(fold), c(call), r(raise).\n",
      " >> c\n",
      "-- Game update (UUID = qaeykkbzmnbbfhmlchbjcu) --\n",
      "======================================================================\n",
      "-- new action --\n",
      "  - human_player (qaeykkbzmnbbfhmlchbjcu) declared call: 10\n",
      "-- round state --\n",
      "  - dealer btn : w\n",
      "  - street : preflop\n",
      "  - community card : []\n",
      "  - pot : main = 20, side = []\n",
      "  - players information\n",
      "    - 0 : w (hzwnwxqpjkanfffllaqluq) => state : participating, stack : 90 <= BB\n",
      "    - 1 : human_player (qaeykkbzmnbbfhmlchbjcu) => state : participating, stack : 90 <= SB, CURRENT\n",
      "  - action histories\n",
      "    - preflop\n",
      "      - {'action': 'SMALLBLIND', 'amount': 5, 'add_amount': 5, 'player': 'human_player (uuid=qaeykkbzmnbbfhmlchbjcu)'}\n",
      "      - {'action': 'BIGBLIND', 'amount': 10, 'add_amount': 5, 'player': 'w (uuid=hzwnwxqpjkanfffllaqluq)'}\n",
      "      - {'action': 'CALL', 'amount': 10, 'paid': 5, 'player': 'human_player (uuid=qaeykkbzmnbbfhmlchbjcu)'}\n",
      "======================================================================\n",
      "Enter some key to continue ...\n"
     ]
    },
    {
     "ename": "ValueError",
     "evalue": "Error when checking : expected inp2 to have shape (None, 19) but got array with shape (1, 12)",
     "output_type": "error",
     "traceback": [
      "\u001b[0;31m---------------------------------------------------------------------------\u001b[0m",
      "\u001b[0;31mValueError\u001b[0m                                Traceback (most recent call last)",
      "\u001b[0;32m<ipython-input-157-74a45fb93a21>\u001b[0m in \u001b[0;36m<module>\u001b[0;34m()\u001b[0m\n\u001b[1;32m      4\u001b[0m \u001b[0mconfig\u001b[0m\u001b[0;34m.\u001b[0m\u001b[0mregister_player\u001b[0m\u001b[0;34m(\u001b[0m\u001b[0mname\u001b[0m\u001b[0;34m=\u001b[0m\u001b[0;34m\"w\"\u001b[0m\u001b[0;34m,\u001b[0m \u001b[0malgorithm\u001b[0m\u001b[0;34m=\u001b[0m\u001b[0mw\u001b[0m\u001b[0;34m)\u001b[0m\u001b[0;34m\u001b[0m\u001b[0m\n\u001b[1;32m      5\u001b[0m \u001b[0mconfig\u001b[0m\u001b[0;34m.\u001b[0m\u001b[0mregister_player\u001b[0m\u001b[0;34m(\u001b[0m\u001b[0mname\u001b[0m\u001b[0;34m=\u001b[0m\u001b[0;34m\"human_player\"\u001b[0m\u001b[0;34m,\u001b[0m \u001b[0malgorithm\u001b[0m\u001b[0;34m=\u001b[0m\u001b[0mConsolePlayer\u001b[0m\u001b[0;34m(\u001b[0m\u001b[0;34m)\u001b[0m\u001b[0;34m)\u001b[0m\u001b[0;34m\u001b[0m\u001b[0m\n\u001b[0;32m----> 6\u001b[0;31m \u001b[0mgame_result\u001b[0m \u001b[0;34m=\u001b[0m \u001b[0mstart_poker\u001b[0m\u001b[0;34m(\u001b[0m\u001b[0mconfig\u001b[0m\u001b[0;34m,\u001b[0m \u001b[0mverbose\u001b[0m\u001b[0;34m=\u001b[0m\u001b[0;36m0\u001b[0m\u001b[0;34m)\u001b[0m\u001b[0;34m\u001b[0m\u001b[0m\n\u001b[0m",
      "\u001b[0;32m/home/digitman/python_projects/holdem-challenge/pypokerengine/api/game.py\u001b[0m in \u001b[0;36mstart_poker\u001b[0;34m(config, verbose)\u001b[0m\n\u001b[1;32m     12\u001b[0m     \u001b[0;32mfor\u001b[0m \u001b[0minfo\u001b[0m \u001b[0;32min\u001b[0m \u001b[0mconfig\u001b[0m\u001b[0;34m.\u001b[0m\u001b[0mplayers_info\u001b[0m\u001b[0;34m:\u001b[0m\u001b[0;34m\u001b[0m\u001b[0m\n\u001b[1;32m     13\u001b[0m         \u001b[0mdealer\u001b[0m\u001b[0;34m.\u001b[0m\u001b[0mregister_player\u001b[0m\u001b[0;34m(\u001b[0m\u001b[0minfo\u001b[0m\u001b[0;34m[\u001b[0m\u001b[0;34m\"name\"\u001b[0m\u001b[0;34m]\u001b[0m\u001b[0;34m,\u001b[0m \u001b[0minfo\u001b[0m\u001b[0;34m[\u001b[0m\u001b[0;34m\"algorithm\"\u001b[0m\u001b[0;34m]\u001b[0m\u001b[0;34m)\u001b[0m\u001b[0;34m\u001b[0m\u001b[0m\n\u001b[0;32m---> 14\u001b[0;31m     \u001b[0mresult_message\u001b[0m \u001b[0;34m=\u001b[0m \u001b[0mdealer\u001b[0m\u001b[0;34m.\u001b[0m\u001b[0mstart_game\u001b[0m\u001b[0;34m(\u001b[0m\u001b[0mconfig\u001b[0m\u001b[0;34m.\u001b[0m\u001b[0mmax_round\u001b[0m\u001b[0;34m)\u001b[0m\u001b[0;34m\u001b[0m\u001b[0m\n\u001b[0m\u001b[1;32m     15\u001b[0m     \u001b[0;32mreturn\u001b[0m \u001b[0m_format_result\u001b[0m\u001b[0;34m(\u001b[0m\u001b[0mresult_message\u001b[0m\u001b[0;34m)\u001b[0m\u001b[0;34m\u001b[0m\u001b[0m\n\u001b[1;32m     16\u001b[0m \u001b[0;34m\u001b[0m\u001b[0m\n",
      "\u001b[0;32m/home/digitman/python_projects/holdem-challenge/pypokerengine/engine/dealer.py\u001b[0m in \u001b[0;36mstart_game\u001b[0;34m(self, max_round)\u001b[0m\n\u001b[1;32m     40\u001b[0m       \u001b[0mtable\u001b[0m \u001b[0;34m=\u001b[0m \u001b[0mself\u001b[0m\u001b[0;34m.\u001b[0m\u001b[0m__exclude_short_of_money_players\u001b[0m\u001b[0;34m(\u001b[0m\u001b[0mtable\u001b[0m\u001b[0;34m,\u001b[0m \u001b[0mante\u001b[0m\u001b[0;34m,\u001b[0m \u001b[0msb_amount\u001b[0m\u001b[0;34m)\u001b[0m\u001b[0;34m\u001b[0m\u001b[0m\n\u001b[1;32m     41\u001b[0m       \u001b[0;32mif\u001b[0m \u001b[0mself\u001b[0m\u001b[0;34m.\u001b[0m\u001b[0m__is_game_finished\u001b[0m\u001b[0;34m(\u001b[0m\u001b[0mtable\u001b[0m\u001b[0;34m)\u001b[0m\u001b[0;34m:\u001b[0m \u001b[0;32mbreak\u001b[0m\u001b[0;34m\u001b[0m\u001b[0m\n\u001b[0;32m---> 42\u001b[0;31m       \u001b[0mtable\u001b[0m \u001b[0;34m=\u001b[0m \u001b[0mself\u001b[0m\u001b[0;34m.\u001b[0m\u001b[0mplay_round\u001b[0m\u001b[0;34m(\u001b[0m\u001b[0mround_count\u001b[0m\u001b[0;34m,\u001b[0m \u001b[0msb_amount\u001b[0m\u001b[0;34m,\u001b[0m \u001b[0mante\u001b[0m\u001b[0;34m,\u001b[0m \u001b[0mtable\u001b[0m\u001b[0;34m)\u001b[0m\u001b[0;34m\u001b[0m\u001b[0m\n\u001b[0m\u001b[1;32m     43\u001b[0m       \u001b[0mtable\u001b[0m\u001b[0;34m.\u001b[0m\u001b[0mshift_dealer_btn\u001b[0m\u001b[0;34m(\u001b[0m\u001b[0;34m)\u001b[0m\u001b[0;34m\u001b[0m\u001b[0m\n\u001b[1;32m     44\u001b[0m     \u001b[0;32mreturn\u001b[0m \u001b[0mself\u001b[0m\u001b[0;34m.\u001b[0m\u001b[0m__generate_game_result\u001b[0m\u001b[0;34m(\u001b[0m\u001b[0mmax_round\u001b[0m\u001b[0;34m,\u001b[0m \u001b[0mtable\u001b[0m\u001b[0;34m.\u001b[0m\u001b[0mseats\u001b[0m\u001b[0;34m)\u001b[0m\u001b[0;34m\u001b[0m\u001b[0m\n",
      "\u001b[0;32m/home/digitman/python_projects/holdem-challenge/pypokerengine/engine/dealer.py\u001b[0m in \u001b[0;36mplay_round\u001b[0;34m(self, round_count, blind_amount, ante, table)\u001b[0m\n\u001b[1;32m     49\u001b[0m       \u001b[0mself\u001b[0m\u001b[0;34m.\u001b[0m\u001b[0m__message_check\u001b[0m\u001b[0;34m(\u001b[0m\u001b[0mmsgs\u001b[0m\u001b[0;34m,\u001b[0m \u001b[0mstate\u001b[0m\u001b[0;34m[\u001b[0m\u001b[0;34m\"street\"\u001b[0m\u001b[0;34m]\u001b[0m\u001b[0;34m)\u001b[0m\u001b[0;34m\u001b[0m\u001b[0m\n\u001b[1;32m     50\u001b[0m       \u001b[0;32mif\u001b[0m \u001b[0mstate\u001b[0m\u001b[0;34m[\u001b[0m\u001b[0;34m\"street\"\u001b[0m\u001b[0;34m]\u001b[0m \u001b[0;34m!=\u001b[0m \u001b[0mConst\u001b[0m\u001b[0;34m.\u001b[0m\u001b[0mStreet\u001b[0m\u001b[0;34m.\u001b[0m\u001b[0mFINISHED\u001b[0m\u001b[0;34m:\u001b[0m  \u001b[0;31m# continue the round\u001b[0m\u001b[0;34m\u001b[0m\u001b[0m\n\u001b[0;32m---> 51\u001b[0;31m         \u001b[0maction\u001b[0m\u001b[0;34m,\u001b[0m \u001b[0mbet_amount\u001b[0m \u001b[0;34m=\u001b[0m \u001b[0mself\u001b[0m\u001b[0;34m.\u001b[0m\u001b[0m__publish_messages\u001b[0m\u001b[0;34m(\u001b[0m\u001b[0mmsgs\u001b[0m\u001b[0;34m)\u001b[0m\u001b[0;34m\u001b[0m\u001b[0m\n\u001b[0m\u001b[1;32m     52\u001b[0m         \u001b[0mstate\u001b[0m\u001b[0;34m,\u001b[0m \u001b[0mmsgs\u001b[0m \u001b[0;34m=\u001b[0m \u001b[0mRoundManager\u001b[0m\u001b[0;34m.\u001b[0m\u001b[0mapply_action\u001b[0m\u001b[0;34m(\u001b[0m\u001b[0mstate\u001b[0m\u001b[0;34m,\u001b[0m \u001b[0maction\u001b[0m\u001b[0;34m,\u001b[0m \u001b[0mbet_amount\u001b[0m\u001b[0;34m)\u001b[0m\u001b[0;34m\u001b[0m\u001b[0m\n\u001b[1;32m     53\u001b[0m       \u001b[0;32melse\u001b[0m\u001b[0;34m:\u001b[0m  \u001b[0;31m# finish the round after publish round result\u001b[0m\u001b[0;34m\u001b[0m\u001b[0m\n",
      "\u001b[0;32m/home/digitman/python_projects/holdem-challenge/pypokerengine/engine/dealer.py\u001b[0m in \u001b[0;36m__publish_messages\u001b[0;34m(self, msgs)\u001b[0m\n\u001b[1;32m    106\u001b[0m     \u001b[0mself\u001b[0m\u001b[0;34m.\u001b[0m\u001b[0mmessage_summarizer\u001b[0m\u001b[0;34m.\u001b[0m\u001b[0msummarize_messages\u001b[0m\u001b[0;34m(\u001b[0m\u001b[0mmsgs\u001b[0m\u001b[0;34m)\u001b[0m\u001b[0;34m\u001b[0m\u001b[0m\n\u001b[1;32m    107\u001b[0m     \u001b[0mself\u001b[0m\u001b[0;34m.\u001b[0m\u001b[0mgame_summarizer\u001b[0m\u001b[0;34m.\u001b[0m\u001b[0msummarize_messages\u001b[0m\u001b[0;34m(\u001b[0m\u001b[0mmsgs\u001b[0m\u001b[0;34m)\u001b[0m\u001b[0;34m\u001b[0m\u001b[0m\n\u001b[0;32m--> 108\u001b[0;31m     \u001b[0;32mreturn\u001b[0m \u001b[0mself\u001b[0m\u001b[0;34m.\u001b[0m\u001b[0mmessage_handler\u001b[0m\u001b[0;34m.\u001b[0m\u001b[0mprocess_message\u001b[0m\u001b[0;34m(\u001b[0m\u001b[0;34m*\u001b[0m\u001b[0mmsgs\u001b[0m\u001b[0;34m[\u001b[0m\u001b[0;34m-\u001b[0m\u001b[0;36m1\u001b[0m\u001b[0;34m]\u001b[0m\u001b[0;34m)\u001b[0m\u001b[0;34m\u001b[0m\u001b[0m\n\u001b[0m\u001b[1;32m    109\u001b[0m \u001b[0;34m\u001b[0m\u001b[0m\n\u001b[1;32m    110\u001b[0m   \u001b[0;32mdef\u001b[0m \u001b[0m__exclude_short_of_money_players\u001b[0m\u001b[0;34m(\u001b[0m\u001b[0mself\u001b[0m\u001b[0;34m,\u001b[0m \u001b[0mtable\u001b[0m\u001b[0;34m,\u001b[0m \u001b[0mante\u001b[0m\u001b[0;34m,\u001b[0m \u001b[0msb_amount\u001b[0m\u001b[0;34m)\u001b[0m\u001b[0;34m:\u001b[0m\u001b[0;34m\u001b[0m\u001b[0m\n",
      "\u001b[0;32m/home/digitman/python_projects/holdem-challenge/pypokerengine/engine/dealer.py\u001b[0m in \u001b[0;36mprocess_message\u001b[0;34m(self, address, msg)\u001b[0m\n\u001b[1;32m    195\u001b[0m     \u001b[0;32mfor\u001b[0m \u001b[0mreceiver\u001b[0m \u001b[0;32min\u001b[0m \u001b[0mreceivers\u001b[0m\u001b[0;34m:\u001b[0m\u001b[0;34m\u001b[0m\u001b[0m\n\u001b[1;32m    196\u001b[0m       \u001b[0;32mif\u001b[0m \u001b[0mmsg\u001b[0m\u001b[0;34m[\u001b[0m\u001b[0;34m\"type\"\u001b[0m\u001b[0;34m]\u001b[0m \u001b[0;34m==\u001b[0m \u001b[0;34m'ask'\u001b[0m\u001b[0;34m:\u001b[0m\u001b[0;34m\u001b[0m\u001b[0m\n\u001b[0;32m--> 197\u001b[0;31m         \u001b[0;32mreturn\u001b[0m \u001b[0mreceiver\u001b[0m\u001b[0;34m.\u001b[0m\u001b[0mrespond_to_ask\u001b[0m\u001b[0;34m(\u001b[0m\u001b[0mmsg\u001b[0m\u001b[0;34m[\u001b[0m\u001b[0;34m\"message\"\u001b[0m\u001b[0;34m]\u001b[0m\u001b[0;34m)\u001b[0m\u001b[0;34m\u001b[0m\u001b[0m\n\u001b[0m\u001b[1;32m    198\u001b[0m       \u001b[0;32melif\u001b[0m \u001b[0mmsg\u001b[0m\u001b[0;34m[\u001b[0m\u001b[0;34m\"type\"\u001b[0m\u001b[0;34m]\u001b[0m \u001b[0;34m==\u001b[0m \u001b[0;34m'notification'\u001b[0m\u001b[0;34m:\u001b[0m\u001b[0;34m\u001b[0m\u001b[0m\n\u001b[1;32m    199\u001b[0m         \u001b[0mreceiver\u001b[0m\u001b[0;34m.\u001b[0m\u001b[0mreceive_notification\u001b[0m\u001b[0;34m(\u001b[0m\u001b[0mmsg\u001b[0m\u001b[0;34m[\u001b[0m\u001b[0;34m\"message\"\u001b[0m\u001b[0;34m]\u001b[0m\u001b[0;34m)\u001b[0m\u001b[0;34m\u001b[0m\u001b[0m\n",
      "\u001b[0;32m/home/digitman/python_projects/holdem-challenge/pypokerengine/players.py\u001b[0m in \u001b[0;36mrespond_to_ask\u001b[0;34m(self, message)\u001b[0m\n\u001b[1;32m     46\u001b[0m     \u001b[0;34m\"\"\"Called from Dealer when ask message received from RoundManager\"\"\"\u001b[0m\u001b[0;34m\u001b[0m\u001b[0m\n\u001b[1;32m     47\u001b[0m     \u001b[0mvalid_actions\u001b[0m\u001b[0;34m,\u001b[0m \u001b[0mhole_card\u001b[0m\u001b[0;34m,\u001b[0m \u001b[0mround_state\u001b[0m \u001b[0;34m=\u001b[0m \u001b[0mself\u001b[0m\u001b[0;34m.\u001b[0m\u001b[0m__parse_ask_message\u001b[0m\u001b[0;34m(\u001b[0m\u001b[0mmessage\u001b[0m\u001b[0;34m)\u001b[0m\u001b[0;34m\u001b[0m\u001b[0m\n\u001b[0;32m---> 48\u001b[0;31m     \u001b[0;32mreturn\u001b[0m \u001b[0mself\u001b[0m\u001b[0;34m.\u001b[0m\u001b[0mdeclare_action\u001b[0m\u001b[0;34m(\u001b[0m\u001b[0mvalid_actions\u001b[0m\u001b[0;34m,\u001b[0m \u001b[0mhole_card\u001b[0m\u001b[0;34m,\u001b[0m \u001b[0mround_state\u001b[0m\u001b[0;34m)\u001b[0m\u001b[0;34m\u001b[0m\u001b[0m\n\u001b[0m\u001b[1;32m     49\u001b[0m \u001b[0;34m\u001b[0m\u001b[0m\n\u001b[1;32m     50\u001b[0m   \u001b[0;32mdef\u001b[0m \u001b[0mreceive_notification\u001b[0m\u001b[0;34m(\u001b[0m\u001b[0mself\u001b[0m\u001b[0;34m,\u001b[0m \u001b[0mmessage\u001b[0m\u001b[0;34m)\u001b[0m\u001b[0;34m:\u001b[0m\u001b[0;34m\u001b[0m\u001b[0m\n",
      "\u001b[0;32m<ipython-input-111-ec6ebb3ed724>\u001b[0m in \u001b[0;36mdeclare_action\u001b[0;34m(self, valid_actions, hole_card, round_state)\u001b[0m\n\u001b[1;32m     58\u001b[0m \u001b[0;31m#         self.imgs = get_card_features(hole_card)\u001b[0m\u001b[0;34m\u001b[0m\u001b[0;34m\u001b[0m\u001b[0m\n\u001b[1;32m     59\u001b[0m \u001b[0;34m\u001b[0m\u001b[0m\n\u001b[0;32m---> 60\u001b[0;31m         \u001b[0mself\u001b[0m\u001b[0;34m.\u001b[0m\u001b[0mpred\u001b[0m \u001b[0;34m=\u001b[0m \u001b[0mself\u001b[0m\u001b[0;34m.\u001b[0m\u001b[0mmodel\u001b[0m\u001b[0;34m.\u001b[0m\u001b[0mpredict_on_batch\u001b[0m\u001b[0;34m(\u001b[0m\u001b[0;34m[\u001b[0m\u001b[0mnp\u001b[0m\u001b[0;34m.\u001b[0m\u001b[0mexpand_dims\u001b[0m\u001b[0;34m(\u001b[0m\u001b[0mself\u001b[0m\u001b[0;34m.\u001b[0m\u001b[0mimgs\u001b[0m\u001b[0;34m,\u001b[0m \u001b[0;36m0\u001b[0m\u001b[0;34m)\u001b[0m\u001b[0;34m,\u001b[0m \u001b[0mnp\u001b[0m\u001b[0;34m.\u001b[0m\u001b[0mexpand_dims\u001b[0m\u001b[0;34m(\u001b[0m\u001b[0mself\u001b[0m\u001b[0;34m.\u001b[0m\u001b[0mfeatures\u001b[0m\u001b[0;34m,\u001b[0m \u001b[0;36m0\u001b[0m\u001b[0;34m)\u001b[0m\u001b[0;34m]\u001b[0m\u001b[0;34m)\u001b[0m\u001b[0;34m\u001b[0m\u001b[0m\n\u001b[0m\u001b[1;32m     61\u001b[0m \u001b[0;34m\u001b[0m\u001b[0m\n\u001b[1;32m     62\u001b[0m         \u001b[0;31m# actions: 0 - fold, 1 - call, 2 - min_raise, 3 - max_raise, 4 - middle_raise\u001b[0m\u001b[0;34m\u001b[0m\u001b[0;34m\u001b[0m\u001b[0m\n",
      "\u001b[0;32m/home/digitman/miniconda3/lib/python3.6/site-packages/keras/engine/training.py\u001b[0m in \u001b[0;36mpredict_on_batch\u001b[0;34m(self, x)\u001b[0m\n\u001b[1;32m   1697\u001b[0m         \"\"\"\n\u001b[1;32m   1698\u001b[0m         x = _standardize_input_data(x, self._feed_input_names,\n\u001b[0;32m-> 1699\u001b[0;31m                                     self._feed_input_shapes)\n\u001b[0m\u001b[1;32m   1700\u001b[0m         \u001b[0;32mif\u001b[0m \u001b[0mself\u001b[0m\u001b[0;34m.\u001b[0m\u001b[0muses_learning_phase\u001b[0m \u001b[0;32mand\u001b[0m \u001b[0;32mnot\u001b[0m \u001b[0misinstance\u001b[0m\u001b[0;34m(\u001b[0m\u001b[0mK\u001b[0m\u001b[0;34m.\u001b[0m\u001b[0mlearning_phase\u001b[0m\u001b[0;34m(\u001b[0m\u001b[0;34m)\u001b[0m\u001b[0;34m,\u001b[0m \u001b[0mint\u001b[0m\u001b[0;34m)\u001b[0m\u001b[0;34m:\u001b[0m\u001b[0;34m\u001b[0m\u001b[0m\n\u001b[1;32m   1701\u001b[0m             \u001b[0mins\u001b[0m \u001b[0;34m=\u001b[0m \u001b[0mx\u001b[0m \u001b[0;34m+\u001b[0m \u001b[0;34m[\u001b[0m\u001b[0;36m0.\u001b[0m\u001b[0;34m]\u001b[0m\u001b[0;34m\u001b[0m\u001b[0m\n",
      "\u001b[0;32m/home/digitman/miniconda3/lib/python3.6/site-packages/keras/engine/training.py\u001b[0m in \u001b[0;36m_standardize_input_data\u001b[0;34m(data, names, shapes, check_batch_axis, exception_prefix)\u001b[0m\n\u001b[1;32m    137\u001b[0m                             \u001b[0;34m' to have shape '\u001b[0m \u001b[0;34m+\u001b[0m \u001b[0mstr\u001b[0m\u001b[0;34m(\u001b[0m\u001b[0mshapes\u001b[0m\u001b[0;34m[\u001b[0m\u001b[0mi\u001b[0m\u001b[0;34m]\u001b[0m\u001b[0;34m)\u001b[0m \u001b[0;34m+\u001b[0m\u001b[0;34m\u001b[0m\u001b[0m\n\u001b[1;32m    138\u001b[0m                             \u001b[0;34m' but got array with shape '\u001b[0m \u001b[0;34m+\u001b[0m\u001b[0;34m\u001b[0m\u001b[0m\n\u001b[0;32m--> 139\u001b[0;31m                             str(array.shape))\n\u001b[0m\u001b[1;32m    140\u001b[0m     \u001b[0;32mreturn\u001b[0m \u001b[0marrays\u001b[0m\u001b[0;34m\u001b[0m\u001b[0m\n\u001b[1;32m    141\u001b[0m \u001b[0;34m\u001b[0m\u001b[0m\n",
      "\u001b[0;31mValueError\u001b[0m: Error when checking : expected inp2 to have shape (None, 19) but got array with shape (1, 12)"
     ]
    }
   ],
   "source": [
    "from pypokerengine.api.game import setup_config, start_poker\n",
    "\n",
    "config = setup_config(max_round=10, initial_stack=100, small_blind_amount=5)\n",
    "config.register_player(name=\"w\", algorithm=w)\n",
    "config.register_player(name=\"human_player\", algorithm=ConsolePlayer())\n",
    "game_result = start_poker(config, verbose=0)"
   ]
  },
  {
   "cell_type": "markdown",
   "metadata": {},
   "source": [
    "## Оценка силы руки"
   ]
  },
  {
   "cell_type": "code",
   "execution_count": 158,
   "metadata": {
    "collapsed": true
   },
   "outputs": [],
   "source": [
    "from pypokerengine.utils.card_utils import gen_cards, estimate_hole_card_win_rate\n",
    "hole_card = gen_cards(['H4', 'D7'])\n",
    "community_card = gen_cards(['D3', 'C5', 'C6'])"
   ]
  },
  {
   "cell_type": "code",
   "execution_count": 159,
   "metadata": {},
   "outputs": [
    {
     "name": "stdout",
     "output_type": "stream",
     "text": [
      "CPU times: user 764 ms, sys: 0 ns, total: 764 ms\n",
      "Wall time: 761 ms\n"
     ]
    },
    {
     "data": {
      "text/plain": [
       "0.588"
      ]
     },
     "execution_count": 159,
     "metadata": {},
     "output_type": "execute_result"
    }
   ],
   "source": [
    "%%time\n",
    "estimate_hole_card_win_rate(nb_simulation=500, nb_player=9, hole_card=hole_card, community_card=community_card)"
   ]
  },
  {
   "cell_type": "code",
   "execution_count": 162,
   "metadata": {},
   "outputs": [
    {
     "name": "stdout",
     "output_type": "stream",
     "text": [
      "CPU times: user 1min 5s, sys: 0 ns, total: 1min 5s\n",
      "Wall time: 1min 5s\n"
     ]
    }
   ],
   "source": [
    "%%time\n",
    "means = []\n",
    "stds = []\n",
    "\n",
    "x = list(range(10, 1110, 100))\n",
    "\n",
    "for i in x:\n",
    "    res = [estimate_hole_card_win_rate(nb_simulation=i, nb_player=9, hole_card=hole_card,\n",
    "                                       community_card=community_card) for j in range(10)]\n",
    "    means.append(np.mean(res))\n",
    "    stds.append(np.std(res))"
   ]
  },
  {
   "cell_type": "code",
   "execution_count": 163,
   "metadata": {},
   "outputs": [
    {
     "data": {
      "text/plain": [
       "<Container object of 3 artists>"
      ]
     },
     "execution_count": 163,
     "metadata": {},
     "output_type": "execute_result"
    },
    {
     "data": {
      "image/png": "[encoded data removed]",
      "text/plain": [
       "<matplotlib.figure.Figure at 0x7f1f1c8db6a0>"
      ]
     },
     "metadata": {},
     "output_type": "display_data"
    }
   ],
   "source": [
    "plt.errorbar(x, means, stds)"
   ]
  },
  {
   "cell_type": "code",
   "execution_count": 164,
   "metadata": {},
   "outputs": [
    {
     "name": "stdout",
     "output_type": "stream",
     "text": [
      "CPU times: user 12.1 s, sys: 0 ns, total: 12.1 s\n",
      "Wall time: 12.1 s\n"
     ]
    }
   ],
   "source": [
    "%%time\n",
    "means = []\n",
    "stds = []\n",
    "\n",
    "x = list(range(2, 10))\n",
    "\n",
    "for i in x:\n",
    "    res = [estimate_hole_card_win_rate(nb_simulation=200, nb_player=i, hole_card=hole_card,\n",
    "                                       community_card=community_card) for j in range(10)]\n",
    "    means.append(np.mean(res))\n",
    "    stds.append(np.std(res))"
   ]
  },
  {
   "cell_type": "code",
   "execution_count": 165,
   "metadata": {},
   "outputs": [
    {
     "data": {
      "text/plain": [
       "<Container object of 3 artists>"
      ]
     },
     "execution_count": 165,
     "metadata": {},
     "output_type": "execute_result"
    },
    {
     "data": {
      "image/png": "[encoded data removed]",
      "text/plain": [
       "<matplotlib.figure.Figure at 0x7f1f1c895278>"
      ]
     },
     "metadata": {},
     "output_type": "display_data"
    }
   ],
   "source": [
    "plt.errorbar(x, means, stds)"
   ]
  },
  {
   "cell_type": "code",
   "execution_count": 113,
   "metadata": {
    "collapsed": true
   },
   "outputs": [],
   "source": [
    "_montecarlo_simulation??\n",
    "# estimate_hole_card_win_rate??"
   ]
  },
  {
   "cell_type": "code",
   "execution_count": null,
   "metadata": {
    "collapsed": true
   },
   "outputs": [],
   "source": []
  }
 ],
 "metadata": {
  "kernelspec": {
   "display_name": "Python 3",
   "language": "python",
   "name": "python3"
  },
  "language_info": {
   "codemirror_mode": {
    "name": "ipython",
    "version": 3
   },
   "file_extension": ".py",
   "mimetype": "text/x-python",
   "name": "python",
   "nbconvert_exporter": "python",
   "pygments_lexer": "ipython3",
   "version": "3.6.0"
  }
 },
 "nbformat": 4,
 "nbformat_minor": 2
}
