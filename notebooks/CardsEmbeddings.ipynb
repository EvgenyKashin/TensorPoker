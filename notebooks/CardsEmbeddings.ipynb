{
 "cells": [
  {
   "cell_type": "code",
   "execution_count": 149,
   "metadata": {
    "collapsed": true
   },
   "outputs": [],
   "source": [
    "import tensorflow as tf\n",
    "import pickle\n",
    "import numpy as np\n",
    "import random\n",
    "from pypokerengine.utils.card_utils import gen_cards, estimate_hole_card_win_rate, Card, Deck\n",
    "\n",
    "import matplotlib.pyplot as plt\n",
    "%matplotlib inline"
   ]
  },
  {
   "cell_type": "markdown",
   "metadata": {},
   "source": [
    "## Loading data"
   ]
  },
  {
   "cell_type": "code",
   "execution_count": 150,
   "metadata": {
    "collapsed": true
   },
   "outputs": [],
   "source": [
    "with open('../cache/maping.pkl', 'rb') as f:\n",
    "    data = pickle.load(f)"
   ]
  },
  {
   "cell_type": "code",
   "execution_count": 152,
   "metadata": {},
   "outputs": [
    {
     "data": {
      "text/plain": [
       "174196"
      ]
     },
     "execution_count": 152,
     "metadata": {},
     "output_type": "execute_result"
    }
   ],
   "source": [
    "len(data)"
   ]
  },
  {
   "cell_type": "code",
   "execution_count": 153,
   "metadata": {
    "collapsed": true
   },
   "outputs": [],
   "source": [
    "suits = list(Card.SUIT_MAP.keys())\n",
    "ranks = list(Card.RANK_MAP.keys())\n",
    "\n",
    "def gen_card_im(card):\n",
    "    a = np.zeros((4, 13))\n",
    "    s = suits.index(card.suit)\n",
    "    r = ranks.index(card.rank)\n",
    "    a[s, r] = 1\n",
    "    return np.pad(a, ((6, 7), (2, 2)), 'constant', constant_values=0)\n",
    "\n",
    "def process_img(img):\n",
    "    return np.reshape(img, [17 * 17 * 1])\n",
    "\n",
    "def img_from_cards(cards):\n",
    "    imgs = np.zeros((len(cards), 17, 17))\n",
    "    for i, c in enumerate(cards):\n",
    "        imgs[i] = gen_card_im(Card.from_str(c))\n",
    "    return imgs.sum(axis=0)\n",
    "\n",
    "def get_triple(cards):\n",
    "    if len(cards) == 2:\n",
    "        my = img_from_cards(cards)\n",
    "        com = np.zeros((17, 17))\n",
    "        un = my.copy()\n",
    "    else:\n",
    "        my = img_from_cards(cards[:2])\n",
    "        com = img_from_cards(cards[2:])\n",
    "        un = img_from_cards(cards)\n",
    "    return my, com, un"
   ]
  },
  {
   "cell_type": "markdown",
   "metadata": {},
   "source": [
    "## Example"
   ]
  },
  {
   "cell_type": "code",
   "execution_count": 154,
   "metadata": {
    "collapsed": true
   },
   "outputs": [],
   "source": [
    "a, b, c = get_triple(data[2][0])"
   ]
  },
  {
   "cell_type": "markdown",
   "metadata": {},
   "source": [
    "### My hand"
   ]
  },
  {
   "cell_type": "code",
   "execution_count": 155,
   "metadata": {},
   "outputs": [
    {
     "data": {
      "image/png": "[encoded data removed]",
      "text/plain": [
       "<matplotlib.figure.Figure at 0x7f56906640f0>"
      ]
     },
     "metadata": {},
     "output_type": "display_data"
    }
   ],
   "source": [
    "plt.imshow(a)\n",
    "plt.gray()"
   ]
  },
  {
   "cell_type": "markdown",
   "metadata": {},
   "source": [
    "### Community hand"
   ]
  },
  {
   "cell_type": "code",
   "execution_count": 156,
   "metadata": {},
   "outputs": [
    {
     "data": {
      "text/plain": [
       "<matplotlib.image.AxesImage at 0x7f56946e5d30>"
      ]
     },
     "execution_count": 156,
     "metadata": {},
     "output_type": "execute_result"
    },
    {
     "data": {
      "image/png": "[encoded data removed]",
      "text/plain": [
       "<matplotlib.figure.Figure at 0x7f5654b23470>"
      ]
     },
     "metadata": {},
     "output_type": "display_data"
    }
   ],
   "source": [
    "plt.imshow(b)"
   ]
  },
  {
   "cell_type": "markdown",
   "metadata": {},
   "source": [
    "### Sum hand"
   ]
  },
  {
   "cell_type": "code",
   "execution_count": 157,
   "metadata": {},
   "outputs": [
    {
     "data": {
      "text/plain": [
       "<matplotlib.image.AxesImage at 0x7f562d1ee048>"
      ]
     },
     "execution_count": 157,
     "metadata": {},
     "output_type": "execute_result"
    },
    {
     "data": {
      "image/png": "[encoded data removed]",
      "text/plain": [
       "<matplotlib.figure.Figure at 0x7f56941f5cf8>"
      ]
     },
     "metadata": {},
     "output_type": "display_data"
    }
   ],
   "source": [
    "plt.imshow(c)"
   ]
  },
  {
   "cell_type": "markdown",
   "metadata": {},
   "source": [
    "## Network"
   ]
  },
  {
   "cell_type": "markdown",
   "metadata": {},
   "source": [
    "Three input for each image of hand. Output - win rate probability. Before output - three embeddings of each handm"
   ]
  },
  {
   "cell_type": "code",
   "execution_count": 158,
   "metadata": {
    "collapsed": true
   },
   "outputs": [],
   "source": [
    "class ConvNet():\n",
    "    def __init__(self, embedding_size=32):\n",
    "        self.embedding_size = embedding_size\n",
    "        self.trainer = tf.train.AdamOptimizer()\n",
    "        \n",
    "        self.y = tf.placeholder(tf.float32, [None, 1])\n",
    "        \n",
    "        self.input1 = tf.placeholder(tf.float32, [None, 17, 17, 1])\n",
    "        self.input2 = tf.placeholder(tf.float32, [None, 17, 17, 1])\n",
    "        self.input3 = tf.placeholder(tf.float32, [None, 17, 17, 1])\n",
    "\n",
    "        xavier_init = tf.contrib.layers.xavier_initializer()\n",
    "\n",
    "        self.conv1_i1 = tf.layers.conv2d(self.input1, 64, 5, 2, activation=tf.nn.elu,\n",
    "                                      kernel_initializer=xavier_init, reuse=None, name='conv1')\n",
    "        self.conv1_i2 = tf.layers.conv2d(self.input2, 64, 5, 2, activation=tf.nn.elu,\n",
    "                                      kernel_initializer=xavier_init, reuse=True, name='conv1')\n",
    "        self.conv1_i3 = tf.layers.conv2d(self.input3, 64, 5, 2, activation=tf.nn.elu,\n",
    "                                      kernel_initializer=xavier_init, reuse=True, name='conv1')\n",
    "        \n",
    "        self.conv2_i1 = tf.layers.conv2d(self.conv1_i1, 32, 3, activation=tf.nn.elu,\n",
    "                                      kernel_initializer=xavier_init, reuse=None, name='conv2')\n",
    "        self.conv2_i2 = tf.layers.conv2d(self.conv1_i2, 32, 3, activation=tf.nn.elu,\n",
    "                                      kernel_initializer=xavier_init, reuse=True, name='conv2')\n",
    "        self.conv2_i3 = tf.layers.conv2d(self.conv1_i3, 32, 3, activation=tf.nn.elu,\n",
    "                                      kernel_initializer=xavier_init, reuse=True, name='conv2')\n",
    "        \n",
    "        self.conv3_i1 = tf.layers.conv2d(self.conv2_i1, self.embedding_size, 5, activation=tf.nn.elu,\n",
    "                                      kernel_initializer=xavier_init, reuse=None, name='conv3')\n",
    "        self.conv3_i2 = tf.layers.conv2d(self.conv2_i2, self.embedding_size, 5, activation=tf.nn.elu,\n",
    "                                      kernel_initializer=xavier_init, reuse=True, name='conv3')\n",
    "        self.conv3_i3 = tf.layers.conv2d(self.conv2_i3, self.embedding_size, 5, activation=tf.nn.elu,\n",
    "                                      kernel_initializer=xavier_init, reuse=True, name='conv3')\n",
    "        \n",
    "        self.conv3_flat_i1 = tf.contrib.layers.flatten(self.conv3_i1)\n",
    "        self.conv3_flat_i2 = tf.contrib.layers.flatten(self.conv3_i2)\n",
    "        self.conv3_flat_i3 = tf.contrib.layers.flatten(self.conv3_i3)\n",
    "        \n",
    "        self.merge = tf.concat([self.conv3_flat_i1, self.conv3_flat_i2, self.conv3_flat_i3], axis=1)\n",
    "        self.out = tf.layers.dense(self.merge, 1, activation=tf.nn.sigmoid, kernel_initializer=xavier_init)\n",
    "        self.cross_entropy = tf.reduce_mean(-self.y * tf.log(tf.maximum(self.out, 0.00001))\n",
    "                                            - (1 - self.y) * tf.log(tf.maximum(1 - self.out, 0.00001)))  \n",
    "        self.update = self.trainer.minimize(self.cross_entropy)\n",
    "        self.mae = tf.reduce_mean(tf.abs(tf.subtract(self.out, self.y)))\n",
    "        \n",
    "        variables = tf.trainable_variables()\n",
    "        self.var_norms = tf.global_norm(variables)\n",
    "        self.summary_writer = tf.summary.FileWriter('../log/ConvNet/')"
   ]
  },
  {
   "cell_type": "markdown",
   "metadata": {},
   "source": [
    "## Split on train/test (95/5)"
   ]
  },
  {
   "cell_type": "code",
   "execution_count": 162,
   "metadata": {},
   "outputs": [
    {
     "data": {
      "text/plain": [
       "4354"
      ]
     },
     "execution_count": 162,
     "metadata": {},
     "output_type": "execute_result"
    }
   ],
   "source": [
    "len(data) // 40"
   ]
  },
  {
   "cell_type": "code",
   "execution_count": 163,
   "metadata": {
    "collapsed": true
   },
   "outputs": [],
   "source": [
    "test, data = data[:len(data) // 40], data[len(data) // 40:]"
   ]
  },
  {
   "cell_type": "code",
   "execution_count": 164,
   "metadata": {},
   "outputs": [
    {
     "data": {
      "text/plain": [
       "(4354, 169842)"
      ]
     },
     "execution_count": 164,
     "metadata": {},
     "output_type": "execute_result"
    }
   ],
   "source": [
    "len(test), len(data)"
   ]
  },
  {
   "cell_type": "code",
   "execution_count": null,
   "metadata": {
    "collapsed": true
   },
   "outputs": [],
   "source": [
    "%%time\n",
    "tf.reset_default_graph()\n",
    "load_model = True\n",
    "\n",
    "net = ConvNet()\n",
    "saver = tf.train.Saver(max_to_keep=3)\n",
    "\n",
    "init = tf.global_variables_initializer()\n",
    "trainables = tf.trainable_variables()\n",
    "\n",
    "path = '../cache/models/ConvNet/'\n",
    "epoch = 30\n",
    "batch_size = 128\n",
    "\n",
    "\n",
    "with tf.Session() as sess:\n",
    "    sess.run(init)\n",
    "    if load_model:\n",
    "        print('Loading model')\n",
    "        ckpt = tf.train.get_checkpoint_state(path)\n",
    "        saver.restore(sess, ckpt.model_checkpoint_path)\n",
    "        \n",
    "    global_step = 0\n",
    "    for i in range(epoch):\n",
    "        random.shuffle(data)\n",
    "        for j in range(len(data) // batch_size):\n",
    "            batch = data[j * batch_size: (j + 1) * batch_size]\n",
    "            mys, coms, uns, ys = [], [], [], []\n",
    "            for k in range(len(batch)):\n",
    "                my, com, un = get_triple(batch[k][0])\n",
    "                mys.append(np.expand_dims(np.expand_dims(my, 0), -1))\n",
    "                coms.append(np.expand_dims(np.expand_dims(com, 0), -1))\n",
    "                uns.append(np.expand_dims(np.expand_dims(un, 0), -1))\n",
    "                ys.append(batch[k][1])\n",
    "            mys = np.vstack(mys)\n",
    "            coms = np.vstack(coms)\n",
    "            uns = np.vstack(uns)\n",
    "            ys = np.array(ys).reshape(-1, 1)\n",
    "            \n",
    "            feed_dict = {\n",
    "                net.input1: mys,\n",
    "                net.input2: coms,\n",
    "                net.input3: uns,\n",
    "                net.y: ys\n",
    "            }\n",
    "#             _ = sess.run([net.update], feed_dict=feed_dict)\n",
    "            ce, mae, vn, pr, _ = sess.run([net.cross_entropy, net.mae, net.var_norms, net.out,\n",
    "                                           net.update], feed_dict=feed_dict)\n",
    "            if global_step % 20 == 0:\n",
    "                summary = tf.Summary()\n",
    "                summary.value.add(tag='Loss/Cross_Enropy', simple_value=ce)\n",
    "                summary.value.add(tag='Loss/MAE', simple_value=mae)\n",
    "                summary.value.add(tag='Loss/Var_Norm', simple_value=vn)\n",
    "                summary.value.add(tag='Prediction/Pred', simple_value=pr[0, 0])\n",
    "                summary.value.add(tag='Prediction/True', simple_value=ys[0, 0])\n",
    "                \n",
    "                if global_step % 100 == 0:\n",
    "                    mys, coms, uns, ys = [], [], [], []\n",
    "                    for k in range(len(test)):\n",
    "                        my, com, un = get_triple(test[k][0])\n",
    "                        mys.append(np.expand_dims(np.expand_dims(my, 0), -1))\n",
    "                        coms.append(np.expand_dims(np.expand_dims(com, 0), -1))\n",
    "                        uns.append(np.expand_dims(np.expand_dims(un, 0), -1))\n",
    "                        ys.append(test[k][1])\n",
    "                    mys = np.vstack(mys)\n",
    "                    coms = np.vstack(coms)\n",
    "                    uns = np.vstack(uns)\n",
    "                    ys = np.array(ys).reshape(-1, 1)\n",
    "\n",
    "                    feed_dict = {\n",
    "                        net.input1: mys,\n",
    "                        net.input2: coms,\n",
    "                        net.input3: uns,\n",
    "                        net.y: ys\n",
    "                    }\n",
    "                    \n",
    "                    ce, mae = sess.run([net.cross_entropy, net.mae], feed_dict=feed_dict)\n",
    "                    summary.value.add(tag='Validation/Cross_Enropy', simple_value=ce)\n",
    "                    summary.value.add(tag='Validation/MAE', simple_value=mae)\n",
    "\n",
    "                net.summary_writer.add_summary(summary, global_step)\n",
    "                net.summary_writer.flush()\n",
    "                \n",
    "            global_step += 1\n",
    "        saver.save(sess, path, global_step)\n",
    "        print('Epoch {} end, model saved, steps: {}'.format(i, global_step))"
   ]
  },
  {
   "cell_type": "markdown",
   "metadata": {},
   "source": [
    "## Number of total params"
   ]
  },
  {
   "cell_type": "code",
   "execution_count": 17,
   "metadata": {},
   "outputs": [
    {
     "name": "stdout",
     "output_type": "stream",
     "text": [
      "(5, 5, 1, 64)\n",
      "4\n",
      "5\n",
      "5\n",
      "1\n",
      "64\n",
      "1600\n",
      "(64,)\n",
      "1\n",
      "64\n",
      "64\n",
      "(3, 3, 64, 32)\n",
      "4\n",
      "3\n",
      "3\n",
      "64\n",
      "32\n",
      "18432\n",
      "(32,)\n",
      "1\n",
      "32\n",
      "32\n",
      "(5, 5, 32, 32)\n",
      "4\n",
      "5\n",
      "5\n",
      "32\n",
      "32\n",
      "25600\n",
      "(32,)\n",
      "1\n",
      "32\n",
      "32\n",
      "(96, 1)\n",
      "2\n",
      "96\n",
      "1\n",
      "96\n",
      "(1,)\n",
      "1\n",
      "1\n",
      "1\n",
      "45857\n"
     ]
    }
   ],
   "source": [
    "vars_ = tf.trainable_variables()\n",
    "total_parameters = 0\n",
    "for variable in vars_:\n",
    "    # shape is an array of tf.Dimension\n",
    "    shape = variable.get_shape()\n",
    "    print(shape)\n",
    "    print(len(shape))\n",
    "    variable_parameters = 1\n",
    "    for dim in shape:\n",
    "        print(dim)\n",
    "        variable_parameters *= dim.value\n",
    "    print(variable_parameters)\n",
    "    total_parameters += variable_parameters\n",
    "print(total_parameters)"
   ]
  },
  {
   "cell_type": "markdown",
   "metadata": {},
   "source": [
    "## Evaluation time"
   ]
  },
  {
   "cell_type": "code",
   "execution_count": 18,
   "metadata": {},
   "outputs": [
    {
     "name": "stdout",
     "output_type": "stream",
     "text": [
      "CPU times: user 520 ms, sys: 0 ns, total: 520 ms\n",
      "Wall time: 526 ms\n"
     ]
    }
   ],
   "source": [
    "%%time\n",
    "tf.reset_default_graph()\n",
    "net = ConvNet()\n",
    "saver = tf.train.Saver()"
   ]
  },
  {
   "cell_type": "code",
   "execution_count": 26,
   "metadata": {
    "collapsed": true
   },
   "outputs": [],
   "source": [
    "mys = np.vstack(mys)"
   ]
  },
  {
   "cell_type": "code",
   "execution_count": 28,
   "metadata": {},
   "outputs": [
    {
     "name": "stdout",
     "output_type": "stream",
     "text": [
      "../cache/models/ConvNet/-8096\n",
      "INFO:tensorflow:Restoring parameters from ../cache/models/ConvNet/-8096\n",
      "CPU times: user 128 ms, sys: 40 ms, total: 168 ms\n",
      "Wall time: 161 ms\n"
     ]
    }
   ],
   "source": [
    "%%time\n",
    "with tf.Session() as sess:\n",
    "    init = tf.global_variables_initializer()\n",
    "    sess.run(init)\n",
    "    ckpt = tf.train.get_checkpoint_state(path)\n",
    "    print(ckpt.model_checkpoint_path)\n",
    "    saver.restore(sess, ckpt.model_checkpoint_path)\n",
    "    flat_1 = sess.run(net.conv3_flat_i1, feed_dict={net.input1: mys})"
   ]
  },
  {
   "cell_type": "code",
   "execution_count": 29,
   "metadata": {},
   "outputs": [
    {
     "data": {
      "text/plain": [
       "(94, 32)"
      ]
     },
     "execution_count": 29,
     "metadata": {},
     "output_type": "execute_result"
    }
   ],
   "source": [
    "flat_1.shape"
   ]
  },
  {
   "cell_type": "code",
   "execution_count": 34,
   "metadata": {},
   "outputs": [
    {
     "data": {
      "image/png": "[encoded data removed]",
      "text/plain": [
       "<matplotlib.figure.Figure at 0x7f565c450860>"
      ]
     },
     "metadata": {},
     "output_type": "display_data"
    }
   ],
   "source": [
    "plt.hist(flat_1[4]);"
   ]
  },
  {
   "cell_type": "markdown",
   "metadata": {},
   "source": [
    "## Predict on log data"
   ]
  },
  {
   "cell_type": "code",
   "execution_count": 52,
   "metadata": {
    "collapsed": true
   },
   "outputs": [],
   "source": [
    "import pandas as pd"
   ]
  },
  {
   "cell_type": "code",
   "execution_count": 60,
   "metadata": {
    "collapsed": true
   },
   "outputs": [],
   "source": [
    "df = pd.read_csv('../../../../Downloads/table1_17.csv.zip', header=None)"
   ]
  },
  {
   "cell_type": "code",
   "execution_count": 63,
   "metadata": {},
   "outputs": [
    {
     "data": {
      "text/plain": [
       "(1074967, 15)"
      ]
     },
     "execution_count": 63,
     "metadata": {},
     "output_type": "execute_result"
    }
   ],
   "source": [
    "df.shape"
   ]
  },
  {
   "cell_type": "code",
   "execution_count": 67,
   "metadata": {
    "collapsed": true
   },
   "outputs": [],
   "source": [
    "cards = df.iloc[:, 8:].values"
   ]
  },
  {
   "cell_type": "code",
   "execution_count": 69,
   "metadata": {},
   "outputs": [
    {
     "data": {
      "text/plain": [
       "8398"
      ]
     },
     "execution_count": 69,
     "metadata": {},
     "output_type": "execute_result"
    }
   ],
   "source": [
    "n = df.shape[0] // 128\n",
    "n"
   ]
  },
  {
   "cell_type": "code",
   "execution_count": 110,
   "metadata": {},
   "outputs": [
    {
     "name": "stdout",
     "output_type": "stream",
     "text": [
      "../cache/models/ConvNet/-8096\n",
      "INFO:tensorflow:Restoring parameters from ../cache/models/ConvNet/-8096\n",
      "0\n",
      "500\n",
      "1000\n",
      "1500\n",
      "2000\n",
      "2500\n",
      "3000\n",
      "3500\n",
      "4000\n",
      "4500\n",
      "5000\n",
      "5500\n",
      "6000\n",
      "6500\n",
      "7000\n",
      "7500\n",
      "8000\n",
      "CPU times: user 30min 26s, sys: 34.6 s, total: 31min 1s\n",
      "Wall time: 22min 46s\n"
     ]
    }
   ],
   "source": [
    "%%time\n",
    "with tf.Session() as sess:\n",
    "    init = tf.global_variables_initializer()\n",
    "    sess.run(init)\n",
    "    ckpt = tf.train.get_checkpoint_state(path)\n",
    "    print(ckpt.model_checkpoint_path)\n",
    "    saver.restore(sess, ckpt.model_checkpoint_path)\n",
    "    a_all, b_all, c_all, win_rate_all = None, None, None, None\n",
    "    \n",
    "    for i in range(n):\n",
    "        if i == n - 1:\n",
    "            batch = cards[i * 128:]\n",
    "        else:\n",
    "            batch = cards[i * 128: (i + 1) * 128]\n",
    "        \n",
    "        if i % 500 == 0:\n",
    "            print(i)\n",
    "        \n",
    "        mys, coms, uns, ys = [], [], [], []\n",
    "        for k in range(len(batch)):\n",
    "            b = [x for x in batch[k] if x is not np.nan]\n",
    "            my, com, un = get_triple(b)\n",
    "            mys.append(np.expand_dims(np.expand_dims(my, 0), -1))\n",
    "            coms.append(np.expand_dims(np.expand_dims(com, 0), -1))\n",
    "            uns.append(np.expand_dims(np.expand_dims(un, 0), -1))\n",
    "        mys = np.vstack(mys)\n",
    "        coms = np.vstack(coms)\n",
    "        uns = np.vstack(uns)\n",
    "        \n",
    "        feed_dict = {\n",
    "            net.input1: mys,\n",
    "            net.input2: coms,\n",
    "            net.input3: uns\n",
    "        }\n",
    "        a, b, c, win_rate = sess.run([net.conv3_flat_i1, net.conv3_flat_i2, net.conv3_flat_i3,\n",
    "                                      net.out], feed_dict=feed_dict)  \n",
    "        if a_all is not None:\n",
    "            a_all = np.vstack((a_all, a))\n",
    "            b_all = np.vstack((b_all, b))\n",
    "            c_all = np.vstack((c_all, c))\n",
    "            win_rate_all = np.vstack((win_rate_all, win_rate))\n",
    "        else:\n",
    "            a_all = a\n",
    "            b_all = b\n",
    "            c_all = c\n",
    "            win_rate_all = win_rate"
   ]
  },
  {
   "cell_type": "code",
   "execution_count": 113,
   "metadata": {
    "collapsed": true
   },
   "outputs": [],
   "source": [
    "features = np.hstack((a_all, b_all, c_all, win_rate_all))"
   ]
  },
  {
   "cell_type": "code",
   "execution_count": null,
   "metadata": {
    "collapsed": true
   },
   "outputs": [],
   "source": [
    "with open('../cache/features.pkl', 'wb') as f:\n",
    "    pickle.dump(features, f)"
   ]
  },
  {
   "cell_type": "code",
   "execution_count": null,
   "metadata": {
    "collapsed": true
   },
   "outputs": [],
   "source": []
  }
 ],
 "metadata": {
  "kernelspec": {
   "display_name": "Python 3",
   "language": "python",
   "name": "python3"
  },
  "language_info": {
   "codemirror_mode": {
    "name": "ipython",
    "version": 3
   },
   "file_extension": ".py",
   "mimetype": "text/x-python",
   "name": "python",
   "nbconvert_exporter": "python",
   "pygments_lexer": "ipython3",
   "version": "3.6.0"
  }
 },
 "nbformat": 4,
 "nbformat_minor": 2
}
