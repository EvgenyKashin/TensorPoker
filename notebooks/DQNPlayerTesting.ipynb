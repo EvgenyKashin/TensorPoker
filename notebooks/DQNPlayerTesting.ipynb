{
 "cells": [
  {
   "cell_type": "code",
   "execution_count": 1,
   "metadata": {
    "collapsed": true
   },
   "outputs": [],
   "source": [
    "import numpy as np\n",
    "import matplotlib.pyplot as plt\n",
    "%matplotlib inline\n",
    "\n",
    "from pypokerengine.players import BasePokerPlayer\n",
    "from pypokerengine.utils.card_utils import Card, Deck\n",
    "from pypokerengine.api.game import setup_config, start_poker\n",
    "\n",
    "import pickle\n",
    "import tensorflow as tf\n",
    "import random\n",
    "\n",
    "import sys\n",
    "sys.path.insert(0, '../scripts/')\n",
    "\n",
    "import PlayerModels as pm\n",
    "from MyEmulator import MyEmulator\n",
    "from DQNPlayer import DQNPlayer\n",
    "from util import *"
   ]
  },
  {
   "cell_type": "markdown",
   "metadata": {},
   "source": [
    "## Initialization"
   ]
  },
  {
   "cell_type": "code",
   "execution_count": 2,
   "metadata": {
    "collapsed": true
   },
   "outputs": [],
   "source": [
    "h_size = 128"
   ]
  },
  {
   "cell_type": "code",
   "execution_count": 13,
   "metadata": {},
   "outputs": [
    {
     "name": "stdout",
     "output_type": "stream",
     "text": [
      "INFO:tensorflow:Restoring parameters from ../cache/models/model_100000.ckpt\n",
      "CPU times: user 764 ms, sys: 64 ms, total: 828 ms\n",
      "Wall time: 804 ms\n"
     ]
    }
   ],
   "source": [
    "%time main_wp = DQNPlayer(h_size=h_size, is_restore=True, is_train=False, debug=True)"
   ]
  },
  {
   "cell_type": "markdown",
   "metadata": {},
   "source": [
    "## Testing"
   ]
  },
  {
   "cell_type": "code",
   "execution_count": 14,
   "metadata": {},
   "outputs": [
    {
     "name": "stdout",
     "output_type": "stream",
     "text": [
      "(['Hole:', ['H5', 'D8']],)\n",
      "(['Start stack:', 1500],)\n",
      "(['Estimation:', 0.0817],)\n",
      "Started the round 1\n",
      "Street \"preflop\" started. (community card = [])\n",
      "\"f4\" declared \"call:30\"\n",
      "\"f5\" declared \"call:30\"\n",
      "\"f6\" declared \"call:30\"\n",
      "\"f7\" declared \"call:30\"\n",
      "\"f8\" declared \"call:30\"\n",
      "\"f9\" declared \"call:30\"\n",
      "(array([ -12.28872776,   -0.70328993,  -53.35214615, -444.25775146,\n",
      "        -97.49479675], dtype=float32),)\n",
      "\"wp\" declared \"call:30\"\n",
      "\"f2\" declared \"call:30\"\n",
      "\"f3\" declared \"call:30\"\n",
      "Street \"flop\" started. (community card = ['DQ', 'C7', 'S4'])\n",
      "\"f2\" declared \"call:0\"\n",
      "\"f3\" declared \"call:0\"\n",
      "\"f4\" declared \"call:0\"\n",
      "\"f5\" declared \"call:0\"\n",
      "\"f6\" declared \"call:0\"\n",
      "\"f7\" declared \"call:0\"\n",
      "\"f8\" declared \"call:0\"\n",
      "\"f9\" declared \"call:0\"\n",
      "(array([ -29.64264297,   14.76653576,  -44.00888062, -582.73480225,\n",
      "       -129.59130859], dtype=float32),)\n",
      "\"wp\" declared \"call:0\"\n",
      "Street \"turn\" started. (community card = ['DQ', 'C7', 'S4', 'D3'])\n",
      "\"f2\" declared \"call:0\"\n",
      "\"f3\" declared \"call:0\"\n",
      "\"f4\" declared \"call:0\"\n",
      "\"f5\" declared \"call:0\"\n",
      "\"f6\" declared \"call:0\"\n",
      "\"f7\" declared \"call:0\"\n",
      "\"f8\" declared \"call:0\"\n",
      "\"f9\" declared \"call:0\"\n",
      "(array([ -28.78126907,   24.79154587,  -46.21664047, -622.33233643,\n",
      "       -148.20063782], dtype=float32),)\n",
      "\"wp\" declared \"call:0\"\n",
      "Street \"river\" started. (community card = ['DQ', 'C7', 'S4', 'D3', 'C2'])\n",
      "\"f2\" declared \"call:0\"\n",
      "\"f3\" declared \"call:0\"\n",
      "\"f4\" declared \"call:0\"\n",
      "\"f5\" declared \"call:0\"\n",
      "\"f6\" declared \"call:0\"\n",
      "\"f7\" declared \"call:0\"\n",
      "\"f8\" declared \"call:0\"\n",
      "\"f9\" declared \"call:0\"\n",
      "(array([ -29.98541641,   31.78158188,  -49.28208542, -657.82879639,\n",
      "       -166.20314026], dtype=float32),)\n",
      "\"wp\" declared \"call:0\"\n",
      "\"['f2']\" won the round 1 (stack = {'wp': 1470, 'f2': 1740, 'f3': 1470, 'f4': 1470, 'f5': 1470, 'f6': 1470, 'f7': 1470, 'f8': 1470, 'f9': 1470})\n",
      "(['End stack:', 1470],)\n",
      "(['Hole:', ['C9', 'DA']],)\n",
      "(['Start stack:', 1470],)\n",
      "(['Estimation:', 0.1485],)\n",
      "Started the round 2\n",
      "Street \"preflop\" started. (community card = [])\n",
      "\"f5\" declared \"call:30\"\n",
      "\"f6\" declared \"call:30\"\n",
      "\"f7\" declared \"call:30\"\n",
      "\"f8\" declared \"call:30\"\n",
      "\"f9\" declared \"call:30\"\n",
      "(array([  -34.4239769 ,   144.32157898,    79.9385376 ,  1041.29431152,\n",
      "         255.56532288], dtype=float32),)\n",
      "\"wp\" declared \"raise:1470\"\n",
      "\"f2\" declared \"call:1470\"\n",
      "\"f3\" declared \"call:1470\"\n",
      "\"f4\" declared \"call:1470\"\n",
      "\"f5\" declared \"call:1470\"\n",
      "\"f6\" declared \"call:1470\"\n",
      "\"f7\" declared \"call:1470\"\n",
      "\"f8\" declared \"call:1470\"\n",
      "\"f9\" declared \"call:1470\"\n",
      "Street \"flop\" started. (community card = ['CJ', 'C8', 'HT'])\n",
      "Street \"turn\" started. (community card = ['CJ', 'C8', 'HT', 'SK'])\n",
      "Street \"river\" started. (community card = ['CJ', 'C8', 'HT', 'SK', 'HQ'])\n",
      "\"['wp', 'f6']\" won the round 2 (stack = {'wp': 6615, 'f2': 270, 'f3': 0, 'f4': 0, 'f5': 0, 'f6': 6615, 'f7': 0, 'f8': 0, 'f9': 0})\n",
      "(['End stack:', 6615],)\n",
      "(['Hole:', ['S6', 'H6']],)\n",
      "(['Start stack:', 6600],)\n",
      "(['Estimation:', 0.1345],)\n",
      "Started the round 3\n",
      "Street \"preflop\" started. (community card = [])\n",
      "\"f6\" declared \"call:30\"\n",
      "(array([  -84.10441589,  1043.30480957,  1192.42651367,  3270.59643555,\n",
      "         907.3001709 ], dtype=float32),)\n",
      "\"wp\" declared \"raise:6615\"\n",
      "\"f2\" declared \"call:6615\"\n",
      "\"f6\" declared \"call:6615\"\n",
      "Street \"flop\" started. (community card = ['H7', 'CA', 'CJ'])\n",
      "Street \"turn\" started. (community card = ['H7', 'CA', 'CJ', 'D4'])\n",
      "Street \"river\" started. (community card = ['H7', 'CA', 'CJ', 'D4', 'S2'])\n",
      "\"['f6']\" won the round 3 (stack = {'wp': 0, 'f2': 0, 'f3': 0, 'f4': 0, 'f5': 0, 'f6': 13500, 'f7': 0, 'f8': 0, 'f9': 0})\n",
      "(['End stack:', 0],)\n"
     ]
    }
   ],
   "source": [
    "config = setup_config(max_round=50, initial_stack=1500, small_blind_amount=15, summary_file='/dev/null')\n",
    "\n",
    "config.register_player(name=\"wp\", algorithm=main_wp)\n",
    "# config.register_player(name=\"r2\", algorithm=RandomPlayer())\n",
    "config.register_player(name=\"f2\", algorithm=pm.CallPlayer())\n",
    "config.register_player(name=\"f3\", algorithm=pm.CallPlayer())\n",
    "config.register_player(name=\"f4\", algorithm=pm.CallPlayer())\n",
    "config.register_player(name=\"f5\", algorithm=pm.CallPlayer())\n",
    "config.register_player(name=\"f6\", algorithm=pm.CallPlayer())\n",
    "config.register_player(name=\"f7\", algorithm=pm.CallPlayer())\n",
    "config.register_player(name=\"f8\", algorithm=pm.CallPlayer())\n",
    "config.register_player(name=\"f9\", algorithm=pm.CallPlayer())\n",
    "\n",
    "game_result = start_poker(config, verbose=1)"
   ]
  },
  {
   "cell_type": "markdown",
   "metadata": {},
   "source": [
    "## Metric"
   ]
  },
  {
   "cell_type": "code",
   "execution_count": 16,
   "metadata": {},
   "outputs": [
    {
     "name": "stdout",
     "output_type": "stream",
     "text": [
      "INFO:tensorflow:Restoring parameters from ../cache/models/model_100000.ckpt\n",
      "CPU times: user 736 ms, sys: 48 ms, total: 784 ms\n",
      "Wall time: 770 ms\n"
     ]
    }
   ],
   "source": [
    "%time main_wp = DQNPlayer(h_size=h_size, is_restore=True, is_train=False, debug=False)"
   ]
  },
  {
   "cell_type": "code",
   "execution_count": 18,
   "metadata": {
    "collapsed": true
   },
   "outputs": [],
   "source": [
    "config = setup_config(max_round=50, initial_stack=1500, small_blind_amount=15, summary_file='/dev/null')\n",
    "\n",
    "config.register_player(name=\"wp\", algorithm=main_wp)\n",
    "# config.register_player(name=\"r2\", algorithm=RandomPlayer())\n",
    "config.register_player(name=\"f2\", algorithm=pm.CallPlayer())\n",
    "config.register_player(name=\"f3\", algorithm=pm.CallPlayer())\n",
    "config.register_player(name=\"f4\", algorithm=pm.CallPlayer())\n",
    "config.register_player(name=\"f5\", algorithm=pm.CallPlayer())\n",
    "config.register_player(name=\"f6\", algorithm=pm.CallPlayer())\n",
    "config.register_player(name=\"f7\", algorithm=pm.CallPlayer())\n",
    "config.register_player(name=\"f8\", algorithm=pm.CallPlayer())\n",
    "config.register_player(name=\"f9\", algorithm=pm.CallPlayer())"
   ]
  },
  {
   "cell_type": "code",
   "execution_count": 37,
   "metadata": {},
   "outputs": [],
   "source": [
    "stacks = []\n",
    "for i in range(100):\n",
    "    game_result = start_poker(config, verbose=0)\n",
    "    stacks.append([res for res in game_result['players'] if res['name'] == 'wp'][0]['stack'])"
   ]
  },
  {
   "cell_type": "code",
   "execution_count": 38,
   "metadata": {},
   "outputs": [
    {
     "data": {
      "text/plain": [
       "(2160.0, 4949.1817505523068)"
      ]
     },
     "execution_count": 38,
     "metadata": {},
     "output_type": "execute_result"
    }
   ],
   "source": [
    "np.mean(stacks), np.std(stacks)"
   ]
  },
  {
   "cell_type": "code",
   "execution_count": null,
   "metadata": {
    "collapsed": true
   },
   "outputs": [],
   "source": []
  }
 ],
 "metadata": {
  "kernelspec": {
   "display_name": "Python 3",
   "language": "python",
   "name": "python3"
  },
  "language_info": {
   "codemirror_mode": {
    "name": "ipython",
    "version": 3
   },
   "file_extension": ".py",
   "mimetype": "text/x-python",
   "name": "python",
   "nbconvert_exporter": "python",
   "pygments_lexer": "ipython3",
   "version": "3.6.0"
  }
 },
 "nbformat": 4,
 "nbformat_minor": 2
}
