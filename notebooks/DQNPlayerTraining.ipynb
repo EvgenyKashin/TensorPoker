{
 "cells": [
  {
   "cell_type": "code",
   "execution_count": 1,
   "metadata": {
    "collapsed": true
   },
   "outputs": [],
   "source": [
    "import numpy as np\n",
    "import pandas as pd\n",
    "import matplotlib.pyplot as plt\n",
    "%matplotlib inline\n",
    "\n",
    "from pypokerengine.players import BasePokerPlayer\n",
    "from pypokerengine.utils.card_utils import Card, Deck\n",
    "from pypokerengine.api.game import setup_config, start_poker\n",
    "\n",
    "import pickle\n",
    "import tensorflow as tf\n",
    "import random\n",
    "\n",
    "import sys\n",
    "sys.path.insert(0, '../scripts/')\n",
    "\n",
    "import PlayerModels as pm\n",
    "from MyEmulator import MyEmulator\n",
    "from DQNPlayer import DQNPlayer\n",
    "from util import *"
   ]
  },
  {
   "cell_type": "markdown",
   "metadata": {},
   "source": [
    "### Graph"
   ]
  },
  {
   "cell_type": "code",
   "execution_count": 2,
   "metadata": {
    "collapsed": true
   },
   "outputs": [],
   "source": [
    "def update_target_graph(tf_vars, tau):\n",
    "    total_vars = len(tf_vars)\n",
    "    ops = []\n",
    "    for i, var in enumerate(tf_vars[0:total_vars // 2]):\n",
    "        ops.append(tf_vars[i + total_vars // 2].assign((var.value() * tau) +\n",
    "                                                       (tf_vars[i + total_vars // 2].value() * (1 - tau))))\n",
    "    return ops\n",
    "\n",
    "def update_target(ops, sess):\n",
    "    for op in ops:\n",
    "        sess.run(op)"
   ]
  },
  {
   "cell_type": "markdown",
   "metadata": {},
   "source": [
    "## Training"
   ]
  },
  {
   "cell_type": "code",
   "execution_count": 3,
   "metadata": {
    "collapsed": true
   },
   "outputs": [],
   "source": [
    "batch_size = 128\n",
    "update_freq = 50 # how often to update model\n",
    "y = 0.99 # discount\n",
    "start_E = 1 # starting chance of random action\n",
    "end_E = 0.2 # final chance of random action\n",
    "annealings_steps = 100_000 # how many steps to reduce start_E to end_E\n",
    "num_episodes = 500_000\n",
    "pre_train_steps = 5_000 # how many steps of random action before training begin\n",
    "load_model = False\n",
    "path = '../cache/models/DQN/'\n",
    "h_size = 128 # the size of final conv layer before spliting it into advantage and value streams\n",
    "tau = 0.01 # rate to update target network toward primary network\n",
    "is_dueling = True # whether or not to use dueling architecture"
   ]
  },
  {
   "cell_type": "code",
   "execution_count": 4,
   "metadata": {
    "collapsed": true
   },
   "outputs": [],
   "source": [
    "emul = MyEmulator()\n",
    "emul.set_game_rule(9, 50, 15, 0)\n",
    "my_uuid = '9'\n",
    "players_info = {\n",
    "    \"1\": { \"name\": \"f1\", \"stack\": 1500 },\n",
    "    \"2\": { \"name\": \"f2\", \"stack\": 1500 },\n",
    "    \"3\": { \"name\": \"f3\", \"stack\": 1500 },\n",
    "    \"4\": { \"name\": \"f4\", \"stack\": 1500 },\n",
    "    \"5\": { \"name\": \"f5\", \"stack\": 1500 },\n",
    "    \"6\": { \"name\": \"f6\", \"stack\": 1500 },\n",
    "    \"7\": { \"name\": \"f7\", \"stack\": 1500 },\n",
    "    \"8\": { \"name\": \"f8\", \"stack\": 1500 },\n",
    "    \"9\": { \"name\": \"f9\", \"stack\": 1500 }\n",
    "}\n",
    "\n",
    "def init_emul(my_uuid_):\n",
    "    global my_uuid\n",
    "    my_uuid = my_uuid_\n",
    "    \n",
    "#     emul.register_player(\"1\", pm.CallPlayer())\n",
    "#     emul.register_player(\"2\", pm.CallPlayer())\n",
    "#     emul.register_player(\"3\", pm.CallPlayer())\n",
    "#     emul.register_player(\"4\", pm.CallPlayer())\n",
    "#     emul.register_player(\"5\", pm.CallPlayer())\n",
    "#     emul.register_player(\"6\", pm.CallPlayer())\n",
    "#     emul.register_player(\"7\", pm.CallPlayer())\n",
    "#     emul.register_player(\"8\", pm.CallPlayer())\n",
    "#     emul.register_player(\"9\", pm.CallPlayer())\n",
    "    \n",
    "    emul.register_player(\"1\", pm.CallPlayer())\n",
    "    emul.register_player(\"2\", pm.CallPlayer())\n",
    "    emul.register_player(\"3\", pm.FoldPlayer())\n",
    "    emul.register_player(\"4\", pm.FoldPlayer())\n",
    "    emul.register_player(\"5\", pm.HeuristicPlayer())\n",
    "    emul.register_player(\"6\", pm.HeuristicPlayer())\n",
    "    emul.register_player(\"7\", pm.RandomPlayer())\n",
    "    emul.register_player(\"8\", pm.RandomPlayer())\n",
    "    emul.register_player(\"9\", pm.CallPlayer())\n",
    "\n",
    "\n",
    "    players_info = {\n",
    "        \"1\": { \"name\": \"CallPlayer1\", \"stack\": 1500 },\n",
    "        \"2\": { \"name\": \"CallPlayer2\", \"stack\": 1500 },\n",
    "        \"3\": { \"name\": \"FoldPlayer1\", \"stack\": 1500 },\n",
    "        \"4\": { \"name\": \"FoldPlayer2\", \"stack\": 1500 },\n",
    "        \"5\": { \"name\": \"HeuristicPlayer1\", \"stack\": 1500 },\n",
    "        \"6\": { \"name\": \"HeuristicPlayer2\", \"stack\": 1500 },\n",
    "        \"7\": { \"name\": \"RandomPlayer1\", \"stack\": 1500 },\n",
    "        \"8\": { \"name\": \"RandomPlayer2\", \"stack\": 1500 },\n",
    "        \"9\": { \"name\": \"DQN\", \"stack\": 1500 }\n",
    "    }"
   ]
  },
  {
   "cell_type": "code",
   "execution_count": 6,
   "metadata": {
    "collapsed": true
   },
   "outputs": [],
   "source": [
    "tf.reset_default_graph()\n",
    "main_wp = DQNPlayer(h_size, is_double=True)\n",
    "target_wp = DQNPlayer(h_size, is_main=False, is_double=True)"
   ]
  },
  {
   "cell_type": "markdown",
   "metadata": {},
   "source": [
    "### Overfit on small"
   ]
  },
  {
   "cell_type": "markdown",
   "metadata": {},
   "source": [
    "#### Before you need to call cell below at least for 1 minute"
   ]
  },
  {
   "cell_type": "code",
   "execution_count": 7,
   "metadata": {
    "collapsed": true,
    "scrolled": true
   },
   "outputs": [],
   "source": [
    "# %%time\n",
    "# init = tf.global_variables_initializer()\n",
    "# trainables = tf.trainable_variables()\n",
    "# target_ops = update_target_graph(trainables, tau)\n",
    "\n",
    "# with tf.Session() as sess:\n",
    "#     sess.run(init)\n",
    "#     if load_model:\n",
    "#         print('Loading model')\n",
    "#         ckpt = tf.train.get_checkpoint_state(path)\n",
    "#         saver.restore(sess, ckpt.model_checkpoint_path)\n",
    "#     train_batch = my_buffer.sample(batch_size)\n",
    "#     for i in range(num_episodes):      \n",
    "#         Q1 = sess.run(main_wp.predict,\n",
    "#                       feed_dict={main_wp.scalar_input: np.vstack(train_batch[:, 4]),\n",
    "#                                  main_wp.features_input: np.vstack(train_batch[:, 5])})\n",
    "#         Q1_ = sess.run(main_wp.Q_out,\n",
    "#                       feed_dict={main_wp.scalar_input: np.vstack(train_batch[:, 4]),\n",
    "#                                  main_wp.features_input: np.vstack(train_batch[:, 5])})\n",
    "\n",
    "#         Q2 = sess.run(target_wp.Q_out,\n",
    "#                       feed_dict={target_wp.scalar_input: np.vstack(train_batch[:, 4]),\n",
    "#                                  target_wp.features_input: np.vstack(train_batch[:, 5])})\n",
    "#         end_multiplier = -(train_batch[:, 6] - 1)\n",
    "#         double_Q = Q2[range(batch_size), Q1]\n",
    "#         double_Q_ = Q1_[range(batch_size), Q1]\n",
    "\n",
    "#         target_Q = train_batch[:, 3] + (y * double_Q * end_multiplier)\n",
    "\n",
    "#         _, er, g, v = sess.run([main_wp.update_model,\n",
    "#                           main_wp.loss, main_wp.grad_norms, main_wp.var_norms],\n",
    "#                      feed_dict={\n",
    "#                          main_wp.scalar_input: np.vstack(train_batch[:, 0]),\n",
    "#                          main_wp.features_input: np.vstack(train_batch[:, 1]),\n",
    "#                          main_wp.target_Q: target_Q,\n",
    "#                          main_wp.actions: train_batch[:, 2]\n",
    "#                      })\n",
    "#         update_target(target_ops, sess)\n",
    "        \n",
    "#         q1 = double_Q_[0]\n",
    "#         q2 = double_Q[0]\n",
    "\n",
    "#         summary = tf.Summary()\n",
    "#         summary.value.add(tag='Q/Q1', simple_value=float(q1))\n",
    "#         summary.value.add(tag='Q/Q2', simple_value=float(q2))\n",
    "#         summary.value.add(tag='Q/Target', simple_value=target_Q[0])\n",
    "#         summary.value.add(tag='Q/Action', simple_value=Q1[0])\n",
    "#         summary.value.add(tag='Loss/Error', simple_value=er)\n",
    "#         summary.value.add(tag='Loss/Grad_norm', simple_value=g)\n",
    "#         summary.value.add(tag='Loss/Var_norm', simple_value=v)\n",
    "\n",
    "#         main_wp.summary_writer.add_summary(summary, i)\n",
    "#         if i % 2 == 0:\n",
    "#             main_wp.summary_writer.flush()\n",
    "                            \n",
    "#         if i % 100 == 0:\n",
    "#             print(i, total_steps, np.mean(r_list[-10:]), e, np.median(action_list[-200:]))            \n",
    "# print('Mean reward: {}'.format(sum(r_list) / num_episodes))"
   ]
  },
  {
   "cell_type": "markdown",
   "metadata": {},
   "source": [
    "## Training at all"
   ]
  },
  {
   "cell_type": "code",
   "execution_count": 8,
   "metadata": {
    "scrolled": true
   },
   "outputs": [
    {
     "name": "stdout",
     "output_type": "stream",
     "text": [
      "Saved model\n",
      "0 5 -7.31388683163 1 2.0\n",
      "100 1448 6.48316183782 1 2.0\n",
      "200 2979 -12.423619642 1 2.0\n",
      "300 4490 5.73999423227 1 2.0\n",
      "400 5754 29.3696281127 0.993967999999994 2.0\n",
      "500 7292 26.780888966 0.9816639999999817 2.0\n",
      "600 8717 42.6954665245 0.9702639999999703 2.0\n",
      "700 10045 29.5360550062 0.9596399999999596 2.0\n",
      "800 11552 58.3930931091 0.9475839999999476 2.0\n",
      "900 12845 27.392644608 0.9372399999999372 2.0\n",
      "Saved model\n",
      "1000 14307 3.81692248563 0.9255439999999255 2.0\n",
      "1100 15536 3.46788772656 0.9157119999999157 2.0\n",
      "1200 16898 14.9741887114 0.9048159999999048 2.0\n",
      "1300 18390 5.11609045795 0.8928799999998929 2.0\n",
      "1400 19890 16.4629917817 0.8808799999998809 2.0\n",
      "1500 21362 -12.0369279299 0.8691039999998691 2.0\n",
      "1600 22864 36.3295041827 0.8570879999998571 2.0\n",
      "1700 24110 14.0847682408 0.8471199999998471 2.0\n",
      "1800 25816 -9.02829397042 0.8334719999998335 2.0\n",
      "1900 27408 29.3593574885 0.8207359999998207 2.0\n",
      "Saved model\n",
      "2000 28583 17.1528316491 0.8113359999998113 2.0\n",
      "2100 30199 27.2039235934 0.7984079999997984 2.0\n",
      "2200 31531 34.374666177 0.7877519999997877 2.0\n",
      "2300 33047 9.7744357098 0.7756239999997756 2.0\n",
      "2400 34502 76.5759341993 0.763983999999764 2.0\n",
      "2500 36212 64.4510882106 0.7503039999997503 2.0\n",
      "2600 37884 11.4712894611 0.7369279999997369 2.0\n",
      "2700 39601 34.9207245776 0.7231919999997232 2.0\n",
      "2800 40963 30.0784741974 0.7122959999997123 2.0\n",
      "2900 42489 23.4133486447 0.7000879999997001 2.0\n",
      "Saved model\n",
      "3000 44080 -9.83435608116 0.6873599999996873 2.0\n",
      "3100 45605 43.4905587362 0.6751599999996751 2.0\n",
      "3200 47261 47.0853574437 0.6619119999996619 2.0\n",
      "3300 48958 24.6139590004 0.6483359999996483 2.0\n",
      "3400 50739 30.275165238 0.634087999999634 2.0\n",
      "3500 52244 26.188432991 0.622047999999622 2.0\n",
      "3600 53600 -11.4615042812 0.6111999999996112 2.0\n",
      "3700 55384 35.0553017866 0.5969279999995969 2.0\n",
      "3800 56897 9.91756800037 0.5848239999995848 2.0\n",
      "3900 58570 6.14197711041 0.5714399999995714 2.0\n",
      "Saved model\n",
      "4000 60155 27.3050149942 0.5587599999995587 2.0\n",
      "4100 61776 -8.21235089272 0.5457919999995458 2.0\n",
      "4200 63332 49.9612491924 0.5333439999995333 2.0\n",
      "4300 64829 -8.83816454317 0.5213679999995213 2.0\n",
      "4400 66552 15.7804665989 0.5075839999995075 2.0\n",
      "4500 68463 42.7362632841 0.49229599999949225 1.0\n",
      "4600 70210 -6.9375779102 0.4783199999994783 2.0\n",
      "4700 71908 19.2357917863 0.4647359999994647 2.0\n",
      "4800 73468 48.2681216108 0.4522559999994522 1.0\n",
      "4900 75291 -8.49639204278 0.4376719999994376 2.0\n",
      "Saved model\n",
      "5000 77256 38.5926410754 0.4219519999994219 2.0\n",
      "5100 79152 -7.34132107091 0.40678399999940673 1.0\n",
      "5200 80676 5.34559505742 0.39459199999939454 2.0\n",
      "5300 82587 9.28444132676 0.37930399999937925 2.0\n",
      "5400 84610 34.3122438761 0.36311999999936306 2.0\n",
      "5500 85861 -7.02501859697 0.35311199999935305 3.0\n",
      "5600 87375 32.5770519189 0.34099999999934094 2.0\n",
      "5700 89317 8.29392840682 0.3254639999993254 1.0\n",
      "5800 91016 12.3308236607 0.3118719999993118 1.0\n",
      "5900 92686 4.47562222398 0.29851199999929845 1.0\n",
      "Saved model\n",
      "6000 94531 32.7240879319 0.2837519999992837 2.0\n",
      "6100 96228 -9.12065837886 0.2701759999992701 2.0\n",
      "6200 98172 12.4040497877 0.25462399999925456 2.0\n",
      "6300 100362 6.74194884514 0.23710399999923704 2.0\n",
      "6400 101848 16.6168798714 0.22521599999922515 2.0\n",
      "6500 104248 48.2327250416 0.20601599999920595 2.0\n",
      "6600 106013 65.2561409371 0.19999999999919993 2.0\n",
      "6700 107654 18.7491632614 0.19999999999919993 2.0\n",
      "6800 109030 -8.51932492759 0.19999999999919993 1.0\n",
      "6900 110894 34.3514001961 0.19999999999919993 3.0\n",
      "Saved model\n",
      "7000 112896 28.9096834409 0.19999999999919993 2.0\n",
      "7100 114646 32.9180169414 0.19999999999919993 2.0\n",
      "7200 116378 22.5349892898 0.19999999999919993 2.0\n",
      "7300 118049 17.819661832 0.19999999999919993 2.0\n",
      "7400 119815 34.7785094823 0.19999999999919993 2.0\n",
      "7500 122028 9.15910245209 0.19999999999919993 2.0\n",
      "7600 123828 54.6364060819 0.19999999999919993 2.0\n",
      "7700 125541 14.2296841925 0.19999999999919993 2.0\n",
      "7800 127249 4.63846002035 0.19999999999919993 2.0\n",
      "7900 129048 33.8266331511 0.19999999999919993 2.0\n",
      "Saved model\n",
      "8000 131330 77.1188794194 0.19999999999919993 2.0\n"
     ]
    },
    {
     "ename": "KeyboardInterrupt",
     "evalue": "",
     "output_type": "error",
     "traceback": [
      "\u001b[0;31m---------------------------------------------------------------------------\u001b[0m",
      "\u001b[0;31mKeyboardInterrupt\u001b[0m                         Traceback (most recent call last)",
      "\u001b[0;32m<timed exec>\u001b[0m in \u001b[0;36m<module>\u001b[0;34m()\u001b[0m\n",
      "\u001b[0;32m/home/digitman/Documents/git/TensorPoker/scripts/MyEmulator.py\u001b[0m in \u001b[0;36mrun_until_my_next_action\u001b[0;34m(self, game_state, my_uuid, my_messages)\u001b[0m\n\u001b[1;32m     32\u001b[0m                 \u001b[0;32mreturn\u001b[0m \u001b[0mgame_state\u001b[0m\u001b[0;34m,\u001b[0m \u001b[0mmsg\u001b[0m\u001b[0;34m[\u001b[0m\u001b[0;34m\"valid_actions\"\u001b[0m\u001b[0;34m]\u001b[0m\u001b[0;34m,\u001b[0m \u001b[0mmsg\u001b[0m\u001b[0;34m[\u001b[0m\u001b[0;34m\"hole_card\"\u001b[0m\u001b[0;34m]\u001b[0m\u001b[0;34m,\u001b[0m \u001b[0mmsg\u001b[0m\u001b[0;34m[\u001b[0m\u001b[0;34m\"round_state\"\u001b[0m\u001b[0;34m]\u001b[0m\u001b[0;34m\u001b[0m\u001b[0m\n\u001b[1;32m     33\u001b[0m \u001b[0;34m\u001b[0m\u001b[0m\n\u001b[0;32m---> 34\u001b[0;31m             \u001b[0maction\u001b[0m\u001b[0;34m,\u001b[0m \u001b[0mamount\u001b[0m \u001b[0;34m=\u001b[0m \u001b[0mnext_player_algorithm\u001b[0m\u001b[0;34m.\u001b[0m\u001b[0mdeclare_action\u001b[0m\u001b[0;34m(\u001b[0m                    \u001b[0mmsg\u001b[0m\u001b[0;34m[\u001b[0m\u001b[0;34m\"valid_actions\"\u001b[0m\u001b[0;34m]\u001b[0m\u001b[0;34m,\u001b[0m \u001b[0mmsg\u001b[0m\u001b[0;34m[\u001b[0m\u001b[0;34m\"hole_card\"\u001b[0m\u001b[0;34m]\u001b[0m\u001b[0;34m,\u001b[0m \u001b[0mmsg\u001b[0m\u001b[0;34m[\u001b[0m\u001b[0;34m\"round_state\"\u001b[0m\u001b[0;34m]\u001b[0m\u001b[0;34m)\u001b[0m\u001b[0;34m\u001b[0m\u001b[0m\n\u001b[0m\u001b[1;32m     35\u001b[0m \u001b[0;34m\u001b[0m\u001b[0m\n\u001b[1;32m     36\u001b[0m             \u001b[0mgame_state\u001b[0m\u001b[0;34m,\u001b[0m \u001b[0mmessages\u001b[0m \u001b[0;34m=\u001b[0m \u001b[0mRoundManager\u001b[0m\u001b[0;34m.\u001b[0m\u001b[0mapply_action\u001b[0m\u001b[0;34m(\u001b[0m\u001b[0mgame_state\u001b[0m\u001b[0;34m,\u001b[0m \u001b[0maction\u001b[0m\u001b[0;34m,\u001b[0m \u001b[0mamount\u001b[0m\u001b[0;34m)\u001b[0m\u001b[0;34m\u001b[0m\u001b[0m\n",
      "\u001b[0;32m/home/digitman/Documents/git/TensorPoker/scripts/PlayerModels.py\u001b[0m in \u001b[0;36mdeclare_action\u001b[0;34m(self, valid_actions, hole_card, round_state)\u001b[0m\n\u001b[1;32m     63\u001b[0m         win_rate = estimate_hole_card_win_rate(nb_simulation=100, nb_player=self.nb_player,\n\u001b[1;32m     64\u001b[0m                                                \u001b[0mhole_card\u001b[0m\u001b[0;34m=\u001b[0m\u001b[0mgen_cards\u001b[0m\u001b[0;34m(\u001b[0m\u001b[0mhole_card\u001b[0m\u001b[0;34m)\u001b[0m\u001b[0;34m,\u001b[0m\u001b[0;34m\u001b[0m\u001b[0m\n\u001b[0;32m---> 65\u001b[0;31m                                                community_card=gen_cards(community_card))\n\u001b[0m\u001b[1;32m     66\u001b[0m         \u001b[0;32mif\u001b[0m \u001b[0mwin_rate\u001b[0m \u001b[0;34m>\u001b[0m \u001b[0;36m1\u001b[0m \u001b[0;34m/\u001b[0m \u001b[0mfloat\u001b[0m\u001b[0;34m(\u001b[0m\u001b[0mself\u001b[0m\u001b[0;34m.\u001b[0m\u001b[0mnb_player\u001b[0m\u001b[0;34m)\u001b[0m \u001b[0;34m+\u001b[0m \u001b[0;36m0.1\u001b[0m\u001b[0;34m:\u001b[0m\u001b[0;34m\u001b[0m\u001b[0m\n\u001b[1;32m     67\u001b[0m             \u001b[0maction\u001b[0m\u001b[0;34m,\u001b[0m \u001b[0mamount\u001b[0m \u001b[0;34m=\u001b[0m \u001b[0mcall_action_info\u001b[0m\u001b[0;34m[\u001b[0m\u001b[0;34m\"action\"\u001b[0m\u001b[0;34m]\u001b[0m\u001b[0;34m,\u001b[0m \u001b[0mcall_action_info\u001b[0m\u001b[0;34m[\u001b[0m\u001b[0;34m\"amount\"\u001b[0m\u001b[0;34m]\u001b[0m\u001b[0;34m\u001b[0m\u001b[0m\n",
      "\u001b[0;32m/home/digitman/python_projects/holdem-challenge/pypokerengine/utils/card_utils.py\u001b[0m in \u001b[0;36mestimate_hole_card_win_rate\u001b[0;34m(nb_simulation, nb_player, hole_card, community_card)\u001b[0m\n\u001b[1;32m     10\u001b[0m \u001b[0;32mdef\u001b[0m \u001b[0mestimate_hole_card_win_rate\u001b[0m\u001b[0;34m(\u001b[0m\u001b[0mnb_simulation\u001b[0m\u001b[0;34m,\u001b[0m \u001b[0mnb_player\u001b[0m\u001b[0;34m,\u001b[0m \u001b[0mhole_card\u001b[0m\u001b[0;34m,\u001b[0m \u001b[0mcommunity_card\u001b[0m\u001b[0;34m=\u001b[0m\u001b[0;32mNone\u001b[0m\u001b[0;34m)\u001b[0m\u001b[0;34m:\u001b[0m\u001b[0;34m\u001b[0m\u001b[0m\n\u001b[1;32m     11\u001b[0m     \u001b[0;32mif\u001b[0m \u001b[0;32mnot\u001b[0m \u001b[0mcommunity_card\u001b[0m\u001b[0;34m:\u001b[0m \u001b[0mcommunity_card\u001b[0m \u001b[0;34m=\u001b[0m \u001b[0;34m[\u001b[0m\u001b[0;34m]\u001b[0m\u001b[0;34m\u001b[0m\u001b[0m\n\u001b[0;32m---> 12\u001b[0;31m     \u001b[0mwin_count\u001b[0m \u001b[0;34m=\u001b[0m \u001b[0msum\u001b[0m\u001b[0;34m(\u001b[0m\u001b[0;34m[\u001b[0m\u001b[0m_montecarlo_simulation\u001b[0m\u001b[0;34m(\u001b[0m\u001b[0mnb_player\u001b[0m\u001b[0;34m,\u001b[0m \u001b[0mhole_card\u001b[0m\u001b[0;34m,\u001b[0m \u001b[0mcommunity_card\u001b[0m\u001b[0;34m)\u001b[0m \u001b[0;32mfor\u001b[0m \u001b[0m_\u001b[0m \u001b[0;32min\u001b[0m \u001b[0mrange\u001b[0m\u001b[0;34m(\u001b[0m\u001b[0mnb_simulation\u001b[0m\u001b[0;34m)\u001b[0m\u001b[0;34m]\u001b[0m\u001b[0;34m)\u001b[0m\u001b[0;34m\u001b[0m\u001b[0m\n\u001b[0m\u001b[1;32m     13\u001b[0m     \u001b[0;32mreturn\u001b[0m \u001b[0;36m1.0\u001b[0m \u001b[0;34m*\u001b[0m \u001b[0mwin_count\u001b[0m \u001b[0;34m/\u001b[0m \u001b[0mnb_simulation\u001b[0m\u001b[0;34m\u001b[0m\u001b[0m\n\u001b[1;32m     14\u001b[0m \u001b[0;34m\u001b[0m\u001b[0m\n",
      "\u001b[0;32m/home/digitman/python_projects/holdem-challenge/pypokerengine/utils/card_utils.py\u001b[0m in \u001b[0;36m<listcomp>\u001b[0;34m(.0)\u001b[0m\n\u001b[1;32m     10\u001b[0m \u001b[0;32mdef\u001b[0m \u001b[0mestimate_hole_card_win_rate\u001b[0m\u001b[0;34m(\u001b[0m\u001b[0mnb_simulation\u001b[0m\u001b[0;34m,\u001b[0m \u001b[0mnb_player\u001b[0m\u001b[0;34m,\u001b[0m \u001b[0mhole_card\u001b[0m\u001b[0;34m,\u001b[0m \u001b[0mcommunity_card\u001b[0m\u001b[0;34m=\u001b[0m\u001b[0;32mNone\u001b[0m\u001b[0;34m)\u001b[0m\u001b[0;34m:\u001b[0m\u001b[0;34m\u001b[0m\u001b[0m\n\u001b[1;32m     11\u001b[0m     \u001b[0;32mif\u001b[0m \u001b[0;32mnot\u001b[0m \u001b[0mcommunity_card\u001b[0m\u001b[0;34m:\u001b[0m \u001b[0mcommunity_card\u001b[0m \u001b[0;34m=\u001b[0m \u001b[0;34m[\u001b[0m\u001b[0;34m]\u001b[0m\u001b[0;34m\u001b[0m\u001b[0m\n\u001b[0;32m---> 12\u001b[0;31m     \u001b[0mwin_count\u001b[0m \u001b[0;34m=\u001b[0m \u001b[0msum\u001b[0m\u001b[0;34m(\u001b[0m\u001b[0;34m[\u001b[0m\u001b[0m_montecarlo_simulation\u001b[0m\u001b[0;34m(\u001b[0m\u001b[0mnb_player\u001b[0m\u001b[0;34m,\u001b[0m \u001b[0mhole_card\u001b[0m\u001b[0;34m,\u001b[0m \u001b[0mcommunity_card\u001b[0m\u001b[0;34m)\u001b[0m \u001b[0;32mfor\u001b[0m \u001b[0m_\u001b[0m \u001b[0;32min\u001b[0m \u001b[0mrange\u001b[0m\u001b[0;34m(\u001b[0m\u001b[0mnb_simulation\u001b[0m\u001b[0;34m)\u001b[0m\u001b[0;34m]\u001b[0m\u001b[0;34m)\u001b[0m\u001b[0;34m\u001b[0m\u001b[0m\n\u001b[0m\u001b[1;32m     13\u001b[0m     \u001b[0;32mreturn\u001b[0m \u001b[0;36m1.0\u001b[0m \u001b[0;34m*\u001b[0m \u001b[0mwin_count\u001b[0m \u001b[0;34m/\u001b[0m \u001b[0mnb_simulation\u001b[0m\u001b[0;34m\u001b[0m\u001b[0m\n\u001b[1;32m     14\u001b[0m \u001b[0;34m\u001b[0m\u001b[0m\n",
      "\u001b[0;32m/home/digitman/python_projects/holdem-challenge/pypokerengine/utils/card_utils.py\u001b[0m in \u001b[0;36m_montecarlo_simulation\u001b[0;34m(nb_player, hole_card, community_card)\u001b[0m\n\u001b[1;32m     35\u001b[0m     \u001b[0munused_cards\u001b[0m \u001b[0;34m=\u001b[0m \u001b[0m_pick_unused_card\u001b[0m\u001b[0;34m(\u001b[0m\u001b[0;34m(\u001b[0m\u001b[0mnb_player\u001b[0m\u001b[0;34m-\u001b[0m\u001b[0;36m1\u001b[0m\u001b[0;34m)\u001b[0m\u001b[0;34m*\u001b[0m\u001b[0;36m2\u001b[0m\u001b[0;34m,\u001b[0m \u001b[0mhole_card\u001b[0m \u001b[0;34m+\u001b[0m \u001b[0mcommunity_card\u001b[0m\u001b[0;34m)\u001b[0m\u001b[0;34m\u001b[0m\u001b[0m\n\u001b[1;32m     36\u001b[0m     \u001b[0mopponents_hole\u001b[0m \u001b[0;34m=\u001b[0m \u001b[0;34m[\u001b[0m\u001b[0munused_cards\u001b[0m\u001b[0;34m[\u001b[0m\u001b[0;36m2\u001b[0m\u001b[0;34m*\u001b[0m\u001b[0mi\u001b[0m\u001b[0;34m:\u001b[0m\u001b[0;36m2\u001b[0m\u001b[0;34m*\u001b[0m\u001b[0mi\u001b[0m\u001b[0;34m+\u001b[0m\u001b[0;36m2\u001b[0m\u001b[0;34m]\u001b[0m \u001b[0;32mfor\u001b[0m \u001b[0mi\u001b[0m \u001b[0;32min\u001b[0m \u001b[0mrange\u001b[0m\u001b[0;34m(\u001b[0m\u001b[0mnb_player\u001b[0m\u001b[0;34m-\u001b[0m\u001b[0;36m1\u001b[0m\u001b[0;34m)\u001b[0m\u001b[0;34m]\u001b[0m\u001b[0;34m\u001b[0m\u001b[0m\n\u001b[0;32m---> 37\u001b[0;31m     \u001b[0mopponents_score\u001b[0m \u001b[0;34m=\u001b[0m \u001b[0;34m[\u001b[0m\u001b[0mHandEvaluator\u001b[0m\u001b[0;34m.\u001b[0m\u001b[0meval_hand\u001b[0m\u001b[0;34m(\u001b[0m\u001b[0mhole\u001b[0m\u001b[0;34m,\u001b[0m \u001b[0mcommunity_card\u001b[0m\u001b[0;34m)\u001b[0m \u001b[0;32mfor\u001b[0m \u001b[0mhole\u001b[0m \u001b[0;32min\u001b[0m \u001b[0mopponents_hole\u001b[0m\u001b[0;34m]\u001b[0m\u001b[0;34m\u001b[0m\u001b[0m\n\u001b[0m\u001b[1;32m     38\u001b[0m     \u001b[0mmy_score\u001b[0m \u001b[0;34m=\u001b[0m \u001b[0mHandEvaluator\u001b[0m\u001b[0;34m.\u001b[0m\u001b[0meval_hand\u001b[0m\u001b[0;34m(\u001b[0m\u001b[0mhole_card\u001b[0m\u001b[0;34m,\u001b[0m \u001b[0mcommunity_card\u001b[0m\u001b[0;34m)\u001b[0m\u001b[0;34m\u001b[0m\u001b[0m\n\u001b[1;32m     39\u001b[0m     \u001b[0;32mreturn\u001b[0m \u001b[0;36m1\u001b[0m \u001b[0;32mif\u001b[0m \u001b[0mmy_score\u001b[0m \u001b[0;34m>=\u001b[0m \u001b[0mmax\u001b[0m\u001b[0;34m(\u001b[0m\u001b[0mopponents_score\u001b[0m\u001b[0;34m)\u001b[0m \u001b[0;32melse\u001b[0m \u001b[0;36m0\u001b[0m\u001b[0;34m\u001b[0m\u001b[0m\n",
      "\u001b[0;32m/home/digitman/python_projects/holdem-challenge/pypokerengine/utils/card_utils.py\u001b[0m in \u001b[0;36m<listcomp>\u001b[0;34m(.0)\u001b[0m\n\u001b[1;32m     35\u001b[0m     \u001b[0munused_cards\u001b[0m \u001b[0;34m=\u001b[0m \u001b[0m_pick_unused_card\u001b[0m\u001b[0;34m(\u001b[0m\u001b[0;34m(\u001b[0m\u001b[0mnb_player\u001b[0m\u001b[0;34m-\u001b[0m\u001b[0;36m1\u001b[0m\u001b[0;34m)\u001b[0m\u001b[0;34m*\u001b[0m\u001b[0;36m2\u001b[0m\u001b[0;34m,\u001b[0m \u001b[0mhole_card\u001b[0m \u001b[0;34m+\u001b[0m \u001b[0mcommunity_card\u001b[0m\u001b[0;34m)\u001b[0m\u001b[0;34m\u001b[0m\u001b[0m\n\u001b[1;32m     36\u001b[0m     \u001b[0mopponents_hole\u001b[0m \u001b[0;34m=\u001b[0m \u001b[0;34m[\u001b[0m\u001b[0munused_cards\u001b[0m\u001b[0;34m[\u001b[0m\u001b[0;36m2\u001b[0m\u001b[0;34m*\u001b[0m\u001b[0mi\u001b[0m\u001b[0;34m:\u001b[0m\u001b[0;36m2\u001b[0m\u001b[0;34m*\u001b[0m\u001b[0mi\u001b[0m\u001b[0;34m+\u001b[0m\u001b[0;36m2\u001b[0m\u001b[0;34m]\u001b[0m \u001b[0;32mfor\u001b[0m \u001b[0mi\u001b[0m \u001b[0;32min\u001b[0m \u001b[0mrange\u001b[0m\u001b[0;34m(\u001b[0m\u001b[0mnb_player\u001b[0m\u001b[0;34m-\u001b[0m\u001b[0;36m1\u001b[0m\u001b[0;34m)\u001b[0m\u001b[0;34m]\u001b[0m\u001b[0;34m\u001b[0m\u001b[0m\n\u001b[0;32m---> 37\u001b[0;31m     \u001b[0mopponents_score\u001b[0m \u001b[0;34m=\u001b[0m \u001b[0;34m[\u001b[0m\u001b[0mHandEvaluator\u001b[0m\u001b[0;34m.\u001b[0m\u001b[0meval_hand\u001b[0m\u001b[0;34m(\u001b[0m\u001b[0mhole\u001b[0m\u001b[0;34m,\u001b[0m \u001b[0mcommunity_card\u001b[0m\u001b[0;34m)\u001b[0m \u001b[0;32mfor\u001b[0m \u001b[0mhole\u001b[0m \u001b[0;32min\u001b[0m \u001b[0mopponents_hole\u001b[0m\u001b[0;34m]\u001b[0m\u001b[0;34m\u001b[0m\u001b[0m\n\u001b[0m\u001b[1;32m     38\u001b[0m     \u001b[0mmy_score\u001b[0m \u001b[0;34m=\u001b[0m \u001b[0mHandEvaluator\u001b[0m\u001b[0;34m.\u001b[0m\u001b[0meval_hand\u001b[0m\u001b[0;34m(\u001b[0m\u001b[0mhole_card\u001b[0m\u001b[0;34m,\u001b[0m \u001b[0mcommunity_card\u001b[0m\u001b[0;34m)\u001b[0m\u001b[0;34m\u001b[0m\u001b[0m\n\u001b[1;32m     39\u001b[0m     \u001b[0;32mreturn\u001b[0m \u001b[0;36m1\u001b[0m \u001b[0;32mif\u001b[0m \u001b[0mmy_score\u001b[0m \u001b[0;34m>=\u001b[0m \u001b[0mmax\u001b[0m\u001b[0;34m(\u001b[0m\u001b[0mopponents_score\u001b[0m\u001b[0;34m)\u001b[0m \u001b[0;32melse\u001b[0m \u001b[0;36m0\u001b[0m\u001b[0;34m\u001b[0m\u001b[0m\n",
      "\u001b[0;32m/home/digitman/python_projects/holdem-challenge/pypokerengine/engine/hand_evaluator.py\u001b[0m in \u001b[0;36meval_hand\u001b[0;34m(self, hole, community)\u001b[0m\n\u001b[1;32m     50\u001b[0m   \u001b[0;34m@\u001b[0m\u001b[0mclassmethod\u001b[0m\u001b[0;34m\u001b[0m\u001b[0m\n\u001b[1;32m     51\u001b[0m   \u001b[0;32mdef\u001b[0m \u001b[0meval_hand\u001b[0m\u001b[0;34m(\u001b[0m\u001b[0mself\u001b[0m\u001b[0;34m,\u001b[0m \u001b[0mhole\u001b[0m\u001b[0;34m,\u001b[0m \u001b[0mcommunity\u001b[0m\u001b[0;34m)\u001b[0m\u001b[0;34m:\u001b[0m\u001b[0;34m\u001b[0m\u001b[0m\n\u001b[0;32m---> 52\u001b[0;31m     \u001b[0mranks\u001b[0m \u001b[0;34m=\u001b[0m \u001b[0msorted\u001b[0m\u001b[0;34m(\u001b[0m\u001b[0;34m[\u001b[0m\u001b[0mcard\u001b[0m\u001b[0;34m.\u001b[0m\u001b[0mrank\u001b[0m \u001b[0;32mfor\u001b[0m \u001b[0mcard\u001b[0m \u001b[0;32min\u001b[0m \u001b[0mhole\u001b[0m\u001b[0;34m]\u001b[0m\u001b[0;34m)\u001b[0m\u001b[0;34m\u001b[0m\u001b[0m\n\u001b[0m\u001b[1;32m     53\u001b[0m     \u001b[0mhole_flg\u001b[0m \u001b[0;34m=\u001b[0m \u001b[0mranks\u001b[0m\u001b[0;34m[\u001b[0m\u001b[0;36m1\u001b[0m\u001b[0;34m]\u001b[0m \u001b[0;34m<<\u001b[0m \u001b[0;36m4\u001b[0m \u001b[0;34m|\u001b[0m \u001b[0mranks\u001b[0m\u001b[0;34m[\u001b[0m\u001b[0;36m0\u001b[0m\u001b[0;34m]\u001b[0m\u001b[0;34m\u001b[0m\u001b[0m\n\u001b[1;32m     54\u001b[0m     \u001b[0mhand_flg\u001b[0m \u001b[0;34m=\u001b[0m \u001b[0mself\u001b[0m\u001b[0;34m.\u001b[0m\u001b[0m__calc_hand_info_flg\u001b[0m\u001b[0;34m(\u001b[0m\u001b[0mhole\u001b[0m\u001b[0;34m,\u001b[0m \u001b[0mcommunity\u001b[0m\u001b[0;34m)\u001b[0m \u001b[0;34m<<\u001b[0m \u001b[0;36m8\u001b[0m\u001b[0;34m\u001b[0m\u001b[0m\n",
      "\u001b[0;32m/home/digitman/python_projects/holdem-challenge/pypokerengine/engine/hand_evaluator.py\u001b[0m in \u001b[0;36m<listcomp>\u001b[0;34m(.0)\u001b[0m\n\u001b[1;32m     50\u001b[0m   \u001b[0;34m@\u001b[0m\u001b[0mclassmethod\u001b[0m\u001b[0;34m\u001b[0m\u001b[0m\n\u001b[1;32m     51\u001b[0m   \u001b[0;32mdef\u001b[0m \u001b[0meval_hand\u001b[0m\u001b[0;34m(\u001b[0m\u001b[0mself\u001b[0m\u001b[0;34m,\u001b[0m \u001b[0mhole\u001b[0m\u001b[0;34m,\u001b[0m \u001b[0mcommunity\u001b[0m\u001b[0;34m)\u001b[0m\u001b[0;34m:\u001b[0m\u001b[0;34m\u001b[0m\u001b[0m\n\u001b[0;32m---> 52\u001b[0;31m     \u001b[0mranks\u001b[0m \u001b[0;34m=\u001b[0m \u001b[0msorted\u001b[0m\u001b[0;34m(\u001b[0m\u001b[0;34m[\u001b[0m\u001b[0mcard\u001b[0m\u001b[0;34m.\u001b[0m\u001b[0mrank\u001b[0m \u001b[0;32mfor\u001b[0m \u001b[0mcard\u001b[0m \u001b[0;32min\u001b[0m \u001b[0mhole\u001b[0m\u001b[0;34m]\u001b[0m\u001b[0;34m)\u001b[0m\u001b[0;34m\u001b[0m\u001b[0m\n\u001b[0m\u001b[1;32m     53\u001b[0m     \u001b[0mhole_flg\u001b[0m \u001b[0;34m=\u001b[0m \u001b[0mranks\u001b[0m\u001b[0;34m[\u001b[0m\u001b[0;36m1\u001b[0m\u001b[0;34m]\u001b[0m \u001b[0;34m<<\u001b[0m \u001b[0;36m4\u001b[0m \u001b[0;34m|\u001b[0m \u001b[0mranks\u001b[0m\u001b[0;34m[\u001b[0m\u001b[0;36m0\u001b[0m\u001b[0;34m]\u001b[0m\u001b[0;34m\u001b[0m\u001b[0m\n\u001b[1;32m     54\u001b[0m     \u001b[0mhand_flg\u001b[0m \u001b[0;34m=\u001b[0m \u001b[0mself\u001b[0m\u001b[0;34m.\u001b[0m\u001b[0m__calc_hand_info_flg\u001b[0m\u001b[0;34m(\u001b[0m\u001b[0mhole\u001b[0m\u001b[0;34m,\u001b[0m \u001b[0mcommunity\u001b[0m\u001b[0;34m)\u001b[0m \u001b[0;34m<<\u001b[0m \u001b[0;36m8\u001b[0m\u001b[0;34m\u001b[0m\u001b[0m\n",
      "\u001b[0;31mKeyboardInterrupt\u001b[0m: "
     ]
    }
   ],
   "source": [
    "%%time\n",
    "init = tf.global_variables_initializer()\n",
    "saver = tf.train.Saver(max_to_keep=3)\n",
    "trainables = tf.trainable_variables()\n",
    "target_ops = update_target_graph(trainables, tau)\n",
    "my_buffer = ExperienceBuffer()\n",
    "\n",
    "e = start_E\n",
    "step_drop = (start_E - end_E) / annealings_steps\n",
    "\n",
    "j_list = []\n",
    "r_list = []\n",
    "action_list = []\n",
    "total_steps = 0\n",
    "\n",
    "with tf.Session() as sess:\n",
    "    sess.run(init)\n",
    "    if load_model:\n",
    "        print('Loading model')\n",
    "        ckpt = tf.train.get_checkpoint_state(path)\n",
    "        saver.restore(sess, ckpt.model_checkpoint_path)\n",
    "    for i in range(num_episodes):\n",
    "        episode_buffer = ExperienceBuffer()\n",
    "        init_emul(str(np.random.randint(1, 10)))\n",
    "        \n",
    "        initial_state = emul.generate_initial_game_state(players_info)\n",
    "        msgs = []\n",
    "        game_state, events = emul.start_new_round(initial_state)\n",
    "        is_last_round = False\n",
    "        r_all = 0\n",
    "        j = 0\n",
    "        \n",
    "        last_img_state = None\n",
    "        last_features = None\n",
    "        last_action_num = None\n",
    "        \n",
    "        while not is_last_round:\n",
    "            j += 1\n",
    "            a = emul.run_until_my_next_action(game_state, my_uuid, msgs)\n",
    "            \n",
    "            # need to make move\n",
    "            if len(a) == 4:\n",
    "                game_state, valid_actions, hole_card, round_state = a\n",
    "                img_state = img_from_state(hole_card, round_state)\n",
    "                img_state = process_img(img_state)\n",
    "                \n",
    "                street = round_state['street']\n",
    "                bank = round_state['pot']['main']['amount']\n",
    "                stack = [s['stack'] for s in round_state['seats'] if s['uuid'] == my_uuid][0]\n",
    "                other_stacks = [s['stack'] for s in round_state['seats'] if s['uuid'] != my_uuid]\n",
    "                dealer_btn = round_state['dealer_btn']\n",
    "                small_blind_pos = round_state['small_blind_pos']\n",
    "                big_blind_pos = round_state['big_blind_pos']\n",
    "                next_player = round_state['next_player']\n",
    "                round_count = round_state['round_count']\n",
    "                estimation = main_wp.hole_card_est[(hole_card[0], hole_card[1])]\n",
    "\n",
    "                features = get_street(street)\n",
    "                features.extend([bank, stack, dealer_btn, small_blind_pos, big_blind_pos, next_player, round_count])\n",
    "                features.extend(other_stacks)\n",
    "                features.append(estimation)\n",
    "                        \n",
    "                # add to buffer last hand \n",
    "                if last_img_state is not None:\n",
    "                    episode_buffer.add(np.reshape(np.array([last_img_state, last_features, last_action_num,\n",
    "                                                            0, img_state, features, 0]), [1, 7]))\n",
    "                \n",
    "                if np.random.rand(1) < e or total_steps < pre_train_steps:\n",
    "                    action_num = np.random.randint(0, main_wp.total_num_actions)\n",
    "                else:\n",
    "                    action_num = sess.run(main_wp.predict, feed_dict={main_wp.scalar_input: [img_state],\n",
    "                                                                      main_wp.features_input: [features]})[0]\n",
    "                    \n",
    "                action_list.append(action_num)\n",
    "                action, amount = get_action_by_num(action_num, valid_actions)                    \n",
    "\n",
    "                game_state, msgs = emul.apply_my_action(game_state, action, amount)\n",
    "                total_steps += 1\n",
    "        \n",
    "                last_img_state = img_state.copy()\n",
    "                last_features = features.copy()\n",
    "                last_action_num = action_num\n",
    "                \n",
    "                if total_steps > pre_train_steps:\n",
    "                    if e > end_E:\n",
    "                        e -= step_drop\n",
    "                    \n",
    "                    if total_steps % (update_freq) == 0:\n",
    "                        train_batch = my_buffer.sample(batch_size)\n",
    "\n",
    "                        Q1 = sess.run(main_wp.predict,\n",
    "                                      feed_dict={main_wp.scalar_input: np.vstack(train_batch[:, 4]),\n",
    "                                                 main_wp.features_input: np.vstack(train_batch[:, 5])})\n",
    "                        Q1_ = sess.run(main_wp.Q_out,\n",
    "                                      feed_dict={main_wp.scalar_input: np.vstack(train_batch[:, 4]),\n",
    "                                                 main_wp.features_input: np.vstack(train_batch[:, 5])})\n",
    "        \n",
    "                        Q2 = sess.run(target_wp.Q_out,\n",
    "                                      feed_dict={target_wp.scalar_input: np.vstack(train_batch[:, 4]),\n",
    "                                                 target_wp.features_input: np.vstack(train_batch[:, 5])})\n",
    "                        end_multiplier = -(train_batch[:, 6] - 1)\n",
    "                        double_Q = Q2[range(batch_size), Q1]\n",
    "                        double_Q_ = Q1_[range(batch_size), Q1]\n",
    "                        \n",
    "                        if is_dueling:\n",
    "                            target_Q = train_batch[:, 3] + (y * double_Q * end_multiplier)\n",
    "                        else:\n",
    "                            target_Q = train_batch[:, 3] + (y * double_Q_ * end_multiplier)\n",
    "\n",
    "                        _, er, g, v = sess.run([main_wp.update_model,\n",
    "                                          main_wp.loss, main_wp.grad_norms, main_wp.var_norms],\n",
    "                                     feed_dict={\n",
    "                                         main_wp.scalar_input: np.vstack(train_batch[:, 0]),\n",
    "                                         main_wp.features_input: np.vstack(train_batch[:, 1]),\n",
    "                                         main_wp.target_Q: target_Q,\n",
    "                                         main_wp.actions: train_batch[:, 2]\n",
    "                                     })\n",
    "                        update_target(target_ops, sess)\n",
    "                        \n",
    "                        r = np.mean(r_list[-2:])\n",
    "                        j = np.mean(j_list[-2:])\n",
    "                        q1 = double_Q_[0]\n",
    "                        q2 = double_Q[0]\n",
    "                        al = np.mean(action_list[-10:])\n",
    "                                                \n",
    "                        summary = tf.Summary()\n",
    "                        summary.value.add(tag='Perf/Reward', simple_value=float(r))\n",
    "                        summary.value.add(tag='Perf/Lenght', simple_value=float(j))\n",
    "                        summary.value.add(tag='Perf/Action_list', simple_value=al)\n",
    "                        summary.value.add(tag='Perf/E', simple_value=e)                        \n",
    "                        summary.value.add(tag='Q/Q1', simple_value=float(q1))\n",
    "                        summary.value.add(tag='Q/Q2', simple_value=float(q2))\n",
    "                        summary.value.add(tag='Q/Target', simple_value=target_Q[0])\n",
    "                        summary.value.add(tag='Q/Action', simple_value=Q1[0])\n",
    "                        summary.value.add(tag='Loss/Error', simple_value=er)\n",
    "                        summary.value.add(tag='Loss/Grad_norm', simple_value=g)\n",
    "                        summary.value.add(tag='Loss/Var_norm', simple_value=v)\n",
    "                        \n",
    "                        main_wp.summary_writer.add_summary(summary, total_steps)\n",
    "                        if total_steps % (update_freq * 2) == 0:\n",
    "                            main_wp.summary_writer.flush()\n",
    "                        \n",
    "#                         tf.summary.histogram('Q1', Q1_)\n",
    "#                         tf.summary.histogram('Q2', Q2)\n",
    "            else:\n",
    "                game_state, reward = a\n",
    "                if reward >= 0:\n",
    "                    reward = np.log(1 + reward)\n",
    "                else:\n",
    "                    reward = -np.log(1 - reward)\n",
    "                r_all += reward\n",
    "                # add to buffer last hand \n",
    "                if last_img_state is not None:\n",
    "                    episode_buffer.add(np.reshape(np.array([last_img_state, last_features, last_action_num,\n",
    "                                                            reward, last_img_state, last_features, 1]), [1, 7]))\n",
    "                \n",
    "                is_last_round = emul._is_last_round(game_state, emul.game_rule)\n",
    "                game_state, events = emul.start_new_round(game_state)\n",
    "\n",
    "                last_img_state = None\n",
    "                last_action_num = None   \n",
    "            \n",
    "        my_buffer.add(episode_buffer.buffer)\n",
    "        r_list.append(r_all)\n",
    "        j_list.append(j)\n",
    "\n",
    "        if i % 1000 == 0:\n",
    "#             saver.save(sess, path + '/model_' + str(i) + '.ckpt')\n",
    "            saver.save(sess, path, i)\n",
    "\n",
    "            print('Saved model')\n",
    "        if i % 100 == 0:\n",
    "            print(i, total_steps, np.mean(r_list[-10:]), e, np.median(action_list[-200:]))            \n",
    "    saver.save(sess, path + '/model_' + str(i) + '.ckpt')\n",
    "print('Mean reward: {}'.format(sum(r_list) / num_episodes))"
   ]
  },
  {
   "cell_type": "markdown",
   "metadata": {},
   "source": [
    "To see the training progress type in console:\n",
    "tensorboard --logdir=log/DQN/"
   ]
  },
  {
   "cell_type": "markdown",
   "metadata": {},
   "source": [
    "## Model analysis"
   ]
  },
  {
   "cell_type": "code",
   "execution_count": 9,
   "metadata": {
    "collapsed": true
   },
   "outputs": [],
   "source": [
    "vars_ = tf.trainable_variables()[:len(tf.trainable_variables()) // 2]"
   ]
  },
  {
   "cell_type": "code",
   "execution_count": 10,
   "metadata": {},
   "outputs": [
    {
     "name": "stdout",
     "output_type": "stream",
     "text": [
      "(5, 5, 1, 32)\n",
      "4\n",
      "5\n",
      "5\n",
      "1\n",
      "32\n",
      "800\n",
      "(32,)\n",
      "1\n",
      "32\n",
      "32\n",
      "(3, 3, 32, 64)\n",
      "4\n",
      "3\n",
      "3\n",
      "32\n",
      "64\n",
      "18432\n",
      "(64,)\n",
      "1\n",
      "64\n",
      "64\n",
      "(5, 5, 64, 128)\n",
      "4\n",
      "5\n",
      "5\n",
      "64\n",
      "128\n",
      "204800\n",
      "(128,)\n",
      "1\n",
      "128\n",
      "128\n",
      "(20, 64)\n",
      "2\n",
      "20\n",
      "64\n",
      "1280\n",
      "(64,)\n",
      "1\n",
      "64\n",
      "64\n",
      "(64, 128)\n",
      "2\n",
      "64\n",
      "128\n",
      "8192\n",
      "(128,)\n",
      "1\n",
      "128\n",
      "128\n",
      "(256, 256)\n",
      "2\n",
      "256\n",
      "256\n",
      "65536\n",
      "(256,)\n",
      "1\n",
      "256\n",
      "256\n",
      "(256, 128)\n",
      "2\n",
      "256\n",
      "128\n",
      "32768\n",
      "(128,)\n",
      "1\n",
      "128\n",
      "128\n",
      "(64, 5)\n",
      "2\n",
      "64\n",
      "5\n",
      "320\n",
      "(64, 1)\n",
      "2\n",
      "64\n",
      "1\n",
      "64\n",
      "332992\n"
     ]
    }
   ],
   "source": [
    "total_parameters = 0\n",
    "for variable in vars_:\n",
    "    # shape is an array of tf.Dimension\n",
    "    shape = variable.get_shape()\n",
    "    print(shape)\n",
    "    print(len(shape))\n",
    "    variable_parameters = 1\n",
    "    for dim in shape:\n",
    "        print(dim)\n",
    "        variable_parameters *= dim.value\n",
    "    print(variable_parameters)\n",
    "    total_parameters += variable_parameters\n",
    "print(total_parameters)"
   ]
  },
  {
   "cell_type": "markdown",
   "metadata": {},
   "source": [
    "### Time of one pass"
   ]
  },
  {
   "cell_type": "code",
   "execution_count": 11,
   "metadata": {
    "collapsed": true
   },
   "outputs": [],
   "source": [
    "import pandas as pd\n",
    "%matplotlib inline"
   ]
  },
  {
   "cell_type": "code",
   "execution_count": 12,
   "metadata": {},
   "outputs": [
    {
     "name": "stdout",
     "output_type": "stream",
     "text": [
      "CPU times: user 0 ns, sys: 0 ns, total: 0 ns\n",
      "Wall time: 5.96 µs\n",
      "../cache/models/DQN/-8000\n",
      "INFO:tensorflow:Restoring parameters from ../cache/models/DQN/-8000\n"
     ]
    }
   ],
   "source": [
    "%time\n",
    "with tf.Session() as sess:\n",
    "    sess.run(init)\n",
    "    ckpt = tf.train.get_checkpoint_state(path)\n",
    "    print(ckpt.model_checkpoint_path)\n",
    "    saver.restore(sess, ckpt.model_checkpoint_path)\n",
    "    action_num = sess.run(main_wp.predict, feed_dict={main_wp.scalar_input: [train_batch[3][0]],\n",
    "                                                      main_wp.features_input: [train_batch[3][1]]})[0]"
   ]
  },
  {
   "cell_type": "code",
   "execution_count": 13,
   "metadata": {
    "collapsed": true
   },
   "outputs": [],
   "source": [
    "train_batch = my_buffer.sample(batch_size)"
   ]
  },
  {
   "cell_type": "code",
   "execution_count": 14,
   "metadata": {},
   "outputs": [
    {
     "name": "stdout",
     "output_type": "stream",
     "text": [
      "../cache/models/DQN/-8000\n",
      "INFO:tensorflow:Restoring parameters from ../cache/models/DQN/-8000\n",
      "CPU times: user 1min 19s, sys: 4.75 s, total: 1min 24s\n",
      "Wall time: 50.5 s\n"
     ]
    },
    {
     "data": {
      "image/png": "[encoded data removed]",
      "text/plain": [
       "<matplotlib.figure.Figure at 0x7f05188867b8>"
      ]
     },
     "metadata": {},
     "output_type": "display_data"
    },
    {
     "data": {
      "image/png": "[encoded data removed]",
      "text/plain": [
       "<matplotlib.figure.Figure at 0x7f051884b8d0>"
      ]
     },
     "metadata": {},
     "output_type": "display_data"
    },
    {
     "data": {
      "image/png": "[encoded data removed]",
      "text/plain": [
       "<matplotlib.figure.Figure at 0x7f05183826d8>"
      ]
     },
     "metadata": {},
     "output_type": "display_data"
    },
    {
     "data": {
      "image/png": "[encoded data removed]",
      "text/plain": [
       "<matplotlib.figure.Figure at 0x7f051830aba8>"
      ]
     },
     "metadata": {},
     "output_type": "display_data"
    },
    {
     "data": {
      "image/png": "[encoded data removed]",
      "text/plain": [
       "<matplotlib.figure.Figure at 0x7f051827cac8>"
      ]
     },
     "metadata": {},
     "output_type": "display_data"
    }
   ],
   "source": [
    "%%time\n",
    "with tf.Session() as sess:\n",
    "    qs1 = []\n",
    "    qs2 = []\n",
    "    qs3 = []\n",
    "    qs4 = []\n",
    "    qs5 = []\n",
    "\n",
    "    sess.run(init)\n",
    "    ckpt = tf.train.get_checkpoint_state(path)\n",
    "    print(ckpt.model_checkpoint_path)\n",
    "    saver.restore(sess, ckpt.model_checkpoint_path) # 'models/model_197000.ckpt')\n",
    "    \n",
    "    bank_range = np.linspace(-1000, 20000, 100)\n",
    "    stack_range = np.linspace(-1000, 10000, 100)\n",
    "    probability_range = np.linspace(-0.5, 1.5, 100)\n",
    "    round_count_range = np.linspace(-10, 50, 100)\n",
    "    player_pos_range = np.linspace(-1, 11, 100)\n",
    "\n",
    "    for b in range(len(train_batch)):\n",
    "        batch = train_batch[b]\n",
    "        img = batch[0]\n",
    "        features = batch[1]\n",
    "        \n",
    "        q1 = []\n",
    "        q2 = []\n",
    "        q3 = []\n",
    "        q4 = []\n",
    "        q5 = []\n",
    "        \n",
    "        for i in range(100):\n",
    "            features = batch[1].copy()\n",
    "            features[4] = bank_range[i]\n",
    "            action_num = sess.run(main_wp.Q_out, feed_dict={main_wp.scalar_input: [img],\n",
    "                                                          main_wp.features_input: [features]})[0]\n",
    "            q1.append(action_num)\n",
    "\n",
    "            features = batch[1].copy()\n",
    "            features[5] = stack_range[i]\n",
    "            action_num = sess.run(main_wp.Q_out, feed_dict={main_wp.scalar_input: [img],\n",
    "                                                          main_wp.features_input: [features]})[0]\n",
    "            q2.append(action_num)\n",
    "\n",
    "            features = batch[1].copy()\n",
    "            features[-1] = probability_range[i]\n",
    "            action_num = sess.run(main_wp.Q_out, feed_dict={main_wp.scalar_input: [img],\n",
    "                                                          main_wp.features_input: [features]})[0]\n",
    "            q3.append(action_num)\n",
    "\n",
    "            features = batch[1].copy()\n",
    "            features[-10] = round_count_range[i]\n",
    "            action_num = sess.run(main_wp.Q_out, feed_dict={main_wp.scalar_input: [img],\n",
    "                                                          main_wp.features_input: [features]})[0]\n",
    "            q4.append(action_num)\n",
    "            \n",
    "            features = batch[1].copy()\n",
    "            features[-9] = player_pos_range[i]\n",
    "            action_num = sess.run(main_wp.Q_out, feed_dict={main_wp.scalar_input: [img],\n",
    "                                                          main_wp.features_input: [features]})[0]\n",
    "            q5.append(action_num)\n",
    "        \n",
    "        if b == 0:\n",
    "            qs1 = np.array(q1)\n",
    "            qs2 = np.array(q2)\n",
    "            qs3 = np.array(q3)\n",
    "            qs4 = np.array(q4)\n",
    "            qs5 = np.array(q5)\n",
    "        else:\n",
    "            qs1 += np.array(q1)\n",
    "            qs2 += np.array(q2)\n",
    "            qs3 += np.array(q3)\n",
    "            qs4 += np.array(q4) \n",
    "            qs5 += np.array(q5) \n",
    "\n",
    "    qs1 /= len(train_batch)\n",
    "    qs2 /= len(train_batch)\n",
    "    qs3 /= len(train_batch)\n",
    "    qs4 /= len(train_batch)      \n",
    "    qs5 /= len(train_batch)      \n",
    "\n",
    "    df1 = pd.DataFrame(qs1, columns=['fold', 'call', 'raise_min', 'raise_max', 'raise_half'])\n",
    "    df1.plot(bank_range, ['fold', 'call', 'raise_min', 'raise_max', 'raise_half'], title='bank_range')\n",
    "\n",
    "    df2 = pd.DataFrame(qs2, columns=['fold', 'call', 'raise_min', 'raise_max', 'raise_half'])\n",
    "    df2.plot(stack_range, ['fold', 'call', 'raise_min', 'raise_max', 'raise_half'], title='stack_range')\n",
    "\n",
    "    df3 = pd.DataFrame(qs3, columns=['fold', 'call', 'raise_min', 'raise_max', 'raise_half'])\n",
    "    df3.plot(probability_range, ['fold', 'call', 'raise_min', 'raise_max', 'raise_half'], title='probability')\n",
    "    \n",
    "    df4 = pd.DataFrame(qs4, columns=['fold', 'call', 'raise_min', 'raise_max', 'raise_half'])\n",
    "    df4.plot(round_count_range, ['fold', 'call', 'raise_min', 'raise_max', 'raise_half'], title='round_count')\n",
    "    \n",
    "    df5 = pd.DataFrame(qs5, columns=['fold', 'call', 'raise_min', 'raise_max', 'raise_half'])\n",
    "    df5.plot(player_pos_range, ['fold', 'call', 'raise_min', 'raise_max', 'raise_half'], title='player_pos')"
   ]
  },
  {
   "cell_type": "markdown",
   "metadata": {
    "collapsed": true
   },
   "source": [
    "### Features"
   ]
  },
  {
   "cell_type": "code",
   "execution_count": 15,
   "metadata": {},
   "outputs": [
    {
     "data": {
      "text/plain": [
       "[0,\n",
       " 1,\n",
       " 0,\n",
       " 0,\n",
       " 75,\n",
       " 5526,\n",
       " 4,\n",
       " 5,\n",
       " 1,\n",
       " 3,\n",
       " 10,\n",
       " 11.0,\n",
       " 520,\n",
       " 1440,\n",
       " 4529,\n",
       " 1410,\n",
       " 0,\n",
       " 0,\n",
       " 0,\n",
       " 0.1097]"
      ]
     },
     "execution_count": 15,
     "metadata": {},
     "output_type": "execute_result"
    }
   ],
   "source": [
    "features"
   ]
  },
  {
   "cell_type": "markdown",
   "metadata": {},
   "source": [
    "### Hist with probability win in batch"
   ]
  },
  {
   "cell_type": "code",
   "execution_count": 16,
   "metadata": {
    "collapsed": true
   },
   "outputs": [],
   "source": [
    "pr = [t[1][-1] for t in train_batch]"
   ]
  },
  {
   "cell_type": "code",
   "execution_count": 17,
   "metadata": {},
   "outputs": [
    {
     "data": {
      "image/png": "[encoded data removed]",
      "text/plain": [
       "<matplotlib.figure.Figure at 0x7f05180c8588>"
      ]
     },
     "metadata": {},
     "output_type": "display_data"
    }
   ],
   "source": [
    "plt.hist(pr, bins=30);"
   ]
  },
  {
   "cell_type": "code",
   "execution_count": 18,
   "metadata": {
    "collapsed": true
   },
   "outputs": [],
   "source": [
    "pr = [t[1][10] for t in train_batch]"
   ]
  },
  {
   "cell_type": "code",
   "execution_count": 19,
   "metadata": {},
   "outputs": [
    {
     "data": {
      "image/png": "[encoded data removed]",
      "text/plain": [
       "<matplotlib.figure.Figure at 0x7f0513f9f7b8>"
      ]
     },
     "metadata": {},
     "output_type": "display_data"
    }
   ],
   "source": [
    "plt.hist(pr, bins=30);"
   ]
  },
  {
   "cell_type": "markdown",
   "metadata": {},
   "source": [
    "### Weights of the network"
   ]
  },
  {
   "cell_type": "code",
   "execution_count": 20,
   "metadata": {
    "collapsed": true
   },
   "outputs": [],
   "source": [
    "kernel = tf.get_collection(tf.GraphKeys.GLOBAL_VARIABLES, 'conv2d/kernel')\n",
    "d = tf.get_collection(tf.GraphKeys.GLOBAL_VARIABLES, 'dense/kernel')"
   ]
  },
  {
   "cell_type": "code",
   "execution_count": 21,
   "metadata": {
    "collapsed": true
   },
   "outputs": [],
   "source": [
    "k = kernel[0]\n",
    "d = d[0]"
   ]
  },
  {
   "cell_type": "code",
   "execution_count": 22,
   "metadata": {},
   "outputs": [
    {
     "name": "stdout",
     "output_type": "stream",
     "text": [
      "INFO:tensorflow:Restoring parameters from ../cache/models/DQN/-8000\n"
     ]
    }
   ],
   "source": [
    "with tf.Session() as sess:\n",
    "    sess.run(init)\n",
    "    ckpt = tf.train.get_checkpoint_state(path)\n",
    "    saver.restore(sess, ckpt.model_checkpoint_path)\n",
    "    c1 = k.eval(session=sess)\n",
    "    d1 = d.eval(session=sess)    "
   ]
  },
  {
   "cell_type": "code",
   "execution_count": 23,
   "metadata": {},
   "outputs": [
    {
     "data": {
      "text/plain": [
       "((5, 5, 1, 32), (20, 64))"
      ]
     },
     "execution_count": 23,
     "metadata": {},
     "output_type": "execute_result"
    }
   ],
   "source": [
    "c1.shape, d1.shape"
   ]
  },
  {
   "cell_type": "code",
   "execution_count": 24,
   "metadata": {},
   "outputs": [
    {
     "data": {
      "text/plain": [
       "<matplotlib.colorbar.Colorbar at 0x7f0513daae48>"
      ]
     },
     "execution_count": 24,
     "metadata": {},
     "output_type": "execute_result"
    },
    {
     "data": {
      "image/png": "[encoded data removed]",
      "text/plain": [
       "<matplotlib.figure.Figure at 0x7f0513eb3400>"
      ]
     },
     "metadata": {},
     "output_type": "display_data"
    }
   ],
   "source": [
    "plt.imshow(d1)\n",
    "plt.gray()\n",
    "plt.colorbar()"
   ]
  },
  {
   "cell_type": "code",
   "execution_count": 27,
   "metadata": {},
   "outputs": [
    {
     "data": {
      "text/plain": [
       "<matplotlib.colorbar.Colorbar at 0x7f0513f99240>"
      ]
     },
     "execution_count": 27,
     "metadata": {},
     "output_type": "execute_result"
    },
    {
     "data": {
      "image/png": "[encoded data removed]",
      "text/plain": [
       "<matplotlib.figure.Figure at 0x7f0513eb8a20>"
      ]
     },
     "metadata": {},
     "output_type": "display_data"
    }
   ],
   "source": [
    "plt.imshow(c1[:, :, 0, 1])\n",
    "plt.gray()\n",
    "plt.colorbar()"
   ]
  },
  {
   "cell_type": "code",
   "execution_count": null,
   "metadata": {
    "collapsed": true
   },
   "outputs": [],
   "source": []
  }
 ],
 "metadata": {
  "kernelspec": {
   "display_name": "Python 3",
   "language": "python",
   "name": "python3"
  },
  "language_info": {
   "codemirror_mode": {
    "name": "ipython",
    "version": 3
   },
   "file_extension": ".py",
   "mimetype": "text/x-python",
   "name": "python",
   "nbconvert_exporter": "python",
   "pygments_lexer": "ipython3",
   "version": "3.6.0"
  }
 },
 "nbformat": 4,
 "nbformat_minor": 2
}
